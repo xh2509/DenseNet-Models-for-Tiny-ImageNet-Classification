{
  "nbformat": 4,
  "nbformat_minor": 0,
  "metadata": {
    "colab": {
      "name": "Original_model1.ipynb",
      "provenance": [],
      "collapsed_sections": []
    },
    "kernelspec": {
      "name": "python3",
      "display_name": "Python 3"
    },
    "language_info": {
      "name": "python"
    },
    "accelerator": "GPU"
  },
  "cells": [
    {
      "cell_type": "code",
      "execution_count": null,
      "metadata": {
        "id": "yC_VInVrBN4C"
      },
      "outputs": [],
      "source": [
        "import tensorflow as tf\n",
        "import keras\n",
        "import numpy as np\n",
        "import pandas as pd\n",
        "import matplotlib.pyplot as plt\n",
        "\n",
        "from tensorflow.keras.layers import Conv2D, Input, AveragePooling2D, Activation, GlobalAveragePooling2D, Concatenate, BatchNormalization, MaxPooling2D, Lambda\n",
        "from tensorflow.keras.optimizers import Adam\n",
        "from tensorflow.keras.preprocessing.image import ImageDataGenerator\n",
        "from keras.layers.merge import concatenate\n",
        "from tensorflow.keras.models import load_model\n",
        "from imgaug import augmenters as iaa\n",
        "\n",
        "num_classes = 200"
      ]
    },
    {
      "cell_type": "markdown",
      "source": [
        "## Import Dataset"
      ],
      "metadata": {
        "id": "OyLpMuqOBcD-"
      }
    },
    {
      "cell_type": "code",
      "source": [
        "from google.colab import drive\n",
        "drive.mount('/content/drive', force_remount=True)"
      ],
      "metadata": {
        "colab": {
          "base_uri": "https://localhost:8080/"
        },
        "id": "RY-obgfaBaBX",
        "outputId": "4556b0b2-3d71-4e0d-f6ed-c82c948aad08"
      },
      "execution_count": null,
      "outputs": [
        {
          "output_type": "stream",
          "name": "stdout",
          "text": [
            "Mounted at /content/drive\n"
          ]
        }
      ]
    },
    {
      "cell_type": "code",
      "source": [
        "!wget http://cs231n.stanford.edu/tiny-imagenet-200.zip\n",
        "!unzip -qq 'tiny-imagenet-200.zip'"
      ],
      "metadata": {
        "colab": {
          "base_uri": "https://localhost:8080/"
        },
        "id": "4Zp8EJi8BflH",
        "outputId": "e71eb16d-d4b1-4668-b6aa-37fdc0ff8620"
      },
      "execution_count": null,
      "outputs": [
        {
          "output_type": "stream",
          "name": "stdout",
          "text": [
            "--2021-12-21 13:16:52--  http://cs231n.stanford.edu/tiny-imagenet-200.zip\n",
            "Resolving cs231n.stanford.edu (cs231n.stanford.edu)... 171.64.68.10\n",
            "Connecting to cs231n.stanford.edu (cs231n.stanford.edu)|171.64.68.10|:80... connected.\n",
            "HTTP request sent, awaiting response... 200 OK\n",
            "Length: 248100043 (237M) [application/zip]\n",
            "Saving to: ‘tiny-imagenet-200.zip’\n",
            "\n",
            "tiny-imagenet-200.z 100%[===================>] 236.61M  36.4MB/s    in 8.2s    \n",
            "\n",
            "2021-12-21 13:17:00 (29.0 MB/s) - ‘tiny-imagenet-200.zip’ saved [248100043/248100043]\n",
            "\n"
          ]
        }
      ]
    },
    {
      "cell_type": "code",
      "source": [
        "val_data = pd.read_csv('./tiny-imagenet-200/val/val_annotations.txt', sep='\\t', header=None, names=['File', 'Class', 'X', 'Y', 'H', 'W'])\n",
        "val_data.drop(['X', 'Y', 'H', 'W'], axis=1, inplace=True)"
      ],
      "metadata": {
        "id": "wyCRc5beDVNO"
      },
      "execution_count": null,
      "outputs": []
    },
    {
      "cell_type": "code",
      "source": [
        "train_data = ImageDataGenerator(rescale= 1./255)\n",
        "\n",
        "valid_data = ImageDataGenerator(rescale=1./255)\n",
        "\n",
        "train_generator = train_data.flow_from_directory( r'./tiny-imagenet-200/train/', \n",
        "                                                 target_size=(32, 32), \n",
        "                                                 color_mode='rgb', \n",
        "                                                 batch_size=256, \n",
        "                                                 class_mode='categorical', \n",
        "                                                 shuffle=True, \n",
        "                                                 seed=42)\n",
        "\n",
        "validation_generator = valid_data.flow_from_dataframe(val_data, \n",
        "                                                      directory='./tiny-imagenet-200/val/images/', \n",
        "                                                      x_col='File', \n",
        "                                                      y_col='Class', \n",
        "                                                      target_size=(64, 64),\n",
        "                                                      color_mode='rgb', \n",
        "                                                      class_mode='categorical', \n",
        "                                                      batch_size=256, \n",
        "                                                      shuffle=True, \n",
        "                                                      seed=42)"
      ],
      "metadata": {
        "colab": {
          "base_uri": "https://localhost:8080/"
        },
        "id": "x_eVM8G1C_Ms",
        "outputId": "12664d3c-acf9-4044-b6a8-791566319f11"
      },
      "execution_count": null,
      "outputs": [
        {
          "output_type": "stream",
          "name": "stdout",
          "text": [
            "Found 100000 images belonging to 200 classes.\n",
            "Found 10000 validated image filenames belonging to 200 classes.\n"
          ]
        }
      ]
    },
    {
      "cell_type": "markdown",
      "source": [
        "## Original Paper's Model 1"
      ],
      "metadata": {
        "id": "4skDdwfNC_0W"
      }
    },
    {
      "cell_type": "code",
      "source": [
        "def space_to_depth(x):\n",
        "    return tf.nn.space_to_depth(x, block_size=2)"
      ],
      "metadata": {
        "id": "nhWJ8B2TCPQn"
      },
      "execution_count": null,
      "outputs": []
    },
    {
      "cell_type": "code",
      "source": [
        "input = Input(shape=(None, None, 3))\n",
        "\n",
        "# Block 1\n",
        "\n",
        "layer1 = Conv2D(32, (3,3), strides=(1,1), padding='same', name='conv_1', use_bias=False)(input)\n",
        "layer1 = BatchNormalization(name='norm_1')(layer1)\n",
        "layer1 = Activation(\"relu\")(layer1)\n",
        "\n",
        "layer2 = Conv2D(64, (3,3), strides=(1,1), padding='same', name='conv_2', use_bias=False)(layer1)\n",
        "layer2 = BatchNormalization(name='norm_2')(layer2)\n",
        "layer2 = Activation(\"relu\")(layer2)\n",
        "\n",
        "layer3 = Conv2D(128, (3,3), strides=(1,1), padding='same', name='conv_3', use_bias=False)(layer2)\n",
        "layer3 = BatchNormalization(name='norm_3')(layer3)\n",
        "layer3 = Activation(\"relu\")(layer3)\n",
        "\n",
        "layer4 = Conv2D(256, (3,3), strides=(1,1), padding='same', name='conv_4', use_bias=False)(layer3)\n",
        "layer4 = BatchNormalization(name='norm_4')(layer4)\n",
        "layer4 = Activation(\"relu\")(layer4)\n",
        "\n",
        "layer5 = Conv2D(512, (3,3), strides=(1,1), padding='same', name='conv_5', use_bias=False)(layer4)\n",
        "layer5 = BatchNormalization(name='norm_5')(layer5)\n",
        "layer5 = Activation(\"relu\")(layer5)\n",
        "\n",
        "layer6 = MaxPooling2D(pool_size=(2, 2))(layer5)\n",
        "\n",
        "skip_connection_1 = layer6\n",
        "\n",
        "# Block 2\n",
        "\n",
        "layer7 = Conv2D(64, (3,3), strides=(1,1), padding='same', name='conv_7', use_bias=False)(layer6)\n",
        "layer7 = BatchNormalization(name='norm_7')(layer7)\n",
        "layer7 = Activation(\"relu\")(layer7)\n",
        "\n",
        "layer8 = Conv2D(128, (3,3), strides=(1,1), padding='same', name='conv_8', use_bias=False)(layer7)\n",
        "layer8 = BatchNormalization(name='norm_8')(layer8)\n",
        "layer8 = Activation(\"relu\")(layer8)\n",
        "\n",
        "layer9 = Conv2D(256, (3,3), strides=(1,1), padding='same', name='conv_9', use_bias=False)(layer8)\n",
        "layer9 = BatchNormalization(name='norm_9')(layer9)\n",
        "layer9 = Activation(\"relu\")(layer9)\n",
        "\n",
        "layer10 = Conv2D(512, (3,3), strides=(1,1), padding='same', name='conv_10', use_bias=False)(layer9)\n",
        "layer10 = BatchNormalization(name='norm_10')(layer10)\n",
        "layer10 = Activation(\"relu\")(layer10)\n",
        "\n",
        "layer11 = Conv2D(1024, (3,3), strides=(1,1), padding='same', name='conv_11', use_bias=False)(layer10)\n",
        "layer11 = BatchNormalization(name='norm_11')(layer11)\n",
        "layer11 = Activation(\"relu\")(layer11)\n",
        "\n",
        "layer12 = MaxPooling2D(pool_size=(2, 2))(layer11)\n",
        "\n",
        "skip_connection_1 = Lambda(space_to_depth)(skip_connection_1)\n",
        "\n",
        "layer13 = concatenate([skip_connection_1, layer12])\n",
        "\n",
        "skip_connection_2 = layer13\n",
        "\n",
        "# Block 3\n",
        "\n",
        "layer14 = Conv2D(32, (3,3), strides=(1,1), padding='same', name='conv_14', use_bias=False)(layer13)\n",
        "layer14 = BatchNormalization(name='norm_14')(layer14)\n",
        "layer14 = Activation(\"relu\")(layer14)\n",
        "\n",
        "layer15 = Conv2D(128, (3,3), strides=(1,1), padding='same', name='conv_15', use_bias=False)(layer14)\n",
        "layer15 = BatchNormalization(name='norm_15')(layer15)\n",
        "layer15 = Activation(\"relu\")(layer15)\n",
        "\n",
        "layer16 = Conv2D(256, (3,3), strides=(1,1), padding='same', name='conv_16', use_bias=False)(layer15)\n",
        "layer16 = BatchNormalization(name='norm_16')(layer16)\n",
        "layer16 = Activation(\"relu\")(layer16)\n",
        "\n",
        "layer17 = Conv2D(512, (3,3), strides=(1,1), padding='same', name='conv_17', use_bias=False)(layer16)\n",
        "layer17 = BatchNormalization(name='norm_17')(layer17)\n",
        "layer17 = Activation(\"relu\")(layer17)\n",
        "\n",
        "layer18 = Conv2D(1024, (3,3), strides=(1,1), padding='same', name='conv_18', use_bias=False)(layer17)\n",
        "layer18 = BatchNormalization(name='norm_18')(layer18)\n",
        "layer18 = Activation(\"relu\")(layer18)\n",
        "\n",
        "layer19 = MaxPooling2D(pool_size=(2, 2))(layer18)\n",
        "\n",
        "skip_connection_2 = Lambda(space_to_depth)(skip_connection_2)\n",
        "\n",
        "layer20 = concatenate([skip_connection_2, layer19])\n",
        "\n",
        "layer21 = Conv2D(num_classes, (1,1), name='conv_21', use_bias=False)(layer20)\n",
        "layer21 = BatchNormalization(name='norm_21')(layer21)\n",
        "\n",
        "layer22 = GlobalAveragePooling2D(data_format=None)(layer21)\n",
        "\n",
        "layer23 = Activation('softmax')(layer22)\n",
        "\n",
        "output = layer23"
      ],
      "metadata": {
        "id": "ZHaJf_6dBjox"
      },
      "execution_count": null,
      "outputs": []
    },
    {
      "cell_type": "code",
      "source": [
        "model = tf.keras.models.Model(inputs=[input], outputs=[output])\n",
        "model.summary()"
      ],
      "metadata": {
        "colab": {
          "base_uri": "https://localhost:8080/"
        },
        "id": "kATw4enfB7PD",
        "outputId": "6b9fd97c-a70b-4703-90ee-a3313c002bd4"
      },
      "execution_count": null,
      "outputs": [
        {
          "output_type": "stream",
          "name": "stdout",
          "text": [
            "Model: \"model_1\"\n",
            "__________________________________________________________________________________________________\n",
            " Layer (type)                   Output Shape         Param #     Connected to                     \n",
            "==================================================================================================\n",
            " input_2 (InputLayer)           [(None, None, None,  0           []                               \n",
            "                                 3)]                                                              \n",
            "                                                                                                  \n",
            " conv_1 (Conv2D)                (None, None, None,   864         ['input_2[0][0]']                \n",
            "                                32)                                                               \n",
            "                                                                                                  \n",
            " norm_1 (BatchNormalization)    (None, None, None,   128         ['conv_1[0][0]']                 \n",
            "                                32)                                                               \n",
            "                                                                                                  \n",
            " activation_16 (Activation)     (None, None, None,   0           ['norm_1[0][0]']                 \n",
            "                                32)                                                               \n",
            "                                                                                                  \n",
            " conv_2 (Conv2D)                (None, None, None,   18432       ['activation_16[0][0]']          \n",
            "                                64)                                                               \n",
            "                                                                                                  \n",
            " norm_2 (BatchNormalization)    (None, None, None,   256         ['conv_2[0][0]']                 \n",
            "                                64)                                                               \n",
            "                                                                                                  \n",
            " activation_17 (Activation)     (None, None, None,   0           ['norm_2[0][0]']                 \n",
            "                                64)                                                               \n",
            "                                                                                                  \n",
            " conv_3 (Conv2D)                (None, None, None,   73728       ['activation_17[0][0]']          \n",
            "                                128)                                                              \n",
            "                                                                                                  \n",
            " norm_3 (BatchNormalization)    (None, None, None,   512         ['conv_3[0][0]']                 \n",
            "                                128)                                                              \n",
            "                                                                                                  \n",
            " activation_18 (Activation)     (None, None, None,   0           ['norm_3[0][0]']                 \n",
            "                                128)                                                              \n",
            "                                                                                                  \n",
            " conv_4 (Conv2D)                (None, None, None,   294912      ['activation_18[0][0]']          \n",
            "                                256)                                                              \n",
            "                                                                                                  \n",
            " norm_4 (BatchNormalization)    (None, None, None,   1024        ['conv_4[0][0]']                 \n",
            "                                256)                                                              \n",
            "                                                                                                  \n",
            " activation_19 (Activation)     (None, None, None,   0           ['norm_4[0][0]']                 \n",
            "                                256)                                                              \n",
            "                                                                                                  \n",
            " conv_5 (Conv2D)                (None, None, None,   1179648     ['activation_19[0][0]']          \n",
            "                                512)                                                              \n",
            "                                                                                                  \n",
            " norm_5 (BatchNormalization)    (None, None, None,   2048        ['conv_5[0][0]']                 \n",
            "                                512)                                                              \n",
            "                                                                                                  \n",
            " activation_20 (Activation)     (None, None, None,   0           ['norm_5[0][0]']                 \n",
            "                                512)                                                              \n",
            "                                                                                                  \n",
            " max_pooling2d_3 (MaxPooling2D)  (None, None, None,   0          ['activation_20[0][0]']          \n",
            "                                512)                                                              \n",
            "                                                                                                  \n",
            " conv_7 (Conv2D)                (None, None, None,   294912      ['max_pooling2d_3[0][0]']        \n",
            "                                64)                                                               \n",
            "                                                                                                  \n",
            " norm_7 (BatchNormalization)    (None, None, None,   256         ['conv_7[0][0]']                 \n",
            "                                64)                                                               \n",
            "                                                                                                  \n",
            " activation_21 (Activation)     (None, None, None,   0           ['norm_7[0][0]']                 \n",
            "                                64)                                                               \n",
            "                                                                                                  \n",
            " conv_8 (Conv2D)                (None, None, None,   73728       ['activation_21[0][0]']          \n",
            "                                128)                                                              \n",
            "                                                                                                  \n",
            " norm_8 (BatchNormalization)    (None, None, None,   512         ['conv_8[0][0]']                 \n",
            "                                128)                                                              \n",
            "                                                                                                  \n",
            " activation_22 (Activation)     (None, None, None,   0           ['norm_8[0][0]']                 \n",
            "                                128)                                                              \n",
            "                                                                                                  \n",
            " conv_9 (Conv2D)                (None, None, None,   294912      ['activation_22[0][0]']          \n",
            "                                256)                                                              \n",
            "                                                                                                  \n",
            " norm_9 (BatchNormalization)    (None, None, None,   1024        ['conv_9[0][0]']                 \n",
            "                                256)                                                              \n",
            "                                                                                                  \n",
            " activation_23 (Activation)     (None, None, None,   0           ['norm_9[0][0]']                 \n",
            "                                256)                                                              \n",
            "                                                                                                  \n",
            " conv_10 (Conv2D)               (None, None, None,   1179648     ['activation_23[0][0]']          \n",
            "                                512)                                                              \n",
            "                                                                                                  \n",
            " norm_10 (BatchNormalization)   (None, None, None,   2048        ['conv_10[0][0]']                \n",
            "                                512)                                                              \n",
            "                                                                                                  \n",
            " activation_24 (Activation)     (None, None, None,   0           ['norm_10[0][0]']                \n",
            "                                512)                                                              \n",
            "                                                                                                  \n",
            " conv_11 (Conv2D)               (None, None, None,   4718592     ['activation_24[0][0]']          \n",
            "                                1024)                                                             \n",
            "                                                                                                  \n",
            " norm_11 (BatchNormalization)   (None, None, None,   4096        ['conv_11[0][0]']                \n",
            "                                1024)                                                             \n",
            "                                                                                                  \n",
            " activation_25 (Activation)     (None, None, None,   0           ['norm_11[0][0]']                \n",
            "                                1024)                                                             \n",
            "                                                                                                  \n",
            " lambda_2 (Lambda)              (None, None, None,   0           ['max_pooling2d_3[0][0]']        \n",
            "                                2048)                                                             \n",
            "                                                                                                  \n",
            " max_pooling2d_4 (MaxPooling2D)  (None, None, None,   0          ['activation_25[0][0]']          \n",
            "                                1024)                                                             \n",
            "                                                                                                  \n",
            " concatenate_2 (Concatenate)    (None, None, None,   0           ['lambda_2[0][0]',               \n",
            "                                3072)                             'max_pooling2d_4[0][0]']        \n",
            "                                                                                                  \n",
            " conv_14 (Conv2D)               (None, None, None,   884736      ['concatenate_2[0][0]']          \n",
            "                                32)                                                               \n",
            "                                                                                                  \n",
            " norm_14 (BatchNormalization)   (None, None, None,   128         ['conv_14[0][0]']                \n",
            "                                32)                                                               \n",
            "                                                                                                  \n",
            " activation_26 (Activation)     (None, None, None,   0           ['norm_14[0][0]']                \n",
            "                                32)                                                               \n",
            "                                                                                                  \n",
            " conv_15 (Conv2D)               (None, None, None,   36864       ['activation_26[0][0]']          \n",
            "                                128)                                                              \n",
            "                                                                                                  \n",
            " norm_15 (BatchNormalization)   (None, None, None,   512         ['conv_15[0][0]']                \n",
            "                                128)                                                              \n",
            "                                                                                                  \n",
            " activation_27 (Activation)     (None, None, None,   0           ['norm_15[0][0]']                \n",
            "                                128)                                                              \n",
            "                                                                                                  \n",
            " conv_16 (Conv2D)               (None, None, None,   294912      ['activation_27[0][0]']          \n",
            "                                256)                                                              \n",
            "                                                                                                  \n",
            " norm_16 (BatchNormalization)   (None, None, None,   1024        ['conv_16[0][0]']                \n",
            "                                256)                                                              \n",
            "                                                                                                  \n",
            " activation_28 (Activation)     (None, None, None,   0           ['norm_16[0][0]']                \n",
            "                                256)                                                              \n",
            "                                                                                                  \n",
            " conv_17 (Conv2D)               (None, None, None,   1179648     ['activation_28[0][0]']          \n",
            "                                512)                                                              \n",
            "                                                                                                  \n",
            " norm_17 (BatchNormalization)   (None, None, None,   2048        ['conv_17[0][0]']                \n",
            "                                512)                                                              \n",
            "                                                                                                  \n",
            " activation_29 (Activation)     (None, None, None,   0           ['norm_17[0][0]']                \n",
            "                                512)                                                              \n",
            "                                                                                                  \n",
            " conv_18 (Conv2D)               (None, None, None,   4718592     ['activation_29[0][0]']          \n",
            "                                1024)                                                             \n",
            "                                                                                                  \n",
            " norm_18 (BatchNormalization)   (None, None, None,   4096        ['conv_18[0][0]']                \n",
            "                                1024)                                                             \n",
            "                                                                                                  \n",
            " activation_30 (Activation)     (None, None, None,   0           ['norm_18[0][0]']                \n",
            "                                1024)                                                             \n",
            "                                                                                                  \n",
            " lambda_3 (Lambda)              (None, None, None,   0           ['concatenate_2[0][0]']          \n",
            "                                12288)                                                            \n",
            "                                                                                                  \n",
            " max_pooling2d_5 (MaxPooling2D)  (None, None, None,   0          ['activation_30[0][0]']          \n",
            "                                1024)                                                             \n",
            "                                                                                                  \n",
            " concatenate_3 (Concatenate)    (None, None, None,   0           ['lambda_3[0][0]',               \n",
            "                                13312)                            'max_pooling2d_5[0][0]']        \n",
            "                                                                                                  \n",
            " conv_21 (Conv2D)               (None, None, None,   2662400     ['concatenate_3[0][0]']          \n",
            "                                200)                                                              \n",
            "                                                                                                  \n",
            " norm_21 (BatchNormalization)   (None, None, None,   800         ['conv_21[0][0]']                \n",
            "                                200)                                                              \n",
            "                                                                                                  \n",
            " global_average_pooling2d_1 (Gl  (None, 200)         0           ['norm_21[0][0]']                \n",
            " obalAveragePooling2D)                                                                            \n",
            "                                                                                                  \n",
            " activation_31 (Activation)     (None, 200)          0           ['global_average_pooling2d_1[0][0\n",
            "                                                                 ]']                              \n",
            "                                                                                                  \n",
            "==================================================================================================\n",
            "Total params: 17,927,040\n",
            "Trainable params: 17,916,784\n",
            "Non-trainable params: 10,256\n",
            "__________________________________________________________________________________________________\n"
          ]
        }
      ]
    },
    {
      "cell_type": "code",
      "source": [
        "lr_reducer = tf.keras.callbacks.ReduceLROnPlateau(factor=np.sqrt(0.1), cooldown=0, patience=5, min_lr=0.5e-6)\n",
        "\n",
        "model.compile(loss='categorical_crossentropy',\n",
        "              optimizer='adam',\n",
        "              metrics=['accuracy'])"
      ],
      "metadata": {
        "id": "ZgZtuV-5Cwvl"
      },
      "execution_count": null,
      "outputs": []
    },
    {
      "cell_type": "markdown",
      "source": [
        "## Training"
      ],
      "metadata": {
        "id": "ZCyrO4yqEB8Z"
      }
    },
    {
      "cell_type": "markdown",
      "source": [
        "### Epoch 1-15 \n",
        "### 32x32 lr_reducer"
      ],
      "metadata": {
        "id": "RbiEQac_NjzE"
      }
    },
    {
      "cell_type": "code",
      "source": [
        "history1 = model.fit(train_generator, \n",
        "                     epochs=15, \n",
        "                     steps_per_epoch=200, \n",
        "                     validation_data=validation_generator, \n",
        "                     callbacks=[lr_reducer])\n",
        "\n",
        "model.save('/content/drive/My Drive/4040_final_project/Colab Notebooks/Saved Models_1/Model1_1.h5') \n",
        "df = pd.DataFrame(history1.history)\n",
        "df.to_csv('history1.csv')\n",
        "from google.colab import files\n",
        "files.download('history1.csv')"
      ],
      "metadata": {
        "colab": {
          "base_uri": "https://localhost:8080/",
          "height": 17
        },
        "id": "1qJUyaaqD-KU",
        "outputId": "c4716e8a-c5b1-4ee7-9081-033df953d5d9"
      },
      "execution_count": null,
      "outputs": [
        {
          "output_type": "display_data",
          "data": {
            "application/javascript": [
              "\n",
              "    async function download(id, filename, size) {\n",
              "      if (!google.colab.kernel.accessAllowed) {\n",
              "        return;\n",
              "      }\n",
              "      const div = document.createElement('div');\n",
              "      const label = document.createElement('label');\n",
              "      label.textContent = `Downloading \"${filename}\": `;\n",
              "      div.appendChild(label);\n",
              "      const progress = document.createElement('progress');\n",
              "      progress.max = size;\n",
              "      div.appendChild(progress);\n",
              "      document.body.appendChild(div);\n",
              "\n",
              "      const buffers = [];\n",
              "      let downloaded = 0;\n",
              "\n",
              "      const channel = await google.colab.kernel.comms.open(id);\n",
              "      // Send a message to notify the kernel that we're ready.\n",
              "      channel.send({})\n",
              "\n",
              "      for await (const message of channel.messages) {\n",
              "        // Send a message to notify the kernel that we're ready.\n",
              "        channel.send({})\n",
              "        if (message.buffers) {\n",
              "          for (const buffer of message.buffers) {\n",
              "            buffers.push(buffer);\n",
              "            downloaded += buffer.byteLength;\n",
              "            progress.value = downloaded;\n",
              "          }\n",
              "        }\n",
              "      }\n",
              "      const blob = new Blob(buffers, {type: 'application/binary'});\n",
              "      const a = document.createElement('a');\n",
              "      a.href = window.URL.createObjectURL(blob);\n",
              "      a.download = filename;\n",
              "      div.appendChild(a);\n",
              "      a.click();\n",
              "      div.remove();\n",
              "    }\n",
              "  "
            ],
            "text/plain": [
              "<IPython.core.display.Javascript object>"
            ]
          },
          "metadata": {}
        },
        {
          "output_type": "display_data",
          "data": {
            "application/javascript": [
              "download(\"download_3ddf855f-63a4-4536-9b02-59117faae42d\", \"history1.csv\", 1539)"
            ],
            "text/plain": [
              "<IPython.core.display.Javascript object>"
            ]
          },
          "metadata": {}
        }
      ]
    },
    {
      "cell_type": "markdown",
      "source": [
        "### Epoch 15-45\n",
        "### 64x64 "
      ],
      "metadata": {
        "id": "zZcghff6Npnw"
      }
    },
    {
      "cell_type": "code",
      "source": [
        "train_generator = train_data.flow_from_directory( r'./tiny-imagenet-200/train/', \n",
        "                                                    target_size=(64, 64), \n",
        "                                                    color_mode='rgb', \n",
        "                                                    batch_size=64, \n",
        "                                                    class_mode='categorical', \n",
        "                                                    shuffle=True, \n",
        "                                                    seed=42)\n",
        "\n",
        "validation_generator = valid_data.flow_from_dataframe(val_data, \n",
        "                                                         directory='./tiny-imagenet-200/val/images/', \n",
        "                                                         x_col='File', \n",
        "                                                         y_col='Class', \n",
        "                                                         target_size=(64, 64),\n",
        "                                                         color_mode='rgb', \n",
        "                                                         class_mode='categorical', \n",
        "                                                         batch_size=64, \n",
        "                                                         shuffle=True, \n",
        "                                                         seed=42)"
      ],
      "metadata": {
        "id": "67kSHScjvvD3"
      },
      "execution_count": null,
      "outputs": []
    },
    {
      "cell_type": "code",
      "source": [
        "model = load_model('/content/drive/My Drive/4040_final_project/Colab Notebooks/Saved Models_1/Model1_1.h5')\n",
        "\n",
        "history2 = model.fit(train_generator, \n",
        "                     epochs=30, \n",
        "                     steps_per_epoch=200, \n",
        "                     validation_data=validation_generator)\n",
        "\n",
        "model.save('/content/drive/My Drive/4040_final_project/Colab Notebooks/Saved Models_1/Model1_2.h5') \n",
        "df = pd.DataFrame(history2.history)\n",
        "df.to_csv('history2.csv')\n",
        "from google.colab import files\n",
        "files.download('history2.csv')"
      ],
      "metadata": {
        "colab": {
          "base_uri": "https://localhost:8080/",
          "height": 1000
        },
        "id": "yXxjkkO6MRYy",
        "outputId": "8018b216-1428-4c83-d928-7527b1569217"
      },
      "execution_count": null,
      "outputs": [
        {
          "output_type": "stream",
          "name": "stdout",
          "text": [
            "Epoch 1/30\n",
            "200/200 [==============================] - 83s 411ms/step - loss: 3.0180 - accuracy: 0.3328 - val_loss: 4.0202 - val_accuracy: 0.1863\n",
            "Epoch 2/30\n",
            "200/200 [==============================] - 82s 410ms/step - loss: 2.8010 - accuracy: 0.3701 - val_loss: 4.1471 - val_accuracy: 0.1705\n",
            "Epoch 3/30\n",
            "200/200 [==============================] - 82s 410ms/step - loss: 2.6619 - accuracy: 0.3998 - val_loss: 3.1779 - val_accuracy: 0.2908\n",
            "Epoch 4/30\n",
            "200/200 [==============================] - 82s 411ms/step - loss: 2.5500 - accuracy: 0.4203 - val_loss: 3.1909 - val_accuracy: 0.2846\n",
            "Epoch 5/30\n",
            "200/200 [==============================] - 84s 419ms/step - loss: 2.4969 - accuracy: 0.4224 - val_loss: 2.8337 - val_accuracy: 0.3525\n",
            "Epoch 6/30\n",
            "200/200 [==============================] - 82s 410ms/step - loss: 2.4087 - accuracy: 0.4495 - val_loss: 3.1104 - val_accuracy: 0.3062\n",
            "Epoch 7/30\n",
            "200/200 [==============================] - 82s 410ms/step - loss: 2.3503 - accuracy: 0.4617 - val_loss: 2.8888 - val_accuracy: 0.3455\n",
            "Epoch 8/30\n",
            "200/200 [==============================] - 82s 409ms/step - loss: 2.2964 - accuracy: 0.4643 - val_loss: 3.0240 - val_accuracy: 0.3224\n",
            "Epoch 9/30\n",
            "200/200 [==============================] - 82s 409ms/step - loss: 2.2423 - accuracy: 0.4770 - val_loss: 2.6582 - val_accuracy: 0.3815\n",
            "Epoch 10/30\n",
            "200/200 [==============================] - 82s 410ms/step - loss: 2.2371 - accuracy: 0.4825 - val_loss: 3.0958 - val_accuracy: 0.3245\n",
            "Epoch 11/30\n",
            "200/200 [==============================] - 82s 410ms/step - loss: 2.1630 - accuracy: 0.4930 - val_loss: 2.8081 - val_accuracy: 0.3538\n",
            "Epoch 12/30\n",
            "200/200 [==============================] - 82s 409ms/step - loss: 2.1233 - accuracy: 0.5015 - val_loss: 2.8448 - val_accuracy: 0.3505\n",
            "Epoch 13/30\n",
            "200/200 [==============================] - 82s 410ms/step - loss: 2.0804 - accuracy: 0.5175 - val_loss: 2.5677 - val_accuracy: 0.3968\n",
            "Epoch 14/30\n",
            "200/200 [==============================] - 82s 410ms/step - loss: 2.0460 - accuracy: 0.5204 - val_loss: 2.7326 - val_accuracy: 0.3762\n",
            "Epoch 15/30\n",
            "200/200 [==============================] - 82s 410ms/step - loss: 2.0067 - accuracy: 0.5288 - val_loss: 2.7669 - val_accuracy: 0.3611\n",
            "Epoch 16/30\n",
            "200/200 [==============================] - 82s 410ms/step - loss: 1.9391 - accuracy: 0.5455 - val_loss: 2.5048 - val_accuracy: 0.4188\n",
            "Epoch 17/30\n",
            "200/200 [==============================] - 82s 410ms/step - loss: 1.8759 - accuracy: 0.5589 - val_loss: 2.6518 - val_accuracy: 0.3948\n",
            "Epoch 18/30\n",
            "200/200 [==============================] - 82s 411ms/step - loss: 1.8847 - accuracy: 0.5520 - val_loss: 2.5005 - val_accuracy: 0.4145\n",
            "Epoch 19/30\n",
            "200/200 [==============================] - 82s 410ms/step - loss: 1.8474 - accuracy: 0.5687 - val_loss: 2.5805 - val_accuracy: 0.4017\n",
            "Epoch 20/30\n",
            "200/200 [==============================] - 82s 410ms/step - loss: 1.7939 - accuracy: 0.5730 - val_loss: 2.5247 - val_accuracy: 0.4101\n",
            "Epoch 21/30\n",
            "200/200 [==============================] - 82s 411ms/step - loss: 1.7822 - accuracy: 0.5800 - val_loss: 2.4709 - val_accuracy: 0.4251\n",
            "Epoch 22/30\n",
            "200/200 [==============================] - 82s 410ms/step - loss: 1.7377 - accuracy: 0.5854 - val_loss: 2.5330 - val_accuracy: 0.4111\n",
            "Epoch 23/30\n",
            "200/200 [==============================] - 82s 410ms/step - loss: 1.7180 - accuracy: 0.5923 - val_loss: 2.3946 - val_accuracy: 0.4398\n",
            "Epoch 24/30\n",
            "200/200 [==============================] - 82s 410ms/step - loss: 1.7056 - accuracy: 0.5951 - val_loss: 2.5179 - val_accuracy: 0.4230\n",
            "Epoch 25/30\n",
            "200/200 [==============================] - 82s 412ms/step - loss: 1.6518 - accuracy: 0.6072 - val_loss: 2.7288 - val_accuracy: 0.3888\n",
            "Epoch 26/30\n",
            "200/200 [==============================] - 83s 415ms/step - loss: 1.6282 - accuracy: 0.6117 - val_loss: 2.4822 - val_accuracy: 0.4301\n",
            "Epoch 27/30\n",
            "200/200 [==============================] - 83s 414ms/step - loss: 1.5593 - accuracy: 0.6322 - val_loss: 2.5661 - val_accuracy: 0.4130\n",
            "Epoch 28/30\n",
            "200/200 [==============================] - 82s 412ms/step - loss: 1.5641 - accuracy: 0.6309 - val_loss: 2.6087 - val_accuracy: 0.4038\n",
            "Epoch 29/30\n",
            "200/200 [==============================] - 82s 410ms/step - loss: 1.5129 - accuracy: 0.6407 - val_loss: 2.4745 - val_accuracy: 0.4310\n",
            "Epoch 30/30\n",
            "200/200 [==============================] - 82s 409ms/step - loss: 1.5065 - accuracy: 0.6403 - val_loss: 2.3458 - val_accuracy: 0.4505\n"
          ]
        },
        {
          "output_type": "display_data",
          "data": {
            "application/javascript": [
              "\n",
              "    async function download(id, filename, size) {\n",
              "      if (!google.colab.kernel.accessAllowed) {\n",
              "        return;\n",
              "      }\n",
              "      const div = document.createElement('div');\n",
              "      const label = document.createElement('label');\n",
              "      label.textContent = `Downloading \"${filename}\": `;\n",
              "      div.appendChild(label);\n",
              "      const progress = document.createElement('progress');\n",
              "      progress.max = size;\n",
              "      div.appendChild(progress);\n",
              "      document.body.appendChild(div);\n",
              "\n",
              "      const buffers = [];\n",
              "      let downloaded = 0;\n",
              "\n",
              "      const channel = await google.colab.kernel.comms.open(id);\n",
              "      // Send a message to notify the kernel that we're ready.\n",
              "      channel.send({})\n",
              "\n",
              "      for await (const message of channel.messages) {\n",
              "        // Send a message to notify the kernel that we're ready.\n",
              "        channel.send({})\n",
              "        if (message.buffers) {\n",
              "          for (const buffer of message.buffers) {\n",
              "            buffers.push(buffer);\n",
              "            downloaded += buffer.byteLength;\n",
              "            progress.value = downloaded;\n",
              "          }\n",
              "        }\n",
              "      }\n",
              "      const blob = new Blob(buffers, {type: 'application/binary'});\n",
              "      const a = document.createElement('a');\n",
              "      a.href = window.URL.createObjectURL(blob);\n",
              "      a.download = filename;\n",
              "      div.appendChild(a);\n",
              "      a.click();\n",
              "      div.remove();\n",
              "    }\n",
              "  "
            ],
            "text/plain": [
              "<IPython.core.display.Javascript object>"
            ]
          },
          "metadata": {}
        },
        {
          "output_type": "display_data",
          "data": {
            "application/javascript": [
              "download(\"download_40726c1a-4cb2-4685-ac6a-4dacf28ce875\", \"history2.csv\", 2389)"
            ],
            "text/plain": [
              "<IPython.core.display.Javascript object>"
            ]
          },
          "metadata": {}
        }
      ]
    },
    {
      "cell_type": "markdown",
      "source": [
        "### Epoch 45-55\n",
        "### 16x16"
      ],
      "metadata": {
        "id": "UH0AeZ6SOFM1"
      }
    },
    {
      "cell_type": "code",
      "source": [
        "train_generator = train_data.flow_from_directory( r'./tiny-imagenet-200/train/', \n",
        "                                                 target_size=(16, 16), \n",
        "                                                 color_mode='rgb', \n",
        "                                                 batch_size=256, \n",
        "                                                 class_mode='categorical', \n",
        "                                                 shuffle=True, \n",
        "                                                 seed=42)\n",
        "\n",
        "validation_generator = valid_data.flow_from_dataframe(val_data, \n",
        "                                                      directory='./tiny-imagenet-200/val/images/', \n",
        "                                                      x_col='File', \n",
        "                                                      y_col='Class', \n",
        "                                                      target_size=(64, 64),\n",
        "                                                      color_mode='rgb', \n",
        "                                                      class_mode='categorical', \n",
        "                                                      batch_size=256, \n",
        "                                                      shuffle=True, \n",
        "                                                      seed=42)"
      ],
      "metadata": {
        "colab": {
          "base_uri": "https://localhost:8080/"
        },
        "id": "RmT7fFy4vriL",
        "outputId": "afaa3f29-fc4c-4416-fb90-d336fe9f8798"
      },
      "execution_count": null,
      "outputs": [
        {
          "output_type": "stream",
          "name": "stdout",
          "text": [
            "Found 100000 images belonging to 200 classes.\n",
            "Found 10000 validated image filenames belonging to 200 classes.\n"
          ]
        }
      ]
    },
    {
      "cell_type": "code",
      "source": [
        "model = load_model('/content/drive/My Drive/4040_final_project/Colab Notebooks/Saved Models_1/Model1_2.h5')\n",
        "\n",
        "history3 = model.fit(train_generator, \n",
        "                     epochs=10, \n",
        "                     steps_per_epoch=200, \n",
        "                     validation_data=validation_generator)\n",
        "\n",
        "model.save('/content/drive/My Drive/4040_final_project/Colab Notebooks/Saved Models_1/Model1_3.h5')\n",
        "\n",
        "df = pd.DataFrame(history3.history)\n",
        "df.to_csv('history3.csv')\n",
        "from google.colab import files\n",
        "files.download('history3.csv')"
      ],
      "metadata": {
        "colab": {
          "base_uri": "https://localhost:8080/",
          "height": 400
        },
        "id": "pN5w311JMyY8",
        "outputId": "e825699d-b2fb-4ee1-9bd4-a9dd286fe6ce"
      },
      "execution_count": null,
      "outputs": [
        {
          "output_type": "stream",
          "name": "stdout",
          "text": [
            "Epoch 1/10\n",
            "200/200 [==============================] - 41s 200ms/step - loss: 3.5624 - accuracy: 0.2415 - val_loss: 4.2976 - val_accuracy: 0.1584\n",
            "Epoch 2/10\n",
            "200/200 [==============================] - 39s 195ms/step - loss: 2.7443 - accuracy: 0.3598 - val_loss: 4.1455 - val_accuracy: 0.1516\n",
            "Epoch 3/10\n",
            "200/200 [==============================] - 39s 196ms/step - loss: 2.3815 - accuracy: 0.4362 - val_loss: 4.1954 - val_accuracy: 0.1537\n",
            "Epoch 4/10\n",
            "200/200 [==============================] - 39s 195ms/step - loss: 2.0877 - accuracy: 0.4990 - val_loss: 4.5643 - val_accuracy: 0.1185\n",
            "Epoch 5/10\n",
            "200/200 [==============================] - 39s 195ms/step - loss: 1.7892 - accuracy: 0.5731 - val_loss: 4.5667 - val_accuracy: 0.1270\n",
            "Epoch 6/10\n",
            "200/200 [==============================] - 39s 195ms/step - loss: 1.4989 - accuracy: 0.6490 - val_loss: 4.6892 - val_accuracy: 0.1210\n",
            "Epoch 7/10\n",
            "200/200 [==============================] - 39s 195ms/step - loss: 1.2376 - accuracy: 0.7188 - val_loss: 4.7329 - val_accuracy: 0.1060\n",
            "Epoch 8/10\n",
            "200/200 [==============================] - 39s 195ms/step - loss: 0.9908 - accuracy: 0.7840 - val_loss: 4.6594 - val_accuracy: 0.1157\n",
            "Epoch 9/10\n",
            "200/200 [==============================] - 39s 195ms/step - loss: 0.7698 - accuracy: 0.8424 - val_loss: 4.5043 - val_accuracy: 0.1324\n",
            "Epoch 10/10\n",
            "200/200 [==============================] - 39s 195ms/step - loss: 0.5908 - accuracy: 0.8905 - val_loss: 4.7736 - val_accuracy: 0.1161\n"
          ]
        },
        {
          "output_type": "display_data",
          "data": {
            "application/javascript": [
              "\n",
              "    async function download(id, filename, size) {\n",
              "      if (!google.colab.kernel.accessAllowed) {\n",
              "        return;\n",
              "      }\n",
              "      const div = document.createElement('div');\n",
              "      const label = document.createElement('label');\n",
              "      label.textContent = `Downloading \"${filename}\": `;\n",
              "      div.appendChild(label);\n",
              "      const progress = document.createElement('progress');\n",
              "      progress.max = size;\n",
              "      div.appendChild(progress);\n",
              "      document.body.appendChild(div);\n",
              "\n",
              "      const buffers = [];\n",
              "      let downloaded = 0;\n",
              "\n",
              "      const channel = await google.colab.kernel.comms.open(id);\n",
              "      // Send a message to notify the kernel that we're ready.\n",
              "      channel.send({})\n",
              "\n",
              "      for await (const message of channel.messages) {\n",
              "        // Send a message to notify the kernel that we're ready.\n",
              "        channel.send({})\n",
              "        if (message.buffers) {\n",
              "          for (const buffer of message.buffers) {\n",
              "            buffers.push(buffer);\n",
              "            downloaded += buffer.byteLength;\n",
              "            progress.value = downloaded;\n",
              "          }\n",
              "        }\n",
              "      }\n",
              "      const blob = new Blob(buffers, {type: 'application/binary'});\n",
              "      const a = document.createElement('a');\n",
              "      a.href = window.URL.createObjectURL(blob);\n",
              "      a.download = filename;\n",
              "      div.appendChild(a);\n",
              "      a.click();\n",
              "      div.remove();\n",
              "    }\n",
              "  "
            ],
            "text/plain": [
              "<IPython.core.display.Javascript object>"
            ]
          },
          "metadata": {}
        },
        {
          "output_type": "display_data",
          "data": {
            "application/javascript": [
              "download(\"download_a97a5dda-8e58-4411-b6bc-59648c3153f4\", \"history3.csv\", 812)"
            ],
            "text/plain": [
              "<IPython.core.display.Javascript object>"
            ]
          },
          "metadata": {}
        }
      ]
    },
    {
      "cell_type": "markdown",
      "source": [
        "### Epoch 55-85\n",
        "### 64x64\n",
        "\n"
      ],
      "metadata": {
        "id": "qLgLBDRvvjQy"
      }
    },
    {
      "cell_type": "code",
      "source": [
        "train_generator = train_data.flow_from_directory( r'./tiny-imagenet-200/train/', \n",
        "                                                 target_size=(64, 64), \n",
        "                                                 color_mode='rgb', \n",
        "                                                 batch_size=64, \n",
        "                                                 class_mode='categorical', \n",
        "                                                 shuffle=True, \n",
        "                                                 seed=42)\n",
        "\n",
        "validation_generator = valid_data.flow_from_dataframe(val_data, \n",
        "                                                      directory='./tiny-imagenet-200/val/images/', \n",
        "                                                      x_col='File', \n",
        "                                                      y_col='Class', \n",
        "                                                      target_size=(64, 64),\n",
        "                                                      color_mode='rgb', \n",
        "                                                      class_mode='categorical', \n",
        "                                                      batch_size=64, \n",
        "                                                      shuffle=True, \n",
        "                                                      seed=42)"
      ],
      "metadata": {
        "colab": {
          "base_uri": "https://localhost:8080/"
        },
        "id": "WC9FOXSYvSGY",
        "outputId": "86cf2075-0ba5-47f0-d85b-5bcc999cf139"
      },
      "execution_count": null,
      "outputs": [
        {
          "output_type": "stream",
          "name": "stdout",
          "text": [
            "Found 100000 images belonging to 200 classes.\n",
            "Found 10000 validated image filenames belonging to 200 classes.\n"
          ]
        }
      ]
    },
    {
      "cell_type": "code",
      "source": [
        "model = load_model('/content/drive/My Drive/4040_final_project/Colab Notebooks/Saved Models_1/Model1_3.h5')\n",
        "\n",
        "history4 = model.fit(train_generator, \n",
        "                     epochs=30, \n",
        "                     steps_per_epoch=200, \n",
        "                     validation_data=validation_generator)\n",
        "\n",
        "model.save('/content/drive/My Drive/4040_final_project/Colab Notebooks/Saved Models_1/Model1_4.h5')\n",
        "\n",
        "df = pd.DataFrame(history4.history)\n",
        "df.to_csv('history4.csv')\n",
        "from google.colab import files\n",
        "files.download('history4.csv')"
      ],
      "metadata": {
        "colab": {
          "base_uri": "https://localhost:8080/",
          "height": 1000
        },
        "id": "-gvMxsFowEC0",
        "outputId": "6aae332d-9797-4b16-9ce2-55b9c8d95cf2"
      },
      "execution_count": null,
      "outputs": [
        {
          "output_type": "stream",
          "name": "stdout",
          "text": [
            "Epoch 1/30\n",
            "200/200 [==============================] - 83s 410ms/step - loss: 1.9384 - accuracy: 0.5340 - val_loss: 3.0396 - val_accuracy: 0.3360\n",
            "Epoch 2/30\n",
            "200/200 [==============================] - 82s 411ms/step - loss: 1.6575 - accuracy: 0.5948 - val_loss: 2.5075 - val_accuracy: 0.4179\n",
            "Epoch 3/30\n",
            "200/200 [==============================] - 82s 409ms/step - loss: 1.5708 - accuracy: 0.6151 - val_loss: 2.5155 - val_accuracy: 0.4213\n",
            "Epoch 4/30\n",
            "200/200 [==============================] - 82s 411ms/step - loss: 1.4715 - accuracy: 0.6436 - val_loss: 2.5459 - val_accuracy: 0.4223\n",
            "Epoch 5/30\n",
            "200/200 [==============================] - 82s 411ms/step - loss: 1.4378 - accuracy: 0.6510 - val_loss: 2.2261 - val_accuracy: 0.4761\n",
            "Epoch 6/30\n",
            "200/200 [==============================] - 82s 410ms/step - loss: 1.3915 - accuracy: 0.6656 - val_loss: 2.3371 - val_accuracy: 0.4511\n",
            "Epoch 7/30\n",
            "200/200 [==============================] - 82s 410ms/step - loss: 1.3603 - accuracy: 0.6739 - val_loss: 2.2054 - val_accuracy: 0.4771\n",
            "Epoch 8/30\n",
            "200/200 [==============================] - 82s 410ms/step - loss: 1.2554 - accuracy: 0.6985 - val_loss: 2.4389 - val_accuracy: 0.4419\n",
            "Epoch 9/30\n",
            "200/200 [==============================] - 83s 416ms/step - loss: 1.2681 - accuracy: 0.6954 - val_loss: 2.2562 - val_accuracy: 0.4715\n",
            "Epoch 10/30\n",
            "200/200 [==============================] - 82s 410ms/step - loss: 1.2169 - accuracy: 0.7109 - val_loss: 2.2190 - val_accuracy: 0.4838\n",
            "Epoch 11/30\n",
            "200/200 [==============================] - 82s 411ms/step - loss: 1.1823 - accuracy: 0.7222 - val_loss: 2.3555 - val_accuracy: 0.4610\n",
            "Epoch 12/30\n",
            "200/200 [==============================] - 82s 410ms/step - loss: 1.1379 - accuracy: 0.7344 - val_loss: 2.2856 - val_accuracy: 0.4678\n",
            "Epoch 13/30\n",
            "200/200 [==============================] - 83s 414ms/step - loss: 1.1159 - accuracy: 0.7350 - val_loss: 2.2237 - val_accuracy: 0.4873\n",
            "Epoch 14/30\n",
            "200/200 [==============================] - 83s 415ms/step - loss: 1.0869 - accuracy: 0.7422 - val_loss: 2.1867 - val_accuracy: 0.4864\n",
            "Epoch 15/30\n",
            "200/200 [==============================] - 82s 410ms/step - loss: 1.0611 - accuracy: 0.7505 - val_loss: 2.3466 - val_accuracy: 0.4667\n",
            "Epoch 16/30\n",
            "200/200 [==============================] - 82s 411ms/step - loss: 1.0447 - accuracy: 0.7578 - val_loss: 2.3141 - val_accuracy: 0.4701\n",
            "Epoch 17/30\n",
            "200/200 [==============================] - 82s 410ms/step - loss: 0.9920 - accuracy: 0.7692 - val_loss: 2.1917 - val_accuracy: 0.4906\n",
            "Epoch 18/30\n",
            "200/200 [==============================] - 82s 410ms/step - loss: 0.9815 - accuracy: 0.7718 - val_loss: 2.4273 - val_accuracy: 0.4461\n",
            "Epoch 19/30\n",
            "200/200 [==============================] - 82s 409ms/step - loss: 0.9509 - accuracy: 0.7770 - val_loss: 2.2689 - val_accuracy: 0.4803\n",
            "Epoch 20/30\n",
            "200/200 [==============================] - 82s 408ms/step - loss: 0.9319 - accuracy: 0.7802 - val_loss: 2.2286 - val_accuracy: 0.4910\n",
            "Epoch 21/30\n",
            "200/200 [==============================] - 82s 409ms/step - loss: 0.9022 - accuracy: 0.7883 - val_loss: 2.1404 - val_accuracy: 0.5018\n",
            "Epoch 22/30\n",
            "200/200 [==============================] - 82s 410ms/step - loss: 0.8784 - accuracy: 0.8002 - val_loss: 2.2573 - val_accuracy: 0.4799\n",
            "Epoch 23/30\n",
            "200/200 [==============================] - 82s 410ms/step - loss: 0.8472 - accuracy: 0.8116 - val_loss: 2.1763 - val_accuracy: 0.4987\n",
            "Epoch 24/30\n",
            "200/200 [==============================] - 82s 410ms/step - loss: 0.8355 - accuracy: 0.8116 - val_loss: 2.1717 - val_accuracy: 0.4931\n",
            "Epoch 25/30\n",
            "200/200 [==============================] - 82s 410ms/step - loss: 0.8123 - accuracy: 0.8173 - val_loss: 2.4670 - val_accuracy: 0.4516\n",
            "Epoch 26/30\n",
            "200/200 [==============================] - 82s 410ms/step - loss: 0.7908 - accuracy: 0.8240 - val_loss: 2.1380 - val_accuracy: 0.5060\n",
            "Epoch 27/30\n",
            "200/200 [==============================] - 82s 410ms/step - loss: 0.7344 - accuracy: 0.8370 - val_loss: 2.1668 - val_accuracy: 0.5034\n",
            "Epoch 28/30\n",
            "200/200 [==============================] - 82s 410ms/step - loss: 0.7529 - accuracy: 0.8334 - val_loss: 2.1643 - val_accuracy: 0.4980\n",
            "Epoch 29/30\n",
            "200/200 [==============================] - 82s 409ms/step - loss: 0.6951 - accuracy: 0.8474 - val_loss: 2.4549 - val_accuracy: 0.4511\n",
            "Epoch 30/30\n",
            "200/200 [==============================] - 82s 411ms/step - loss: 0.6935 - accuracy: 0.8454 - val_loss: 2.1759 - val_accuracy: 0.5023\n"
          ]
        },
        {
          "output_type": "display_data",
          "data": {
            "application/javascript": [
              "\n",
              "    async function download(id, filename, size) {\n",
              "      if (!google.colab.kernel.accessAllowed) {\n",
              "        return;\n",
              "      }\n",
              "      const div = document.createElement('div');\n",
              "      const label = document.createElement('label');\n",
              "      label.textContent = `Downloading \"${filename}\": `;\n",
              "      div.appendChild(label);\n",
              "      const progress = document.createElement('progress');\n",
              "      progress.max = size;\n",
              "      div.appendChild(progress);\n",
              "      document.body.appendChild(div);\n",
              "\n",
              "      const buffers = [];\n",
              "      let downloaded = 0;\n",
              "\n",
              "      const channel = await google.colab.kernel.comms.open(id);\n",
              "      // Send a message to notify the kernel that we're ready.\n",
              "      channel.send({})\n",
              "\n",
              "      for await (const message of channel.messages) {\n",
              "        // Send a message to notify the kernel that we're ready.\n",
              "        channel.send({})\n",
              "        if (message.buffers) {\n",
              "          for (const buffer of message.buffers) {\n",
              "            buffers.push(buffer);\n",
              "            downloaded += buffer.byteLength;\n",
              "            progress.value = downloaded;\n",
              "          }\n",
              "        }\n",
              "      }\n",
              "      const blob = new Blob(buffers, {type: 'application/binary'});\n",
              "      const a = document.createElement('a');\n",
              "      a.href = window.URL.createObjectURL(blob);\n",
              "      a.download = filename;\n",
              "      div.appendChild(a);\n",
              "      a.click();\n",
              "      div.remove();\n",
              "    }\n",
              "  "
            ],
            "text/plain": [
              "<IPython.core.display.Javascript object>"
            ]
          },
          "metadata": {}
        },
        {
          "output_type": "display_data",
          "data": {
            "application/javascript": [
              "download(\"download_b560e864-950c-4733-badc-7f5b200a10c2\", \"history4.csv\", 2362)"
            ],
            "text/plain": [
              "<IPython.core.display.Javascript object>"
            ]
          },
          "metadata": {}
        }
      ]
    },
    {
      "cell_type": "markdown",
      "source": [
        "### Image Augmentation"
      ],
      "metadata": {
        "id": "G0yRw3egwP25"
      }
    },
    {
      "cell_type": "code",
      "source": [
        "seq = iaa.SomeOf((0, None), \n",
        "                 [\n",
        "                  iaa.Affine(scale=(0.5, 1.0)), \n",
        "                  iaa.CoarseDropout((0.0, 0.1), size_percent=(0.06, 0.08)), \n",
        "                  iaa.Affine(rotate=30),\n",
        "                  iaa.AdditiveGaussianNoise(scale=0.1*255), \n",
        "                  iaa.CropAndPad(percent=(-0.2, 0.2))\n",
        "                  ])\n",
        "\n",
        "train_data = ImageDataGenerator(preprocessing_function=seq.augment_image, rescale=1./255)\n",
        "\n",
        "valid_data = ImageDataGenerator(rescale=1./255)"
      ],
      "metadata": {
        "id": "uXBwPGP7wRFm"
      },
      "execution_count": null,
      "outputs": []
    },
    {
      "cell_type": "markdown",
      "source": [
        "### Epoch 85-235"
      ],
      "metadata": {
        "id": "tO39aGgX4yQe"
      }
    },
    {
      "cell_type": "code",
      "source": [
        "train_generator = train_data.flow_from_directory( r'./tiny-imagenet-200/train/', \n",
        "                                                 target_size=(64, 64), \n",
        "                                                 color_mode='rgb', \n",
        "                                                 batch_size=64, \n",
        "                                                 class_mode='categorical', \n",
        "                                                 shuffle=True, \n",
        "                                                 seed=42)\n",
        "\n",
        "validation_generator = valid_data.flow_from_dataframe(val_data, \n",
        "                                                      directory='./tiny-imagenet-200/val/images/', \n",
        "                                                      x_col='File', \n",
        "                                                      y_col='Class', \n",
        "                                                      target_size=(64, 64),\n",
        "                                                      color_mode='rgb', \n",
        "                                                      class_mode='categorical', \n",
        "                                                      batch_size=64, \n",
        "                                                      shuffle=True, \n",
        "                                                      seed=42)"
      ],
      "metadata": {
        "id": "K7jPL4wL3ewf",
        "colab": {
          "base_uri": "https://localhost:8080/"
        },
        "outputId": "c7b5a75a-d88f-4f10-8311-df345eba0327"
      },
      "execution_count": null,
      "outputs": [
        {
          "output_type": "stream",
          "name": "stdout",
          "text": [
            "Found 100000 images belonging to 200 classes.\n",
            "Found 10000 validated image filenames belonging to 200 classes.\n"
          ]
        }
      ]
    },
    {
      "cell_type": "code",
      "source": [
        "model = load_model('/content/drive/My Drive/4040_final_project/Colab Notebooks/Saved Models_1/Model1_4.h5')\n",
        "\n",
        "history5 = model.fit(train_generator, \n",
        "                     epochs=150, \n",
        "                     steps_per_epoch=200, \n",
        "                     validation_data=validation_generator)\n",
        "\n",
        "model.save('/content/drive/My Drive/4040_final_project/Colab Notebooks/Saved Models_1/Model1_5.h5')\n",
        "\n",
        "df = pd.DataFrame(history5.history)\n",
        "df.to_csv('history5.csv')\n",
        "from google.colab import files\n",
        "files.download('history5.csv')"
      ],
      "metadata": {
        "id": "H9esXhiz4xPs",
        "colab": {
          "base_uri": "https://localhost:8080/",
          "height": 1000
        },
        "outputId": "ee1f77b5-fd6c-4504-e8df-5f177e836ca0"
      },
      "execution_count": null,
      "outputs": [
        {
          "output_type": "stream",
          "name": "stdout",
          "text": [
            "Epoch 1/150\n",
            "200/200 [==============================] - 107s 528ms/step - loss: 2.7863 - accuracy: 0.3698 - val_loss: 3.2267 - val_accuracy: 0.3633\n",
            "Epoch 2/150\n",
            "200/200 [==============================] - 98s 492ms/step - loss: 2.4923 - accuracy: 0.4187 - val_loss: 2.6426 - val_accuracy: 0.4222\n",
            "Epoch 3/150\n",
            "200/200 [==============================] - 99s 493ms/step - loss: 2.4221 - accuracy: 0.4326 - val_loss: 2.8214 - val_accuracy: 0.3895\n",
            "Epoch 4/150\n",
            "200/200 [==============================] - 98s 490ms/step - loss: 2.3390 - accuracy: 0.4473 - val_loss: 2.4966 - val_accuracy: 0.4397\n",
            "Epoch 5/150\n",
            "200/200 [==============================] - 98s 491ms/step - loss: 2.3021 - accuracy: 0.4607 - val_loss: 2.5575 - val_accuracy: 0.4360\n",
            "Epoch 6/150\n",
            "200/200 [==============================] - 99s 493ms/step - loss: 2.2496 - accuracy: 0.4671 - val_loss: 2.7623 - val_accuracy: 0.4052\n",
            "Epoch 7/150\n",
            "200/200 [==============================] - 99s 494ms/step - loss: 2.2320 - accuracy: 0.4678 - val_loss: 2.6349 - val_accuracy: 0.4288\n",
            "Epoch 8/150\n",
            "200/200 [==============================] - 99s 494ms/step - loss: 2.2224 - accuracy: 0.4727 - val_loss: 3.2787 - val_accuracy: 0.3409\n",
            "Epoch 9/150\n",
            "200/200 [==============================] - 99s 492ms/step - loss: 2.1951 - accuracy: 0.4780 - val_loss: 2.5669 - val_accuracy: 0.4304\n",
            "Epoch 10/150\n",
            "200/200 [==============================] - 98s 490ms/step - loss: 2.1414 - accuracy: 0.4951 - val_loss: 2.4508 - val_accuracy: 0.4473\n",
            "Epoch 11/150\n",
            "200/200 [==============================] - 98s 492ms/step - loss: 2.1278 - accuracy: 0.4912 - val_loss: 2.4039 - val_accuracy: 0.4599\n",
            "Epoch 12/150\n",
            "200/200 [==============================] - 98s 490ms/step - loss: 2.1058 - accuracy: 0.4985 - val_loss: 2.3705 - val_accuracy: 0.4636\n",
            "Epoch 13/150\n",
            "200/200 [==============================] - 97s 486ms/step - loss: 2.1051 - accuracy: 0.4966 - val_loss: 2.3671 - val_accuracy: 0.4648\n",
            "Epoch 14/150\n",
            "200/200 [==============================] - 98s 489ms/step - loss: 2.0855 - accuracy: 0.5021 - val_loss: 2.3534 - val_accuracy: 0.4758\n",
            "Epoch 15/150\n",
            "200/200 [==============================] - 98s 490ms/step - loss: 2.0719 - accuracy: 0.5019 - val_loss: 2.6900 - val_accuracy: 0.4255\n",
            "Epoch 16/150\n",
            "200/200 [==============================] - 98s 491ms/step - loss: 2.0544 - accuracy: 0.5084 - val_loss: 2.4752 - val_accuracy: 0.4403\n",
            "Epoch 17/150\n",
            "200/200 [==============================] - 98s 491ms/step - loss: 2.0869 - accuracy: 0.5024 - val_loss: 2.3726 - val_accuracy: 0.4591\n",
            "Epoch 18/150\n",
            "200/200 [==============================] - 98s 489ms/step - loss: 2.0207 - accuracy: 0.5107 - val_loss: 2.5093 - val_accuracy: 0.4483\n",
            "Epoch 19/150\n",
            "200/200 [==============================] - 98s 491ms/step - loss: 2.0162 - accuracy: 0.5106 - val_loss: 2.5682 - val_accuracy: 0.4371\n",
            "Epoch 20/150\n",
            "200/200 [==============================] - 98s 491ms/step - loss: 2.0110 - accuracy: 0.5093 - val_loss: 2.5179 - val_accuracy: 0.4367\n",
            "Epoch 21/150\n",
            "200/200 [==============================] - 98s 488ms/step - loss: 1.9811 - accuracy: 0.5168 - val_loss: 2.3250 - val_accuracy: 0.4710\n",
            "Epoch 22/150\n",
            "200/200 [==============================] - 98s 489ms/step - loss: 2.0013 - accuracy: 0.5213 - val_loss: 2.3586 - val_accuracy: 0.4665\n",
            "Epoch 23/150\n",
            "200/200 [==============================] - 98s 490ms/step - loss: 1.9885 - accuracy: 0.5255 - val_loss: 2.3851 - val_accuracy: 0.4571\n",
            "Epoch 24/150\n",
            "200/200 [==============================] - 97s 486ms/step - loss: 1.9523 - accuracy: 0.5290 - val_loss: 2.4376 - val_accuracy: 0.4607\n",
            "Epoch 25/150\n",
            "200/200 [==============================] - 98s 489ms/step - loss: 1.9502 - accuracy: 0.5275 - val_loss: 2.3458 - val_accuracy: 0.4630\n",
            "Epoch 26/150\n",
            "200/200 [==============================] - 98s 488ms/step - loss: 1.9478 - accuracy: 0.5351 - val_loss: 2.5285 - val_accuracy: 0.4368\n",
            "Epoch 27/150\n",
            "200/200 [==============================] - 98s 492ms/step - loss: 1.9436 - accuracy: 0.5297 - val_loss: 2.3132 - val_accuracy: 0.4759\n",
            "Epoch 28/150\n",
            "200/200 [==============================] - 98s 489ms/step - loss: 1.9419 - accuracy: 0.5295 - val_loss: 2.3616 - val_accuracy: 0.4722\n",
            "Epoch 29/150\n",
            "200/200 [==============================] - 98s 492ms/step - loss: 1.9413 - accuracy: 0.5294 - val_loss: 2.5316 - val_accuracy: 0.4419\n",
            "Epoch 30/150\n",
            "200/200 [==============================] - 98s 490ms/step - loss: 1.8891 - accuracy: 0.5389 - val_loss: 2.3401 - val_accuracy: 0.4730\n",
            "Epoch 31/150\n",
            "200/200 [==============================] - 98s 488ms/step - loss: 1.9301 - accuracy: 0.5360 - val_loss: 2.4259 - val_accuracy: 0.4658\n",
            "Epoch 32/150\n",
            "200/200 [==============================] - 98s 490ms/step - loss: 1.8958 - accuracy: 0.5356 - val_loss: 2.3933 - val_accuracy: 0.4645\n",
            "Epoch 33/150\n",
            "200/200 [==============================] - 98s 491ms/step - loss: 1.8876 - accuracy: 0.5418 - val_loss: 2.1872 - val_accuracy: 0.4928\n",
            "Epoch 34/150\n",
            "200/200 [==============================] - 98s 491ms/step - loss: 1.8778 - accuracy: 0.5488 - val_loss: 2.4420 - val_accuracy: 0.4610\n",
            "Epoch 35/150\n",
            "200/200 [==============================] - 98s 490ms/step - loss: 1.8766 - accuracy: 0.5466 - val_loss: 2.3183 - val_accuracy: 0.4710\n",
            "Epoch 36/150\n",
            "200/200 [==============================] - 98s 488ms/step - loss: 1.8646 - accuracy: 0.5489 - val_loss: 2.4161 - val_accuracy: 0.4655\n",
            "Epoch 37/150\n",
            "200/200 [==============================] - 98s 490ms/step - loss: 1.8788 - accuracy: 0.5427 - val_loss: 2.1753 - val_accuracy: 0.5043\n",
            "Epoch 38/150\n",
            "200/200 [==============================] - 99s 493ms/step - loss: 1.8593 - accuracy: 0.5507 - val_loss: 2.3798 - val_accuracy: 0.4652\n",
            "Epoch 39/150\n",
            "200/200 [==============================] - 98s 489ms/step - loss: 1.8262 - accuracy: 0.5530 - val_loss: 2.4742 - val_accuracy: 0.4494\n",
            "Epoch 40/150\n",
            "200/200 [==============================] - 99s 492ms/step - loss: 1.8264 - accuracy: 0.5555 - val_loss: 2.3215 - val_accuracy: 0.4860\n",
            "Epoch 41/150\n",
            "200/200 [==============================] - 97s 486ms/step - loss: 1.8149 - accuracy: 0.5610 - val_loss: 2.3046 - val_accuracy: 0.4846\n",
            "Epoch 42/150\n",
            "200/200 [==============================] - 97s 485ms/step - loss: 1.8270 - accuracy: 0.5577 - val_loss: 2.2829 - val_accuracy: 0.4851\n",
            "Epoch 43/150\n",
            "200/200 [==============================] - 97s 486ms/step - loss: 1.8213 - accuracy: 0.5519 - val_loss: 2.2903 - val_accuracy: 0.4782\n",
            "Epoch 44/150\n",
            "200/200 [==============================] - 97s 485ms/step - loss: 1.8086 - accuracy: 0.5594 - val_loss: 2.1540 - val_accuracy: 0.4980\n",
            "Epoch 45/150\n",
            "200/200 [==============================] - 97s 487ms/step - loss: 1.8066 - accuracy: 0.5587 - val_loss: 2.2709 - val_accuracy: 0.4850\n",
            "Epoch 46/150\n",
            "200/200 [==============================] - 97s 484ms/step - loss: 1.7924 - accuracy: 0.5673 - val_loss: 2.3022 - val_accuracy: 0.4841\n",
            "Epoch 47/150\n",
            "200/200 [==============================] - 97s 485ms/step - loss: 1.7881 - accuracy: 0.5651 - val_loss: 2.3666 - val_accuracy: 0.4737\n",
            "Epoch 48/150\n",
            "200/200 [==============================] - 97s 486ms/step - loss: 1.7832 - accuracy: 0.5634 - val_loss: 2.2902 - val_accuracy: 0.4888\n",
            "Epoch 49/150\n",
            "200/200 [==============================] - 97s 485ms/step - loss: 1.7646 - accuracy: 0.5716 - val_loss: 2.3761 - val_accuracy: 0.4777\n",
            "Epoch 50/150\n",
            "200/200 [==============================] - 98s 489ms/step - loss: 1.7679 - accuracy: 0.5702 - val_loss: 2.2134 - val_accuracy: 0.5014\n",
            "Epoch 51/150\n",
            "200/200 [==============================] - 97s 487ms/step - loss: 1.7526 - accuracy: 0.5735 - val_loss: 2.0937 - val_accuracy: 0.5236\n",
            "Epoch 52/150\n",
            "200/200 [==============================] - 98s 487ms/step - loss: 1.7518 - accuracy: 0.5743 - val_loss: 2.2615 - val_accuracy: 0.4917\n",
            "Epoch 53/150\n",
            "200/200 [==============================] - 98s 488ms/step - loss: 1.7461 - accuracy: 0.5734 - val_loss: 2.5219 - val_accuracy: 0.4504\n",
            "Epoch 54/150\n",
            "200/200 [==============================] - 98s 490ms/step - loss: 1.7452 - accuracy: 0.5739 - val_loss: 2.2713 - val_accuracy: 0.4969\n",
            "Epoch 55/150\n",
            "200/200 [==============================] - 98s 490ms/step - loss: 1.7149 - accuracy: 0.5826 - val_loss: 2.1968 - val_accuracy: 0.5074\n",
            "Epoch 56/150\n",
            "200/200 [==============================] - 98s 487ms/step - loss: 1.7141 - accuracy: 0.5773 - val_loss: 2.2215 - val_accuracy: 0.5020\n",
            "Epoch 57/150\n",
            "200/200 [==============================] - 98s 491ms/step - loss: 1.7384 - accuracy: 0.5692 - val_loss: 2.2341 - val_accuracy: 0.4944\n",
            "Epoch 58/150\n",
            "200/200 [==============================] - 98s 489ms/step - loss: 1.6829 - accuracy: 0.5902 - val_loss: 2.2269 - val_accuracy: 0.4998\n",
            "Epoch 59/150\n",
            "200/200 [==============================] - 98s 491ms/step - loss: 1.7116 - accuracy: 0.5795 - val_loss: 2.2825 - val_accuracy: 0.4913\n",
            "Epoch 60/150\n",
            "200/200 [==============================] - 97s 485ms/step - loss: 1.7042 - accuracy: 0.5832 - val_loss: 2.2746 - val_accuracy: 0.4898\n",
            "Epoch 61/150\n",
            "200/200 [==============================] - 97s 485ms/step - loss: 1.6708 - accuracy: 0.5874 - val_loss: 2.2505 - val_accuracy: 0.4939\n",
            "Epoch 62/150\n",
            "200/200 [==============================] - 97s 484ms/step - loss: 1.6545 - accuracy: 0.5932 - val_loss: 2.2116 - val_accuracy: 0.5023\n",
            "Epoch 63/150\n",
            "200/200 [==============================] - 98s 490ms/step - loss: 1.6915 - accuracy: 0.5823 - val_loss: 2.1907 - val_accuracy: 0.5067\n",
            "Epoch 64/150\n",
            "200/200 [==============================] - 98s 488ms/step - loss: 1.7014 - accuracy: 0.5844 - val_loss: 2.2522 - val_accuracy: 0.4976\n",
            "Epoch 65/150\n",
            "200/200 [==============================] - 98s 490ms/step - loss: 1.6604 - accuracy: 0.5945 - val_loss: 2.2396 - val_accuracy: 0.5030\n",
            "Epoch 66/150\n",
            "200/200 [==============================] - 98s 491ms/step - loss: 1.6728 - accuracy: 0.5905 - val_loss: 2.0997 - val_accuracy: 0.5185\n",
            "Epoch 67/150\n",
            "200/200 [==============================] - 98s 488ms/step - loss: 1.6290 - accuracy: 0.5997 - val_loss: 2.4088 - val_accuracy: 0.4747\n",
            "Epoch 68/150\n",
            "200/200 [==============================] - 98s 489ms/step - loss: 1.6368 - accuracy: 0.5956 - val_loss: 2.1357 - val_accuracy: 0.5099\n",
            "Epoch 69/150\n",
            "200/200 [==============================] - 98s 488ms/step - loss: 1.6330 - accuracy: 0.6005 - val_loss: 2.1232 - val_accuracy: 0.5187\n",
            "Epoch 70/150\n",
            "200/200 [==============================] - 98s 491ms/step - loss: 1.6291 - accuracy: 0.5973 - val_loss: 2.3193 - val_accuracy: 0.4857\n",
            "Epoch 71/150\n",
            "200/200 [==============================] - 99s 493ms/step - loss: 1.6386 - accuracy: 0.5958 - val_loss: 2.2566 - val_accuracy: 0.5006\n",
            "Epoch 72/150\n",
            "200/200 [==============================] - 99s 494ms/step - loss: 1.6253 - accuracy: 0.5989 - val_loss: 2.1807 - val_accuracy: 0.5055\n",
            "Epoch 73/150\n",
            "200/200 [==============================] - 98s 490ms/step - loss: 1.6143 - accuracy: 0.6038 - val_loss: 2.1051 - val_accuracy: 0.5187\n",
            "Epoch 74/150\n",
            "200/200 [==============================] - 98s 490ms/step - loss: 1.6281 - accuracy: 0.6006 - val_loss: 2.1529 - val_accuracy: 0.5100\n",
            "Epoch 75/150\n",
            "200/200 [==============================] - 97s 486ms/step - loss: 1.5923 - accuracy: 0.6121 - val_loss: 2.3829 - val_accuracy: 0.4758\n",
            "Epoch 76/150\n",
            "200/200 [==============================] - 97s 487ms/step - loss: 1.5808 - accuracy: 0.6089 - val_loss: 2.0780 - val_accuracy: 0.5279\n",
            "Epoch 77/150\n",
            "200/200 [==============================] - 97s 486ms/step - loss: 1.5851 - accuracy: 0.6096 - val_loss: 2.0679 - val_accuracy: 0.5247\n",
            "Epoch 78/150\n",
            "200/200 [==============================] - 98s 492ms/step - loss: 1.5894 - accuracy: 0.6062 - val_loss: 2.1675 - val_accuracy: 0.5097\n",
            "Epoch 79/150\n",
            "200/200 [==============================] - 98s 487ms/step - loss: 1.5798 - accuracy: 0.6044 - val_loss: 2.1871 - val_accuracy: 0.5129\n",
            "Epoch 80/150\n",
            "200/200 [==============================] - 97s 487ms/step - loss: 1.5550 - accuracy: 0.6160 - val_loss: 2.1976 - val_accuracy: 0.5070\n",
            "Epoch 81/150\n",
            "200/200 [==============================] - 98s 488ms/step - loss: 1.5433 - accuracy: 0.6149 - val_loss: 2.1545 - val_accuracy: 0.5176\n",
            "Epoch 82/150\n",
            "200/200 [==============================] - 98s 488ms/step - loss: 1.5430 - accuracy: 0.6163 - val_loss: 2.2845 - val_accuracy: 0.4917\n",
            "Epoch 83/150\n",
            "200/200 [==============================] - 97s 485ms/step - loss: 1.5747 - accuracy: 0.6105 - val_loss: 2.4393 - val_accuracy: 0.4752\n",
            "Epoch 84/150\n",
            "200/200 [==============================] - 98s 488ms/step - loss: 1.5124 - accuracy: 0.6216 - val_loss: 2.2359 - val_accuracy: 0.5013\n",
            "Epoch 85/150\n",
            "200/200 [==============================] - 98s 489ms/step - loss: 1.5689 - accuracy: 0.6138 - val_loss: 2.3772 - val_accuracy: 0.4754\n",
            "Epoch 86/150\n",
            "200/200 [==============================] - 98s 490ms/step - loss: 1.5458 - accuracy: 0.6172 - val_loss: 2.1443 - val_accuracy: 0.5168\n",
            "Epoch 87/150\n",
            "200/200 [==============================] - 97s 485ms/step - loss: 1.5150 - accuracy: 0.6304 - val_loss: 2.0898 - val_accuracy: 0.5197\n",
            "Epoch 88/150\n",
            "200/200 [==============================] - 98s 489ms/step - loss: 1.5270 - accuracy: 0.6247 - val_loss: 2.2776 - val_accuracy: 0.4929\n",
            "Epoch 89/150\n",
            "200/200 [==============================] - 98s 491ms/step - loss: 1.5342 - accuracy: 0.6199 - val_loss: 2.2103 - val_accuracy: 0.5064\n",
            "Epoch 90/150\n",
            "200/200 [==============================] - 98s 490ms/step - loss: 1.5277 - accuracy: 0.6211 - val_loss: 2.2133 - val_accuracy: 0.5015\n",
            "Epoch 91/150\n",
            "200/200 [==============================] - 98s 489ms/step - loss: 1.5001 - accuracy: 0.6259 - val_loss: 2.2612 - val_accuracy: 0.5062\n",
            "Epoch 92/150\n",
            "200/200 [==============================] - 98s 489ms/step - loss: 1.5007 - accuracy: 0.6320 - val_loss: 2.1946 - val_accuracy: 0.5121\n",
            "Epoch 93/150\n",
            "200/200 [==============================] - 98s 489ms/step - loss: 1.4760 - accuracy: 0.6329 - val_loss: 2.1531 - val_accuracy: 0.5168\n",
            "Epoch 94/150\n",
            "200/200 [==============================] - 98s 489ms/step - loss: 1.4702 - accuracy: 0.6370 - val_loss: 2.3087 - val_accuracy: 0.4941\n",
            "Epoch 95/150\n",
            "200/200 [==============================] - 98s 489ms/step - loss: 1.4946 - accuracy: 0.6249 - val_loss: 2.1860 - val_accuracy: 0.5184\n",
            "Epoch 96/150\n",
            "200/200 [==============================] - 98s 489ms/step - loss: 1.4776 - accuracy: 0.6361 - val_loss: 2.1546 - val_accuracy: 0.5153\n",
            "Epoch 97/150\n",
            "200/200 [==============================] - 98s 487ms/step - loss: 1.4819 - accuracy: 0.6294 - val_loss: 2.0702 - val_accuracy: 0.5248\n",
            "Epoch 98/150\n",
            "200/200 [==============================] - 97s 486ms/step - loss: 1.4576 - accuracy: 0.6367 - val_loss: 2.1845 - val_accuracy: 0.5137\n",
            "Epoch 99/150\n",
            "200/200 [==============================] - 98s 488ms/step - loss: 1.4838 - accuracy: 0.6323 - val_loss: 2.2120 - val_accuracy: 0.5102\n",
            "Epoch 100/150\n",
            "200/200 [==============================] - 97s 485ms/step - loss: 1.4403 - accuracy: 0.6406 - val_loss: 2.1863 - val_accuracy: 0.5079\n",
            "Epoch 101/150\n",
            "200/200 [==============================] - 98s 488ms/step - loss: 1.4329 - accuracy: 0.6397 - val_loss: 2.1721 - val_accuracy: 0.5214\n",
            "Epoch 102/150\n",
            "200/200 [==============================] - 98s 491ms/step - loss: 1.4418 - accuracy: 0.6457 - val_loss: 2.0394 - val_accuracy: 0.5381\n",
            "Epoch 103/150\n",
            "200/200 [==============================] - 98s 490ms/step - loss: 1.4237 - accuracy: 0.6422 - val_loss: 2.3206 - val_accuracy: 0.4949\n",
            "Epoch 104/150\n",
            "200/200 [==============================] - 98s 490ms/step - loss: 1.4247 - accuracy: 0.6443 - val_loss: 2.2760 - val_accuracy: 0.4948\n",
            "Epoch 105/150\n",
            "200/200 [==============================] - 98s 490ms/step - loss: 1.4325 - accuracy: 0.6427 - val_loss: 2.1699 - val_accuracy: 0.5216\n",
            "Epoch 106/150\n",
            "200/200 [==============================] - 103s 512ms/step - loss: 1.4254 - accuracy: 0.6470 - val_loss: 2.3432 - val_accuracy: 0.4952\n",
            "Epoch 107/150\n",
            "200/200 [==============================] - 98s 488ms/step - loss: 1.3963 - accuracy: 0.6473 - val_loss: 2.1871 - val_accuracy: 0.5205\n",
            "Epoch 108/150\n",
            "200/200 [==============================] - 98s 491ms/step - loss: 1.4109 - accuracy: 0.6513 - val_loss: 2.1362 - val_accuracy: 0.5207\n",
            "Epoch 109/150\n",
            "200/200 [==============================] - 98s 487ms/step - loss: 1.3949 - accuracy: 0.6528 - val_loss: 2.2119 - val_accuracy: 0.5081\n",
            "Epoch 110/150\n",
            "200/200 [==============================] - 97s 486ms/step - loss: 1.3933 - accuracy: 0.6549 - val_loss: 2.2665 - val_accuracy: 0.5040\n",
            "Epoch 111/150\n",
            "200/200 [==============================] - 97s 486ms/step - loss: 1.4058 - accuracy: 0.6455 - val_loss: 2.2800 - val_accuracy: 0.5040\n",
            "Epoch 112/150\n",
            "200/200 [==============================] - 98s 490ms/step - loss: 1.4053 - accuracy: 0.6530 - val_loss: 2.1070 - val_accuracy: 0.5221\n",
            "Epoch 113/150\n",
            "200/200 [==============================] - 98s 488ms/step - loss: 1.3910 - accuracy: 0.6521 - val_loss: 2.1048 - val_accuracy: 0.5338\n",
            "Epoch 114/150\n",
            "200/200 [==============================] - 98s 487ms/step - loss: 1.4061 - accuracy: 0.6504 - val_loss: 2.1236 - val_accuracy: 0.5299\n",
            "Epoch 115/150\n",
            "200/200 [==============================] - 98s 492ms/step - loss: 1.3796 - accuracy: 0.6520 - val_loss: 2.2011 - val_accuracy: 0.5124\n",
            "Epoch 116/150\n",
            "200/200 [==============================] - 98s 489ms/step - loss: 1.3748 - accuracy: 0.6630 - val_loss: 2.2319 - val_accuracy: 0.5120\n",
            "Epoch 117/150\n",
            "200/200 [==============================] - 99s 493ms/step - loss: 1.3827 - accuracy: 0.6543 - val_loss: 2.1952 - val_accuracy: 0.5154\n",
            "Epoch 118/150\n",
            "200/200 [==============================] - 97s 487ms/step - loss: 1.3516 - accuracy: 0.6606 - val_loss: 2.2743 - val_accuracy: 0.4982\n",
            "Epoch 119/150\n",
            "200/200 [==============================] - 98s 491ms/step - loss: 1.3409 - accuracy: 0.6645 - val_loss: 2.3312 - val_accuracy: 0.4958\n",
            "Epoch 120/150\n",
            "200/200 [==============================] - 97s 486ms/step - loss: 1.3483 - accuracy: 0.6584 - val_loss: 2.1804 - val_accuracy: 0.5231\n",
            "Epoch 121/150\n",
            "200/200 [==============================] - 98s 489ms/step - loss: 1.3530 - accuracy: 0.6569 - val_loss: 2.2005 - val_accuracy: 0.5141\n",
            "Epoch 122/150\n",
            "200/200 [==============================] - 97s 486ms/step - loss: 1.3284 - accuracy: 0.6655 - val_loss: 2.2015 - val_accuracy: 0.5191\n",
            "Epoch 123/150\n",
            "200/200 [==============================] - 98s 487ms/step - loss: 1.3450 - accuracy: 0.6609 - val_loss: 2.0932 - val_accuracy: 0.5317\n",
            "Epoch 124/150\n",
            "200/200 [==============================] - 98s 488ms/step - loss: 1.3443 - accuracy: 0.6605 - val_loss: 2.2942 - val_accuracy: 0.5061\n",
            "Epoch 125/150\n",
            "200/200 [==============================] - 97s 485ms/step - loss: 1.3199 - accuracy: 0.6647 - val_loss: 2.1190 - val_accuracy: 0.5317\n",
            "Epoch 126/150\n",
            "200/200 [==============================] - 97s 484ms/step - loss: 1.3343 - accuracy: 0.6701 - val_loss: 2.1864 - val_accuracy: 0.5178\n",
            "Epoch 127/150\n",
            "200/200 [==============================] - 98s 487ms/step - loss: 1.3224 - accuracy: 0.6669 - val_loss: 2.1964 - val_accuracy: 0.5227\n",
            "Epoch 128/150\n",
            "200/200 [==============================] - 98s 489ms/step - loss: 1.3375 - accuracy: 0.6667 - val_loss: 2.2357 - val_accuracy: 0.5126\n",
            "Epoch 129/150\n",
            "200/200 [==============================] - 98s 487ms/step - loss: 1.3162 - accuracy: 0.6691 - val_loss: 2.1681 - val_accuracy: 0.5254\n",
            "Epoch 130/150\n",
            "200/200 [==============================] - 97s 486ms/step - loss: 1.3249 - accuracy: 0.6683 - val_loss: 2.2091 - val_accuracy: 0.5149\n",
            "Epoch 131/150\n",
            "200/200 [==============================] - 97s 485ms/step - loss: 1.3113 - accuracy: 0.6739 - val_loss: 2.2360 - val_accuracy: 0.5192\n",
            "Epoch 132/150\n",
            "200/200 [==============================] - 97s 486ms/step - loss: 1.3156 - accuracy: 0.6696 - val_loss: 2.2715 - val_accuracy: 0.5113\n",
            "Epoch 133/150\n",
            "200/200 [==============================] - 97s 486ms/step - loss: 1.2822 - accuracy: 0.6759 - val_loss: 2.1589 - val_accuracy: 0.5284\n",
            "Epoch 134/150\n",
            "200/200 [==============================] - 98s 488ms/step - loss: 1.3085 - accuracy: 0.6748 - val_loss: 2.0772 - val_accuracy: 0.5414\n",
            "Epoch 135/150\n",
            "200/200 [==============================] - 97s 487ms/step - loss: 1.2761 - accuracy: 0.6788 - val_loss: 2.2249 - val_accuracy: 0.5200\n",
            "Epoch 136/150\n",
            "200/200 [==============================] - 97s 483ms/step - loss: 1.2933 - accuracy: 0.6791 - val_loss: 2.6679 - val_accuracy: 0.4498\n",
            "Epoch 137/150\n",
            "200/200 [==============================] - 98s 491ms/step - loss: 1.2978 - accuracy: 0.6761 - val_loss: 2.2855 - val_accuracy: 0.4999\n",
            "Epoch 138/150\n",
            "200/200 [==============================] - 97s 482ms/step - loss: 1.2621 - accuracy: 0.6834 - val_loss: 2.2741 - val_accuracy: 0.5070\n",
            "Epoch 139/150\n",
            "200/200 [==============================] - 97s 485ms/step - loss: 1.2670 - accuracy: 0.6840 - val_loss: 2.1593 - val_accuracy: 0.5287\n",
            "Epoch 140/150\n",
            "200/200 [==============================] - 97s 485ms/step - loss: 1.2535 - accuracy: 0.6847 - val_loss: 2.2010 - val_accuracy: 0.5230\n",
            "Epoch 141/150\n",
            "200/200 [==============================] - 98s 487ms/step - loss: 1.2595 - accuracy: 0.6820 - val_loss: 2.1508 - val_accuracy: 0.5258\n",
            "Epoch 142/150\n",
            "200/200 [==============================] - 99s 492ms/step - loss: 1.2750 - accuracy: 0.6771 - val_loss: 2.2269 - val_accuracy: 0.5234\n",
            "Epoch 143/150\n",
            "200/200 [==============================] - 98s 489ms/step - loss: 1.2670 - accuracy: 0.6821 - val_loss: 2.1593 - val_accuracy: 0.5245\n",
            "Epoch 144/150\n",
            "200/200 [==============================] - 97s 486ms/step - loss: 1.2214 - accuracy: 0.6919 - val_loss: 2.1703 - val_accuracy: 0.5320\n",
            "Epoch 145/150\n",
            "200/200 [==============================] - 97s 483ms/step - loss: 1.2389 - accuracy: 0.6918 - val_loss: 2.1073 - val_accuracy: 0.5264\n",
            "Epoch 146/150\n",
            "200/200 [==============================] - 98s 487ms/step - loss: 1.2377 - accuracy: 0.6883 - val_loss: 2.3122 - val_accuracy: 0.5067\n",
            "Epoch 147/150\n",
            "200/200 [==============================] - 97s 487ms/step - loss: 1.2365 - accuracy: 0.6902 - val_loss: 2.1972 - val_accuracy: 0.5265\n",
            "Epoch 148/150\n",
            "200/200 [==============================] - 97s 486ms/step - loss: 1.2308 - accuracy: 0.6870 - val_loss: 2.1550 - val_accuracy: 0.5282\n",
            "Epoch 149/150\n",
            "200/200 [==============================] - 97s 485ms/step - loss: 1.2210 - accuracy: 0.6913 - val_loss: 2.1711 - val_accuracy: 0.5228\n",
            "Epoch 150/150\n",
            "200/200 [==============================] - 97s 486ms/step - loss: 1.2509 - accuracy: 0.6837 - val_loss: 2.1563 - val_accuracy: 0.5377\n"
          ]
        },
        {
          "output_type": "display_data",
          "data": {
            "application/javascript": [
              "\n",
              "    async function download(id, filename, size) {\n",
              "      if (!google.colab.kernel.accessAllowed) {\n",
              "        return;\n",
              "      }\n",
              "      const div = document.createElement('div');\n",
              "      const label = document.createElement('label');\n",
              "      label.textContent = `Downloading \"${filename}\": `;\n",
              "      div.appendChild(label);\n",
              "      const progress = document.createElement('progress');\n",
              "      progress.max = size;\n",
              "      div.appendChild(progress);\n",
              "      document.body.appendChild(div);\n",
              "\n",
              "      const buffers = [];\n",
              "      let downloaded = 0;\n",
              "\n",
              "      const channel = await google.colab.kernel.comms.open(id);\n",
              "      // Send a message to notify the kernel that we're ready.\n",
              "      channel.send({})\n",
              "\n",
              "      for await (const message of channel.messages) {\n",
              "        // Send a message to notify the kernel that we're ready.\n",
              "        channel.send({})\n",
              "        if (message.buffers) {\n",
              "          for (const buffer of message.buffers) {\n",
              "            buffers.push(buffer);\n",
              "            downloaded += buffer.byteLength;\n",
              "            progress.value = downloaded;\n",
              "          }\n",
              "        }\n",
              "      }\n",
              "      const blob = new Blob(buffers, {type: 'application/binary'});\n",
              "      const a = document.createElement('a');\n",
              "      a.href = window.URL.createObjectURL(blob);\n",
              "      a.download = filename;\n",
              "      div.appendChild(a);\n",
              "      a.click();\n",
              "      div.remove();\n",
              "    }\n",
              "  "
            ],
            "text/plain": [
              "<IPython.core.display.Javascript object>"
            ]
          },
          "metadata": {}
        },
        {
          "output_type": "display_data",
          "data": {
            "application/javascript": [
              "download(\"download_30d7bf3c-762e-4466-99c3-3eb40ee558ef\", \"history5.csv\", 11780)"
            ],
            "text/plain": [
              "<IPython.core.display.Javascript object>"
            ]
          },
          "metadata": {}
        }
      ]
    },
    {
      "cell_type": "markdown",
      "source": [
        "### Model Checkpoint"
      ],
      "metadata": {
        "id": "4clTrSb75dg-"
      }
    },
    {
      "cell_type": "code",
      "source": [
        "checkpoint = tf.keras.callbacks.ModelCheckpoint('/content/drive/My Drive/4040_final_project/Colab Notebooks/Saved Models_1/{epoch:02d}-{val_accuracy:.2f}.hdf5', \n",
        "                                                monitor='val_accuracy', \n",
        "                                                save_best_only=True, \n",
        "                                                save_weights_only=False, \n",
        "                                                mode='auto')"
      ],
      "metadata": {
        "id": "STEjNMSZ5fO-"
      },
      "execution_count": null,
      "outputs": []
    },
    {
      "cell_type": "code",
      "source": [
        "model = load_model('/content/drive/My Drive/4040_final_project/Colab Notebooks/Saved Models_1/Model1_5.h5')\n",
        "\n",
        "history17 = model.fit(train_generator, \n",
        "                      epochs=10, \n",
        "                      steps_per_epoch=200, \n",
        "                      validation_data=validation_generator,  \n",
        "                      callbacks=[lr_reducer,checkpoint])\n",
        "\n",
        "model.save('/content/drive/My Drive/4040_final_project/Colab Notebooks/Saved Models_1/Model1_6.h5')"
      ],
      "metadata": {
        "id": "X4uBDAf1506e",
        "colab": {
          "base_uri": "https://localhost:8080/"
        },
        "outputId": "c2b5df4f-7729-4253-b36b-bae9c62f2eb5"
      },
      "execution_count": null,
      "outputs": [
        {
          "output_type": "stream",
          "name": "stdout",
          "text": [
            "Epoch 1/10\n",
            "200/200 [==============================] - 83s 413ms/step - loss: 1.6926 - accuracy: 0.5910 - val_loss: 2.2583 - val_accuracy: 0.4817 - lr: 0.0010\n",
            "Epoch 2/10\n",
            "200/200 [==============================] - 81s 407ms/step - loss: 1.0201 - accuracy: 0.7290 - val_loss: 2.2879 - val_accuracy: 0.4756 - lr: 0.0010\n",
            "Epoch 3/10\n",
            "200/200 [==============================] - 81s 406ms/step - loss: 0.7657 - accuracy: 0.7990 - val_loss: 2.2554 - val_accuracy: 0.4766 - lr: 0.0010\n",
            "Epoch 4/10\n",
            "200/200 [==============================] - 81s 405ms/step - loss: 0.5780 - accuracy: 0.8522 - val_loss: 2.3007 - val_accuracy: 0.4706 - lr: 0.0010\n",
            "Epoch 5/10\n",
            "200/200 [==============================] - 81s 405ms/step - loss: 0.4536 - accuracy: 0.8899 - val_loss: 2.3510 - val_accuracy: 0.4608 - lr: 0.0010\n",
            "Epoch 6/10\n",
            "200/200 [==============================] - 81s 405ms/step - loss: 0.3495 - accuracy: 0.9227 - val_loss: 2.3236 - val_accuracy: 0.4703 - lr: 0.0010\n",
            "Epoch 7/10\n",
            "200/200 [==============================] - 81s 405ms/step - loss: 0.2697 - accuracy: 0.9474 - val_loss: 2.3318 - val_accuracy: 0.4688 - lr: 0.0010\n",
            "Epoch 8/10\n",
            "200/200 [==============================] - 81s 405ms/step - loss: 0.2082 - accuracy: 0.9639 - val_loss: 2.3483 - val_accuracy: 0.4646 - lr: 0.0010\n",
            "Epoch 9/10\n",
            "200/200 [==============================] - 82s 410ms/step - loss: 0.1427 - accuracy: 0.9802 - val_loss: 2.2565 - val_accuracy: 0.4849 - lr: 3.1623e-04\n",
            "Epoch 10/10\n",
            "200/200 [==============================] - 81s 405ms/step - loss: 0.1182 - accuracy: 0.9870 - val_loss: 2.2651 - val_accuracy: 0.4817 - lr: 3.1623e-04\n"
          ]
        }
      ]
    },
    {
      "cell_type": "markdown",
      "source": [
        "### Evaluation"
      ],
      "metadata": {
        "id": "gRVvaBB157kw"
      }
    },
    {
      "cell_type": "code",
      "source": [
        "valid_data = ImageDataGenerator(rescale=1./255)\n",
        "validation_generator = valid_data.flow_from_dataframe(val_data, \n",
        "                                                      directory='./tiny-imagenet-200/val/images/', \n",
        "                                                      x_col='File', \n",
        "                                                      y_col='Class', \n",
        "                                                      target_size=(64, 64),\n",
        "                                                      color_mode='rgb', \n",
        "                                                      class_mode='categorical', \n",
        "                                                      batch_size=64, \n",
        "                                                      shuffle=True, \n",
        "                                                      seed=42)"
      ],
      "metadata": {
        "id": "1XtAuEhZ58qb",
        "colab": {
          "base_uri": "https://localhost:8080/"
        },
        "outputId": "8019faf4-29b5-43e3-cba3-aa5ba9c73ede"
      },
      "execution_count": null,
      "outputs": [
        {
          "output_type": "stream",
          "name": "stdout",
          "text": [
            "Found 10000 validated image filenames belonging to 200 classes.\n"
          ]
        }
      ]
    },
    {
      "cell_type": "code",
      "source": [
        "model = load_model('/content/drive/My Drive/4040_final_project/Colab Notebooks/Saved Models_1/Model1_5.h5')\n",
        "\n",
        "validation_steps_per_epoch = np.math.ceil(validation_generator.samples / validation_generator.batch_size)\n",
        "\n",
        "score = model.evaluate(validation_generator)\n",
        "print('Test loss:', score[0])\n",
        "print('Test accuracy:', score[1])"
      ],
      "metadata": {
        "id": "swdr5nNL6Exh",
        "colab": {
          "base_uri": "https://localhost:8080/"
        },
        "outputId": "a132328d-8925-4a90-be86-9c146734462b"
      },
      "execution_count": null,
      "outputs": [
        {
          "output_type": "stream",
          "name": "stdout",
          "text": [
            "157/157 [==============================] - 27s 111ms/step - loss: 2.1563 - accuracy: 0.5377\n",
            "Test loss: 2.1563007831573486\n",
            "Test accuracy: 0.5376999974250793\n"
          ]
        }
      ]
    },
    {
      "cell_type": "code",
      "source": [
        ""
      ],
      "metadata": {
        "id": "GAegqloP2Tl5"
      },
      "execution_count": null,
      "outputs": []
    }
  ]
}