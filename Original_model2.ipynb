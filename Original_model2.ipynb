{
  "nbformat": 4,
  "nbformat_minor": 0,
  "metadata": {
    "colab": {
      "name": "Original_model2.ipynb",
      "provenance": []
    },
    "kernelspec": {
      "name": "python3",
      "display_name": "Python 3"
    },
    "language_info": {
      "name": "python"
    },
    "accelerator": "GPU"
  },
  "cells": [
    {
      "cell_type": "code",
      "execution_count": null,
      "metadata": {
        "id": "OP4xrKLmbBS0"
      },
      "outputs": [],
      "source": [
        "import tensorflow as tf\n",
        "import keras\n",
        "import numpy as np\n",
        "import pandas as pd\n",
        "\n",
        "from tensorflow.keras.layers import Conv2D, Input, AveragePooling2D, Activation, GlobalAveragePooling2D, Concatenate, BatchNormalization, MaxPooling2D, Lambda\n",
        "from tensorflow.keras.optimizers import Adam\n",
        "from tensorflow.keras.preprocessing.image import ImageDataGenerator\n",
        "from keras.layers.merge import concatenate\n",
        "from tensorflow.keras.models import load_model\n",
        "\n",
        "import matplotlib.pyplot as plt\n",
        "import numpy as np\n",
        "import pandas as pd\n",
        "\n",
        "from keras import backend as k\n",
        "\n",
        "import imgaug as ia\n",
        "from imgaug import augmenters as iaa\n",
        "\n",
        "num_classes = 200\n",
        "\n",
        "img_height, img_width = 64, 64\n",
        "\n",
        "channels = 3\n",
        "\n",
        "batch_size = 128\n",
        "epochs = 24\n",
        "num_train = 100000\n",
        "num_validation = 10000"
      ]
    },
    {
      "cell_type": "markdown",
      "source": [
        "## Import Dataset"
      ],
      "metadata": {
        "id": "gczs-G8RbYEj"
      }
    },
    {
      "cell_type": "code",
      "source": [
        "from google.colab import drive\n",
        "drive.mount('/content/drive', force_remount=True)"
      ],
      "metadata": {
        "id": "4V1nYc-7bTNK",
        "colab": {
          "base_uri": "https://localhost:8080/"
        },
        "outputId": "5880bad8-a876-434d-f299-e60f19501ea9"
      },
      "execution_count": null,
      "outputs": [
        {
          "output_type": "stream",
          "name": "stdout",
          "text": [
            "Mounted at /content/drive\n"
          ]
        }
      ]
    },
    {
      "cell_type": "code",
      "source": [
        "!wget http://cs231n.stanford.edu/tiny-imagenet-200.zip\n",
        "!unzip -qq 'tiny-imagenet-200.zip'"
      ],
      "metadata": {
        "colab": {
          "base_uri": "https://localhost:8080/"
        },
        "id": "ndKMSQvJbZxn",
        "outputId": "066ed343-c6d7-4bfd-c20e-b602f86b9c81"
      },
      "execution_count": null,
      "outputs": [
        {
          "output_type": "stream",
          "name": "stdout",
          "text": [
            "--2021-12-20 22:29:07--  http://cs231n.stanford.edu/tiny-imagenet-200.zip\n",
            "Resolving cs231n.stanford.edu (cs231n.stanford.edu)... 171.64.68.10\n",
            "Connecting to cs231n.stanford.edu (cs231n.stanford.edu)|171.64.68.10|:80... connected.\n",
            "HTTP request sent, awaiting response... 200 OK\n",
            "Length: 248100043 (237M) [application/zip]\n",
            "Saving to: ‘tiny-imagenet-200.zip’\n",
            "\n",
            "tiny-imagenet-200.z 100%[===================>] 236.61M  18.1MB/s    in 15s     \n",
            "\n",
            "2021-12-20 22:29:22 (16.3 MB/s) - ‘tiny-imagenet-200.zip’ saved [248100043/248100043]\n",
            "\n"
          ]
        }
      ]
    },
    {
      "cell_type": "code",
      "source": [
        "val_data = pd.read_csv('./tiny-imagenet-200/val/val_annotations.txt', sep='\\t', header=None, \n",
        "                       names=['File', 'Class', 'X', 'Y', 'H', 'W'])\n",
        "val_data.drop(['X', 'Y', 'H', 'W'], axis=1, inplace=True)\n",
        "val_data.head(5)"
      ],
      "metadata": {
        "colab": {
          "base_uri": "https://localhost:8080/",
          "height": 206
        },
        "id": "6pAw7OLVbbjh",
        "outputId": "857f78d7-b5db-4a69-ec0b-65ca4aaa3a7a"
      },
      "execution_count": null,
      "outputs": [
        {
          "output_type": "execute_result",
          "data": {
            "text/html": [
              "\n",
              "  <div id=\"df-81de71f1-4add-4780-bbc2-4025b1faa4a5\">\n",
              "    <div class=\"colab-df-container\">\n",
              "      <div>\n",
              "<style scoped>\n",
              "    .dataframe tbody tr th:only-of-type {\n",
              "        vertical-align: middle;\n",
              "    }\n",
              "\n",
              "    .dataframe tbody tr th {\n",
              "        vertical-align: top;\n",
              "    }\n",
              "\n",
              "    .dataframe thead th {\n",
              "        text-align: right;\n",
              "    }\n",
              "</style>\n",
              "<table border=\"1\" class=\"dataframe\">\n",
              "  <thead>\n",
              "    <tr style=\"text-align: right;\">\n",
              "      <th></th>\n",
              "      <th>File</th>\n",
              "      <th>Class</th>\n",
              "    </tr>\n",
              "  </thead>\n",
              "  <tbody>\n",
              "    <tr>\n",
              "      <th>0</th>\n",
              "      <td>val_0.JPEG</td>\n",
              "      <td>n03444034</td>\n",
              "    </tr>\n",
              "    <tr>\n",
              "      <th>1</th>\n",
              "      <td>val_1.JPEG</td>\n",
              "      <td>n04067472</td>\n",
              "    </tr>\n",
              "    <tr>\n",
              "      <th>2</th>\n",
              "      <td>val_2.JPEG</td>\n",
              "      <td>n04070727</td>\n",
              "    </tr>\n",
              "    <tr>\n",
              "      <th>3</th>\n",
              "      <td>val_3.JPEG</td>\n",
              "      <td>n02808440</td>\n",
              "    </tr>\n",
              "    <tr>\n",
              "      <th>4</th>\n",
              "      <td>val_4.JPEG</td>\n",
              "      <td>n02808440</td>\n",
              "    </tr>\n",
              "  </tbody>\n",
              "</table>\n",
              "</div>\n",
              "      <button class=\"colab-df-convert\" onclick=\"convertToInteractive('df-81de71f1-4add-4780-bbc2-4025b1faa4a5')\"\n",
              "              title=\"Convert this dataframe to an interactive table.\"\n",
              "              style=\"display:none;\">\n",
              "        \n",
              "  <svg xmlns=\"http://www.w3.org/2000/svg\" height=\"24px\"viewBox=\"0 0 24 24\"\n",
              "       width=\"24px\">\n",
              "    <path d=\"M0 0h24v24H0V0z\" fill=\"none\"/>\n",
              "    <path d=\"M18.56 5.44l.94 2.06.94-2.06 2.06-.94-2.06-.94-.94-2.06-.94 2.06-2.06.94zm-11 1L8.5 8.5l.94-2.06 2.06-.94-2.06-.94L8.5 2.5l-.94 2.06-2.06.94zm10 10l.94 2.06.94-2.06 2.06-.94-2.06-.94-.94-2.06-.94 2.06-2.06.94z\"/><path d=\"M17.41 7.96l-1.37-1.37c-.4-.4-.92-.59-1.43-.59-.52 0-1.04.2-1.43.59L10.3 9.45l-7.72 7.72c-.78.78-.78 2.05 0 2.83L4 21.41c.39.39.9.59 1.41.59.51 0 1.02-.2 1.41-.59l7.78-7.78 2.81-2.81c.8-.78.8-2.07 0-2.86zM5.41 20L4 18.59l7.72-7.72 1.47 1.35L5.41 20z\"/>\n",
              "  </svg>\n",
              "      </button>\n",
              "      \n",
              "  <style>\n",
              "    .colab-df-container {\n",
              "      display:flex;\n",
              "      flex-wrap:wrap;\n",
              "      gap: 12px;\n",
              "    }\n",
              "\n",
              "    .colab-df-convert {\n",
              "      background-color: #E8F0FE;\n",
              "      border: none;\n",
              "      border-radius: 50%;\n",
              "      cursor: pointer;\n",
              "      display: none;\n",
              "      fill: #1967D2;\n",
              "      height: 32px;\n",
              "      padding: 0 0 0 0;\n",
              "      width: 32px;\n",
              "    }\n",
              "\n",
              "    .colab-df-convert:hover {\n",
              "      background-color: #E2EBFA;\n",
              "      box-shadow: 0px 1px 2px rgba(60, 64, 67, 0.3), 0px 1px 3px 1px rgba(60, 64, 67, 0.15);\n",
              "      fill: #174EA6;\n",
              "    }\n",
              "\n",
              "    [theme=dark] .colab-df-convert {\n",
              "      background-color: #3B4455;\n",
              "      fill: #D2E3FC;\n",
              "    }\n",
              "\n",
              "    [theme=dark] .colab-df-convert:hover {\n",
              "      background-color: #434B5C;\n",
              "      box-shadow: 0px 1px 3px 1px rgba(0, 0, 0, 0.15);\n",
              "      filter: drop-shadow(0px 1px 2px rgba(0, 0, 0, 0.3));\n",
              "      fill: #FFFFFF;\n",
              "    }\n",
              "  </style>\n",
              "\n",
              "      <script>\n",
              "        const buttonEl =\n",
              "          document.querySelector('#df-81de71f1-4add-4780-bbc2-4025b1faa4a5 button.colab-df-convert');\n",
              "        buttonEl.style.display =\n",
              "          google.colab.kernel.accessAllowed ? 'block' : 'none';\n",
              "\n",
              "        async function convertToInteractive(key) {\n",
              "          const element = document.querySelector('#df-81de71f1-4add-4780-bbc2-4025b1faa4a5');\n",
              "          const dataTable =\n",
              "            await google.colab.kernel.invokeFunction('convertToInteractive',\n",
              "                                                     [key], {});\n",
              "          if (!dataTable) return;\n",
              "\n",
              "          const docLinkHtml = 'Like what you see? Visit the ' +\n",
              "            '<a target=\"_blank\" href=https://colab.research.google.com/notebooks/data_table.ipynb>data table notebook</a>'\n",
              "            + ' to learn more about interactive tables.';\n",
              "          element.innerHTML = '';\n",
              "          dataTable['output_type'] = 'display_data';\n",
              "          await google.colab.output.renderOutput(dataTable, element);\n",
              "          const docLink = document.createElement('div');\n",
              "          docLink.innerHTML = docLinkHtml;\n",
              "          element.appendChild(docLink);\n",
              "        }\n",
              "      </script>\n",
              "    </div>\n",
              "  </div>\n",
              "  "
            ],
            "text/plain": [
              "         File      Class\n",
              "0  val_0.JPEG  n03444034\n",
              "1  val_1.JPEG  n04067472\n",
              "2  val_2.JPEG  n04070727\n",
              "3  val_3.JPEG  n02808440\n",
              "4  val_4.JPEG  n02808440"
            ]
          },
          "metadata": {},
          "execution_count": 4
        }
      ]
    },
    {
      "cell_type": "markdown",
      "source": [
        "# Image Augmentation"
      ],
      "metadata": {
        "id": "RW0Kax-obx7U"
      }
    },
    {
      "cell_type": "code",
      "source": [
        "def CustomImageDataGen(input_img):\n",
        "\n",
        "  prob = lambda aug: iaa.Sometimes(0.5, aug)\n",
        "  \n",
        "  seq = iaa.Sequential([\n",
        "      iaa.Fliplr(0.5),      # Horizontal Flip\n",
        "      iaa.Flipud(0.3),      # Vertical Flip\n",
        "      prob(iaa.GaussianBlur(sigma=(0, 2.5))),     # Gaussian Blur\n",
        "      prob(iaa.CropAndPad(\n",
        "          percent=(-0.1, 0.1),\n",
        "          pad_mode=ia.ALL,\n",
        "          pad_cval=(0, 255)\n",
        "        )),                                       # Crop and Pad\n",
        "      prob(iaa.Affine(\n",
        "          scale={\"x\": (0.9, 1.5), \"y\": (0.9, 1.5)},     # Scale\n",
        "          translate_percent={\"x\": (-0.2, 0.2), \"y\": (-0.2, 0.2)},     # Translate\n",
        "          rotate=(-45, 45),     # Rotate\n",
        "          shear=(-15, 15),      # Shear\n",
        "          mode=ia.ALL\n",
        "      )),      \n",
        "      prob(iaa.CoarseDropout(\n",
        "                        (0.05, 0.15), size_percent=(0.03, 0.06),\n",
        "                        per_channel=0.2\n",
        "                    )),          # Coarse Dropout\n",
        "                \n",
        "      prob(iaa.Multiply((0.8, 1.2), per_channel=0.25)),      # Multiply\n",
        "      \n",
        "      prob(iaa.ContrastNormalization((0.75, 1.5), per_channel=0.5)),      # Contrast Normalisation\n",
        "     ],\n",
        "\n",
        "     random_order = True) \n",
        "  \n",
        "  output_img = seq.augment_image(input_img)\n",
        "  return output_img\n",
        "\n",
        "train_datagen = ImageDataGenerator(rescale=1/255., preprocessing_function = CustomImageDataGen)\n",
        "valid_datagen = ImageDataGenerator(rescale=1/255.)"
      ],
      "metadata": {
        "id": "yby-SrLlbwBr"
      },
      "execution_count": null,
      "outputs": []
    },
    {
      "cell_type": "code",
      "source": [
        "train_generator = train_datagen.flow_from_directory( r'./tiny-imagenet-200/train/', \n",
        "                                                    target_size=(img_width, img_height), \n",
        "                                                    batch_size=batch_size, \n",
        "                                                    class_mode='categorical', \n",
        "                                                    shuffle=True, seed=101)"
      ],
      "metadata": {
        "colab": {
          "base_uri": "https://localhost:8080/"
        },
        "id": "Lj8bUlEGb1Bz",
        "outputId": "6c5b32e8-82b8-49f7-8317-089feffe60ae"
      },
      "execution_count": null,
      "outputs": [
        {
          "output_type": "stream",
          "name": "stdout",
          "text": [
            "Found 100000 images belonging to 200 classes.\n"
          ]
        }
      ]
    },
    {
      "cell_type": "code",
      "source": [
        "validation_generator = valid_datagen.flow_from_dataframe(val_data, directory='./tiny-imagenet-200/val/images/', \n",
        "                                                         x_col='File', y_col='Class', \n",
        "                                                         target_size=(img_width, img_height),\n",
        "                                                         class_mode='categorical', \n",
        "                                                         batch_size=batch_size, \n",
        "                                                         shuffle=False, seed=101)"
      ],
      "metadata": {
        "colab": {
          "base_uri": "https://localhost:8080/"
        },
        "id": "x0Fiq6xub4Oc",
        "outputId": "e3e13efe-b112-4caf-977d-56877478bace"
      },
      "execution_count": null,
      "outputs": [
        {
          "output_type": "stream",
          "name": "stdout",
          "text": [
            "Found 10000 validated image filenames belonging to 200 classes.\n"
          ]
        }
      ]
    },
    {
      "cell_type": "markdown",
      "source": [
        "# Model"
      ],
      "metadata": {
        "id": "HajxUjb6b-Tp"
      }
    },
    {
      "cell_type": "code",
      "source": [
        "input = Input(shape=(img_height, img_width, channels))\n",
        "\n",
        "# Block 1\n",
        "layer0 = Conv2D(32, (3,3), padding='same', kernel_initializer=\"VarianceScaling\",kernel_regularizer=tf.keras.regularizers.L2(2e-4))(input)\n",
        "layer0 = BatchNormalization()(layer0)\n",
        "layer0 = Activation('relu')(layer0)\n",
        "\n",
        "skip_connection_1 = layer0\n",
        "\n",
        "# Block 2\n",
        "layer1 = Conv2D(128, (3,3), padding='same', kernel_initializer=\"VarianceScaling\",kernel_regularizer=tf.keras.regularizers.L2(2e-4))(layer0)\n",
        "layer1 = BatchNormalization()(layer1)\n",
        "layer1 = Activation('relu')(layer1)\n",
        "\n",
        "layer2 = Conv2D(128, (3,3), padding='same', kernel_initializer=\"VarianceScaling\",kernel_regularizer=tf.keras.regularizers.L2(2e-4))(layer1)\n",
        "layer2 = BatchNormalization()(layer2)\n",
        "layer2 = Activation('relu')(layer2)\n",
        "\n",
        "layer3 = Conv2D(128, (3,3), padding='same', kernel_initializer=\"VarianceScaling\",kernel_regularizer=tf.keras.regularizers.L2(2e-4))(layer2)\n",
        "layer3 = BatchNormalization()(layer3)\n",
        "layer3 = Activation('relu')(layer3)\n",
        "\n",
        "layer4 = Conv2D(128, (3,3), padding='same', kernel_initializer=\"VarianceScaling\",kernel_regularizer=tf.keras.regularizers.L2(2e-4))(layer3)\n",
        "layer4 = BatchNormalization()(layer4)\n",
        "layer4 = Activation('relu')(layer4)\n",
        "\n",
        "layer5 = concatenate([skip_connection_1, layer4])\n",
        "layer5 = BatchNormalization()(layer5)\n",
        "layer5 = Activation('relu')(layer5)\n",
        "layer5 = MaxPooling2D(pool_size=(2, 2))(layer5)\n",
        "\n",
        "skip_connection_2 = layer5\n",
        "\n",
        "# Block 3\n",
        "layer6 = Conv2D(256, (3,3), padding='same', kernel_initializer=\"VarianceScaling\",kernel_regularizer=tf.keras.regularizers.L2(2e-4))(layer5)\n",
        "layer6 = BatchNormalization()(layer6)\n",
        "layer6 = Activation('relu')(layer6)\n",
        "\n",
        "layer7 = Conv2D(256, (3,3), padding='same', kernel_initializer=\"VarianceScaling\",kernel_regularizer=tf.keras.regularizers.L2(2e-4))(layer6)\n",
        "layer7 = BatchNormalization()(layer7)\n",
        "layer7 = Activation('relu')(layer7)\n",
        "\n",
        "layer8 = Conv2D(256, (3,3), padding='same', kernel_initializer=\"VarianceScaling\",kernel_regularizer=tf.keras.regularizers.L2(2e-4))(layer7)\n",
        "layer8 = BatchNormalization()(layer8)\n",
        "layer8 = Activation('relu')(layer8)\n",
        "\n",
        "layer9 = Conv2D(256, (3,3), padding='same', kernel_initializer=\"VarianceScaling\",kernel_regularizer=tf.keras.regularizers.L2(2e-4))(layer8)\n",
        "layer9 = BatchNormalization()(layer9)\n",
        "layer9 = Activation('relu')(layer9)\n",
        "\n",
        "layer10 = concatenate([skip_connection_2, layer9])\n",
        "layer10 = BatchNormalization()(layer10)\n",
        "layer10 = Activation('relu')(layer10)\n",
        "layer10 = MaxPooling2D(pool_size=(2, 2))(layer10)\n",
        "\n",
        "skip_connection_3 = layer10\n",
        "\n",
        "\n",
        "# Block 4\n",
        "layer11 = Conv2D(512, (3,3), padding='same', kernel_initializer=\"VarianceScaling\",kernel_regularizer=tf.keras.regularizers.L2(2e-4))(layer10)\n",
        "layer11 = BatchNormalization()(layer11)\n",
        "layer11 = Activation('relu')(layer11)\n",
        "\n",
        "layer12 = Conv2D(512, (3,3), padding='same', kernel_initializer=\"VarianceScaling\",kernel_regularizer=tf.keras.regularizers.L2(2e-4))(layer11)\n",
        "layer12 = BatchNormalization()(layer12)\n",
        "layer12 = Activation('relu')(layer12)\n",
        "\n",
        "layer13 = Conv2D(512, (3,3), padding='same',kernel_initializer=\"VarianceScaling\",kernel_regularizer=tf.keras.regularizers.L2(2e-4))(layer12)\n",
        "layer13 = BatchNormalization()(layer13)\n",
        "layer13 = Activation('relu')(layer13)\n",
        "\n",
        "layer14 = Conv2D(512, (3,3), padding='same',kernel_initializer=\"VarianceScaling\",kernel_regularizer=tf.keras.regularizers.L2(2e-4))(layer13)\n",
        "layer14 = BatchNormalization()(layer14)\n",
        "layer14 = Activation('relu')(layer14)\n",
        "\n",
        "layer15 = concatenate([skip_connection_3, layer14])\n",
        "layer15 = BatchNormalization()(layer15)\n",
        "layer15 = Activation('relu')(layer15)\n",
        "layer15 = MaxPooling2D(pool_size=(2, 2))(layer15)\n",
        "\n",
        "\n",
        "layer16 = Conv2D(num_classes, (1,1), padding='same',kernel_initializer=\"VarianceScaling\",kernel_regularizer=tf.keras.regularizers.L2(2e-4))(layer15)\n",
        "layer16 = GlobalAveragePooling2D()(layer16)\n",
        "\n",
        "#Output Layer\n",
        "output = Activation('softmax')(layer16)"
      ],
      "metadata": {
        "id": "nvPuXF4fb80N"
      },
      "execution_count": null,
      "outputs": []
    },
    {
      "cell_type": "code",
      "source": [
        "model = tf.keras.models.Model(inputs=[input], outputs=[output])\n",
        "model.summary()"
      ],
      "metadata": {
        "colab": {
          "base_uri": "https://localhost:8080/"
        },
        "id": "cUA1icvbcCj-",
        "outputId": "4cec44b0-8145-4e89-fb44-6650a158b92a"
      },
      "execution_count": null,
      "outputs": [
        {
          "output_type": "stream",
          "name": "stdout",
          "text": [
            "Model: \"model_1\"\n",
            "__________________________________________________________________________________________________\n",
            " Layer (type)                   Output Shape         Param #     Connected to                     \n",
            "==================================================================================================\n",
            " input_2 (InputLayer)           [(None, 64, 64, 3)]  0           []                               \n",
            "                                                                                                  \n",
            " conv2d_14 (Conv2D)             (None, 64, 64, 32)   896         ['input_2[0][0]']                \n",
            "                                                                                                  \n",
            " batch_normalization_16 (BatchN  (None, 64, 64, 32)  128         ['conv2d_14[0][0]']              \n",
            " ormalization)                                                                                    \n",
            "                                                                                                  \n",
            " activation_17 (Activation)     (None, 64, 64, 32)   0           ['batch_normalization_16[0][0]'] \n",
            "                                                                                                  \n",
            " conv2d_15 (Conv2D)             (None, 64, 64, 128)  36992       ['activation_17[0][0]']          \n",
            "                                                                                                  \n",
            " batch_normalization_17 (BatchN  (None, 64, 64, 128)  512        ['conv2d_15[0][0]']              \n",
            " ormalization)                                                                                    \n",
            "                                                                                                  \n",
            " activation_18 (Activation)     (None, 64, 64, 128)  0           ['batch_normalization_17[0][0]'] \n",
            "                                                                                                  \n",
            " conv2d_16 (Conv2D)             (None, 64, 64, 128)  147584      ['activation_18[0][0]']          \n",
            "                                                                                                  \n",
            " batch_normalization_18 (BatchN  (None, 64, 64, 128)  512        ['conv2d_16[0][0]']              \n",
            " ormalization)                                                                                    \n",
            "                                                                                                  \n",
            " activation_19 (Activation)     (None, 64, 64, 128)  0           ['batch_normalization_18[0][0]'] \n",
            "                                                                                                  \n",
            " conv2d_17 (Conv2D)             (None, 64, 64, 128)  147584      ['activation_19[0][0]']          \n",
            "                                                                                                  \n",
            " batch_normalization_19 (BatchN  (None, 64, 64, 128)  512        ['conv2d_17[0][0]']              \n",
            " ormalization)                                                                                    \n",
            "                                                                                                  \n",
            " activation_20 (Activation)     (None, 64, 64, 128)  0           ['batch_normalization_19[0][0]'] \n",
            "                                                                                                  \n",
            " conv2d_18 (Conv2D)             (None, 64, 64, 128)  147584      ['activation_20[0][0]']          \n",
            "                                                                                                  \n",
            " batch_normalization_20 (BatchN  (None, 64, 64, 128)  512        ['conv2d_18[0][0]']              \n",
            " ormalization)                                                                                    \n",
            "                                                                                                  \n",
            " activation_21 (Activation)     (None, 64, 64, 128)  0           ['batch_normalization_20[0][0]'] \n",
            "                                                                                                  \n",
            " concatenate_3 (Concatenate)    (None, 64, 64, 160)  0           ['activation_17[0][0]',          \n",
            "                                                                  'activation_21[0][0]']          \n",
            "                                                                                                  \n",
            " batch_normalization_21 (BatchN  (None, 64, 64, 160)  640        ['concatenate_3[0][0]']          \n",
            " ormalization)                                                                                    \n",
            "                                                                                                  \n",
            " activation_22 (Activation)     (None, 64, 64, 160)  0           ['batch_normalization_21[0][0]'] \n",
            "                                                                                                  \n",
            " max_pooling2d_3 (MaxPooling2D)  (None, 32, 32, 160)  0          ['activation_22[0][0]']          \n",
            "                                                                                                  \n",
            " conv2d_19 (Conv2D)             (None, 32, 32, 256)  368896      ['max_pooling2d_3[0][0]']        \n",
            "                                                                                                  \n",
            " batch_normalization_22 (BatchN  (None, 32, 32, 256)  1024       ['conv2d_19[0][0]']              \n",
            " ormalization)                                                                                    \n",
            "                                                                                                  \n",
            " activation_23 (Activation)     (None, 32, 32, 256)  0           ['batch_normalization_22[0][0]'] \n",
            "                                                                                                  \n",
            " conv2d_20 (Conv2D)             (None, 32, 32, 256)  590080      ['activation_23[0][0]']          \n",
            "                                                                                                  \n",
            " batch_normalization_23 (BatchN  (None, 32, 32, 256)  1024       ['conv2d_20[0][0]']              \n",
            " ormalization)                                                                                    \n",
            "                                                                                                  \n",
            " activation_24 (Activation)     (None, 32, 32, 256)  0           ['batch_normalization_23[0][0]'] \n",
            "                                                                                                  \n",
            " conv2d_21 (Conv2D)             (None, 32, 32, 256)  590080      ['activation_24[0][0]']          \n",
            "                                                                                                  \n",
            " batch_normalization_24 (BatchN  (None, 32, 32, 256)  1024       ['conv2d_21[0][0]']              \n",
            " ormalization)                                                                                    \n",
            "                                                                                                  \n",
            " activation_25 (Activation)     (None, 32, 32, 256)  0           ['batch_normalization_24[0][0]'] \n",
            "                                                                                                  \n",
            " conv2d_22 (Conv2D)             (None, 32, 32, 256)  590080      ['activation_25[0][0]']          \n",
            "                                                                                                  \n",
            " batch_normalization_25 (BatchN  (None, 32, 32, 256)  1024       ['conv2d_22[0][0]']              \n",
            " ormalization)                                                                                    \n",
            "                                                                                                  \n",
            " activation_26 (Activation)     (None, 32, 32, 256)  0           ['batch_normalization_25[0][0]'] \n",
            "                                                                                                  \n",
            " concatenate_4 (Concatenate)    (None, 32, 32, 416)  0           ['max_pooling2d_3[0][0]',        \n",
            "                                                                  'activation_26[0][0]']          \n",
            "                                                                                                  \n",
            " batch_normalization_26 (BatchN  (None, 32, 32, 416)  1664       ['concatenate_4[0][0]']          \n",
            " ormalization)                                                                                    \n",
            "                                                                                                  \n",
            " activation_27 (Activation)     (None, 32, 32, 416)  0           ['batch_normalization_26[0][0]'] \n",
            "                                                                                                  \n",
            " max_pooling2d_4 (MaxPooling2D)  (None, 16, 16, 416)  0          ['activation_27[0][0]']          \n",
            "                                                                                                  \n",
            " conv2d_23 (Conv2D)             (None, 16, 16, 512)  1917440     ['max_pooling2d_4[0][0]']        \n",
            "                                                                                                  \n",
            " batch_normalization_27 (BatchN  (None, 16, 16, 512)  2048       ['conv2d_23[0][0]']              \n",
            " ormalization)                                                                                    \n",
            "                                                                                                  \n",
            " activation_28 (Activation)     (None, 16, 16, 512)  0           ['batch_normalization_27[0][0]'] \n",
            "                                                                                                  \n",
            " conv2d_24 (Conv2D)             (None, 16, 16, 512)  2359808     ['activation_28[0][0]']          \n",
            "                                                                                                  \n",
            " batch_normalization_28 (BatchN  (None, 16, 16, 512)  2048       ['conv2d_24[0][0]']              \n",
            " ormalization)                                                                                    \n",
            "                                                                                                  \n",
            " activation_29 (Activation)     (None, 16, 16, 512)  0           ['batch_normalization_28[0][0]'] \n",
            "                                                                                                  \n",
            " conv2d_25 (Conv2D)             (None, 16, 16, 512)  2359808     ['activation_29[0][0]']          \n",
            "                                                                                                  \n",
            " batch_normalization_29 (BatchN  (None, 16, 16, 512)  2048       ['conv2d_25[0][0]']              \n",
            " ormalization)                                                                                    \n",
            "                                                                                                  \n",
            " activation_30 (Activation)     (None, 16, 16, 512)  0           ['batch_normalization_29[0][0]'] \n",
            "                                                                                                  \n",
            " conv2d_26 (Conv2D)             (None, 16, 16, 512)  2359808     ['activation_30[0][0]']          \n",
            "                                                                                                  \n",
            " batch_normalization_30 (BatchN  (None, 16, 16, 512)  2048       ['conv2d_26[0][0]']              \n",
            " ormalization)                                                                                    \n",
            "                                                                                                  \n",
            " activation_31 (Activation)     (None, 16, 16, 512)  0           ['batch_normalization_30[0][0]'] \n",
            "                                                                                                  \n",
            " concatenate_5 (Concatenate)    (None, 16, 16, 928)  0           ['max_pooling2d_4[0][0]',        \n",
            "                                                                  'activation_31[0][0]']          \n",
            "                                                                                                  \n",
            " batch_normalization_31 (BatchN  (None, 16, 16, 928)  3712       ['concatenate_5[0][0]']          \n",
            " ormalization)                                                                                    \n",
            "                                                                                                  \n",
            " activation_32 (Activation)     (None, 16, 16, 928)  0           ['batch_normalization_31[0][0]'] \n",
            "                                                                                                  \n",
            " max_pooling2d_5 (MaxPooling2D)  (None, 8, 8, 928)   0           ['activation_32[0][0]']          \n",
            "                                                                                                  \n",
            " conv2d_27 (Conv2D)             (None, 8, 8, 200)    185800      ['max_pooling2d_5[0][0]']        \n",
            "                                                                                                  \n",
            " global_average_pooling2d_1 (Gl  (None, 200)         0           ['conv2d_27[0][0]']              \n",
            " obalAveragePooling2D)                                                                            \n",
            "                                                                                                  \n",
            " activation_33 (Activation)     (None, 200)          0           ['global_average_pooling2d_1[0][0\n",
            "                                                                 ]']                              \n",
            "                                                                                                  \n",
            "==================================================================================================\n",
            "Total params: 11,822,920\n",
            "Trainable params: 11,812,680\n",
            "Non-trainable params: 10,240\n",
            "__________________________________________________________________________________________________\n"
          ]
        }
      ]
    },
    {
      "cell_type": "code",
      "source": [
        "model.compile(loss='categorical_crossentropy',\n",
        "              optimizer= tf.keras.optimizers.RMSprop(learning_rate= 0.0001, epsilon=1e-08),\n",
        "              metrics=['accuracy'])"
      ],
      "metadata": {
        "id": "3Gy-ih7ucD5m"
      },
      "execution_count": null,
      "outputs": []
    },
    {
      "cell_type": "code",
      "source": [
        "# From https://github.com/bckenstler/CLR\n",
        "from keras.callbacks import *\n",
        "from tensorflow.keras.callbacks import *\n",
        "from tensorflow.keras import backend as K\n",
        "\n",
        "class CyclicLR(Callback):\n",
        "    def __init__(self, base_lr=0.001, max_lr=0.006, step_size=2000., mode='triangular',\n",
        "                 gamma=1., scale_fn=None, scale_mode='cycle'):\n",
        "        super(CyclicLR, self).__init__()\n",
        "\n",
        "        self.base_lr = base_lr\n",
        "        self.max_lr = max_lr\n",
        "        self.step_size = step_size\n",
        "        self.mode = mode\n",
        "        self.gamma = gamma\n",
        "        if scale_fn == None:\n",
        "            if self.mode == 'triangular':\n",
        "                self.scale_fn = lambda x: 1.\n",
        "                self.scale_mode = 'cycle'\n",
        "            elif self.mode == 'triangular2':\n",
        "                self.scale_fn = lambda x: 1/(2.**(x-1))\n",
        "                self.scale_mode = 'cycle'\n",
        "            elif self.mode == 'exp_range':\n",
        "                self.scale_fn = lambda x: gamma**(x)\n",
        "                self.scale_mode = 'iterations'\n",
        "        else:\n",
        "            self.scale_fn = scale_fn\n",
        "            self.scale_mode = scale_mode\n",
        "        self.clr_iterations = 0.\n",
        "        self.trn_iterations = 0.\n",
        "        self.history = {}\n",
        "\n",
        "        self._reset()\n",
        "\n",
        "    def _reset(self, new_base_lr=None, new_max_lr=None,\n",
        "               new_step_size=None):\n",
        "        \"\"\"Resets cycle iterations.\n",
        "        Optional boundary/step size adjustment.\n",
        "        \"\"\"\n",
        "        if new_base_lr != None:\n",
        "            self.base_lr = new_base_lr\n",
        "        if new_max_lr != None:\n",
        "            self.max_lr = new_max_lr\n",
        "        if new_step_size != None:\n",
        "            self.step_size = new_step_size\n",
        "        self.clr_iterations = 0.\n",
        "        \n",
        "    def clr(self):\n",
        "        cycle = np.floor(1+self.clr_iterations/(2*self.step_size))\n",
        "        x = np.abs(self.clr_iterations/self.step_size - 2*cycle + 1)\n",
        "        if self.scale_mode == 'cycle':\n",
        "            return self.base_lr + (self.max_lr-self.base_lr)*np.maximum(0, (1-x))*self.scale_fn(cycle)\n",
        "        else:\n",
        "            return self.base_lr + (self.max_lr-self.base_lr)*np.maximum(0, (1-x))*self.scale_fn(self.clr_iterations)\n",
        "        \n",
        "    def on_train_begin(self, logs={}):\n",
        "        logs = logs or {}\n",
        "\n",
        "        if self.clr_iterations == 0:\n",
        "            K.set_value(self.model.optimizer.lr, self.base_lr)\n",
        "        else:\n",
        "            K.set_value(self.model.optimizer.lr, self.clr())        \n",
        "            \n",
        "    def on_batch_end(self, epoch, logs=None):\n",
        "        \n",
        "        logs = logs or {}\n",
        "        self.trn_iterations += 1\n",
        "        self.clr_iterations += 1\n",
        "\n",
        "        self.history.setdefault('lr', []).append(K.get_value(self.model.optimizer.lr))\n",
        "        self.history.setdefault('iterations', []).append(self.trn_iterations)\n",
        "\n",
        "        for k, v in logs.items():\n",
        "            self.history.setdefault(k, []).append(v)\n",
        "        \n",
        "        K.set_value(self.model.optimizer.lr, self.clr())"
      ],
      "metadata": {
        "id": "cpW_Zan5dIZT"
      },
      "execution_count": null,
      "outputs": []
    },
    {
      "cell_type": "markdown",
      "source": [
        "## Train"
      ],
      "metadata": {
        "id": "G49xVQBsNGxr"
      }
    },
    {
      "cell_type": "code",
      "source": [
        "clr = CyclicLR(base_lr=0.0001, max_lr=0.0006, step_size=4686., mode='triangular2')\n",
        "checkpointer = tf.keras.callbacks.ModelCheckpoint(filepath=\"/content/drive/My Drive/Colab Notebooks/Saved Models_2/model1.hdf5\", \n",
        "                                                  verbose=1, \n",
        "                                                  save_best_only=True, \n",
        "                                                  monitor=\"val_accuracy\")\n",
        "\n",
        "history = model.fit(train_generator,\n",
        "                    epochs=epochs,\n",
        "                    steps_per_epoch= num_train // batch_size,\n",
        "                    validation_steps= num_validation // batch_size,\n",
        "                    validation_data=validation_generator,\n",
        "                    callbacks=[clr, checkpointer])\n",
        "df = pd.DataFrame(history.history)\n",
        "df.to_csv('train1.csv')\n",
        "from google.colab import files\n",
        "files.download('train1.csv')"
      ],
      "metadata": {
        "colab": {
          "base_uri": "https://localhost:8080/",
          "height": 1000
        },
        "id": "1X_5c204crqP",
        "outputId": "0171a9a4-0564-49e1-b946-869ef6e45c54"
      },
      "execution_count": null,
      "outputs": [
        {
          "output_type": "stream",
          "name": "stdout",
          "text": [
            "Epoch 1/24\n",
            "781/781 [==============================] - ETA: 0s - loss: 5.5115 - accuracy: 0.0500\n",
            "Epoch 00001: val_accuracy improved from -inf to 0.08524, saving model to /content/drive/My Drive/Colab Notebooks/Saved Models_2/model1.hdf5\n",
            "781/781 [==============================] - 993s 1s/step - loss: 5.5115 - accuracy: 0.0500 - val_loss: 5.0823 - val_accuracy: 0.0852\n",
            "Epoch 2/24\n",
            "781/781 [==============================] - ETA: 0s - loss: 4.8753 - accuracy: 0.1030\n",
            "Epoch 00002: val_accuracy improved from 0.08524 to 0.13802, saving model to /content/drive/My Drive/Colab Notebooks/Saved Models_2/model1.hdf5\n",
            "781/781 [==============================] - 993s 1s/step - loss: 4.8753 - accuracy: 0.1030 - val_loss: 4.5750 - val_accuracy: 0.1380\n",
            "Epoch 3/24\n",
            "781/781 [==============================] - ETA: 0s - loss: 4.5388 - accuracy: 0.1382\n",
            "Epoch 00003: val_accuracy improved from 0.13802 to 0.15054, saving model to /content/drive/My Drive/Colab Notebooks/Saved Models_2/model1.hdf5\n",
            "781/781 [==============================] - 992s 1s/step - loss: 4.5388 - accuracy: 0.1382 - val_loss: 4.5351 - val_accuracy: 0.1505\n",
            "Epoch 4/24\n",
            "781/781 [==============================] - ETA: 0s - loss: 4.3488 - accuracy: 0.1655\n",
            "Epoch 00004: val_accuracy improved from 0.15054 to 0.21214, saving model to /content/drive/My Drive/Colab Notebooks/Saved Models_2/model1.hdf5\n",
            "781/781 [==============================] - 990s 1s/step - loss: 4.3488 - accuracy: 0.1655 - val_loss: 4.0197 - val_accuracy: 0.2121\n",
            "Epoch 5/24\n",
            "781/781 [==============================] - ETA: 0s - loss: 4.2488 - accuracy: 0.1897\n",
            "Epoch 00005: val_accuracy did not improve from 0.21214\n",
            "781/781 [==============================] - 992s 1s/step - loss: 4.2488 - accuracy: 0.1897 - val_loss: 4.4231 - val_accuracy: 0.1737\n",
            "Epoch 6/24\n",
            "781/781 [==============================] - ETA: 0s - loss: 4.2507 - accuracy: 0.2060\n",
            "Epoch 00006: val_accuracy improved from 0.21214 to 0.21795, saving model to /content/drive/My Drive/Colab Notebooks/Saved Models_2/model1.hdf5\n",
            "781/781 [==============================] - 993s 1s/step - loss: 4.2507 - accuracy: 0.2060 - val_loss: 4.4041 - val_accuracy: 0.2179\n",
            "Epoch 7/24\n",
            "781/781 [==============================] - ETA: 0s - loss: 4.2210 - accuracy: 0.2299\n",
            "Epoch 00007: val_accuracy improved from 0.21795 to 0.26573, saving model to /content/drive/My Drive/Colab Notebooks/Saved Models_2/model1.hdf5\n",
            "781/781 [==============================] - 987s 1s/step - loss: 4.2210 - accuracy: 0.2299 - val_loss: 4.0577 - val_accuracy: 0.2657\n",
            "Epoch 8/24\n",
            "781/781 [==============================] - ETA: 0s - loss: 4.1190 - accuracy: 0.2633\n",
            "Epoch 00008: val_accuracy did not improve from 0.26573\n",
            "781/781 [==============================] - 985s 1s/step - loss: 4.1190 - accuracy: 0.2633 - val_loss: 4.4599 - val_accuracy: 0.2228\n",
            "Epoch 9/24\n",
            "781/781 [==============================] - ETA: 0s - loss: 4.0334 - accuracy: 0.2904\n",
            "Epoch 00009: val_accuracy improved from 0.26573 to 0.32322, saving model to /content/drive/My Drive/Colab Notebooks/Saved Models_2/model1.hdf5\n",
            "781/781 [==============================] - 980s 1s/step - loss: 4.0334 - accuracy: 0.2904 - val_loss: 3.9240 - val_accuracy: 0.3232\n",
            "Epoch 10/24\n",
            "781/781 [==============================] - ETA: 0s - loss: 3.9463 - accuracy: 0.3211\n",
            "Epoch 00010: val_accuracy improved from 0.32322 to 0.37911, saving model to /content/drive/My Drive/Colab Notebooks/Saved Models_2/model1.hdf5\n",
            "781/781 [==============================] - 979s 1s/step - loss: 3.9463 - accuracy: 0.3211 - val_loss: 3.6369 - val_accuracy: 0.3791\n",
            "Epoch 11/24\n",
            "781/781 [==============================] - ETA: 0s - loss: 3.8553 - accuracy: 0.3485\n",
            "Epoch 00011: val_accuracy improved from 0.37911 to 0.39373, saving model to /content/drive/My Drive/Colab Notebooks/Saved Models_2/model1.hdf5\n",
            "781/781 [==============================] - 976s 1s/step - loss: 3.8553 - accuracy: 0.3485 - val_loss: 3.6271 - val_accuracy: 0.3937\n",
            "Epoch 12/24\n",
            "781/781 [==============================] - ETA: 0s - loss: 3.7476 - accuracy: 0.3789\n",
            "Epoch 00012: val_accuracy improved from 0.39373 to 0.46494, saving model to /content/drive/My Drive/Colab Notebooks/Saved Models_2/model1.hdf5\n",
            "781/781 [==============================] - 980s 1s/step - loss: 3.7476 - accuracy: 0.3789 - val_loss: 3.3384 - val_accuracy: 0.4649\n",
            "Epoch 13/24\n",
            "781/781 [==============================] - ETA: 0s - loss: 3.6908 - accuracy: 0.3970\n",
            "Epoch 00013: val_accuracy did not improve from 0.46494\n",
            "781/781 [==============================] - 979s 1s/step - loss: 3.6908 - accuracy: 0.3970 - val_loss: 3.4363 - val_accuracy: 0.4593\n",
            "Epoch 14/24\n",
            "781/781 [==============================] - ETA: 0s - loss: 3.7502 - accuracy: 0.3942\n",
            "Epoch 00014: val_accuracy did not improve from 0.46494\n",
            "781/781 [==============================] - 976s 1s/step - loss: 3.7502 - accuracy: 0.3942 - val_loss: 3.6675 - val_accuracy: 0.4258\n",
            "Epoch 15/24\n",
            "781/781 [==============================] - ETA: 0s - loss: 3.8406 - accuracy: 0.3877\n",
            "Epoch 00015: val_accuracy did not improve from 0.46494\n",
            "781/781 [==============================] - 975s 1s/step - loss: 3.8406 - accuracy: 0.3877 - val_loss: 3.9281 - val_accuracy: 0.3845\n",
            "Epoch 16/24\n",
            "781/781 [==============================] - ETA: 0s - loss: 3.9592 - accuracy: 0.3812\n",
            "Epoch 00016: val_accuracy did not improve from 0.46494\n",
            "781/781 [==============================] - 970s 1s/step - loss: 3.9592 - accuracy: 0.3812 - val_loss: 3.7711 - val_accuracy: 0.4273\n",
            "Epoch 17/24\n",
            "781/781 [==============================] - ETA: 0s - loss: 4.0843 - accuracy: 0.3767\n",
            "Epoch 00017: val_accuracy did not improve from 0.46494\n",
            "781/781 [==============================] - 969s 1s/step - loss: 4.0843 - accuracy: 0.3767 - val_loss: 4.1086 - val_accuracy: 0.3797\n",
            "Epoch 18/24\n",
            "781/781 [==============================] - ETA: 0s - loss: 4.2272 - accuracy: 0.3737\n",
            "Epoch 00018: val_accuracy did not improve from 0.46494\n",
            "781/781 [==============================] - 976s 1s/step - loss: 4.2272 - accuracy: 0.3737 - val_loss: 4.1630 - val_accuracy: 0.3976\n",
            "Epoch 19/24\n",
            "781/781 [==============================] - ETA: 0s - loss: 4.3210 - accuracy: 0.3798\n",
            "Epoch 00019: val_accuracy did not improve from 0.46494\n",
            "781/781 [==============================] - 979s 1s/step - loss: 4.3210 - accuracy: 0.3798 - val_loss: 4.1167 - val_accuracy: 0.4303\n",
            "Epoch 20/24\n",
            "781/781 [==============================] - ETA: 0s - loss: 4.3422 - accuracy: 0.3984\n",
            "Epoch 00020: val_accuracy did not improve from 0.46494\n",
            "781/781 [==============================] - 980s 1s/step - loss: 4.3422 - accuracy: 0.3984 - val_loss: 4.0906 - val_accuracy: 0.4601\n",
            "Epoch 21/24\n",
            "781/781 [==============================] - ETA: 0s - loss: 4.3413 - accuracy: 0.4178\n",
            "Epoch 00021: val_accuracy did not improve from 0.46494\n",
            "781/781 [==============================] - 976s 1s/step - loss: 4.3413 - accuracy: 0.4178 - val_loss: 4.3038 - val_accuracy: 0.4416\n",
            "Epoch 22/24\n",
            "781/781 [==============================] - ETA: 0s - loss: 4.3278 - accuracy: 0.4351\n",
            "Epoch 00022: val_accuracy improved from 0.46494 to 0.47486, saving model to /content/drive/My Drive/Colab Notebooks/Saved Models_2/model1.hdf5\n",
            "781/781 [==============================] - 982s 1s/step - loss: 4.3278 - accuracy: 0.4351 - val_loss: 4.1434 - val_accuracy: 0.4749\n",
            "Epoch 23/24\n",
            "781/781 [==============================] - ETA: 0s - loss: 4.3018 - accuracy: 0.4535\n",
            "Epoch 00023: val_accuracy improved from 0.47486 to 0.50431, saving model to /content/drive/My Drive/Colab Notebooks/Saved Models_2/model1.hdf5\n",
            "781/781 [==============================] - 981s 1s/step - loss: 4.3018 - accuracy: 0.4535 - val_loss: 4.0863 - val_accuracy: 0.5043\n",
            "Epoch 24/24\n",
            "781/781 [==============================] - ETA: 0s - loss: 4.2564 - accuracy: 0.4741\n",
            "Epoch 00024: val_accuracy improved from 0.50431 to 0.54367, saving model to /content/drive/My Drive/Colab Notebooks/Saved Models_2/model1.hdf5\n",
            "781/781 [==============================] - 971s 1s/step - loss: 4.2564 - accuracy: 0.4741 - val_loss: 3.9439 - val_accuracy: 0.5437\n"
          ]
        },
        {
          "output_type": "display_data",
          "data": {
            "application/javascript": [
              "\n",
              "    async function download(id, filename, size) {\n",
              "      if (!google.colab.kernel.accessAllowed) {\n",
              "        return;\n",
              "      }\n",
              "      const div = document.createElement('div');\n",
              "      const label = document.createElement('label');\n",
              "      label.textContent = `Downloading \"${filename}\": `;\n",
              "      div.appendChild(label);\n",
              "      const progress = document.createElement('progress');\n",
              "      progress.max = size;\n",
              "      div.appendChild(progress);\n",
              "      document.body.appendChild(div);\n",
              "\n",
              "      const buffers = [];\n",
              "      let downloaded = 0;\n",
              "\n",
              "      const channel = await google.colab.kernel.comms.open(id);\n",
              "      // Send a message to notify the kernel that we're ready.\n",
              "      channel.send({})\n",
              "\n",
              "      for await (const message of channel.messages) {\n",
              "        // Send a message to notify the kernel that we're ready.\n",
              "        channel.send({})\n",
              "        if (message.buffers) {\n",
              "          for (const buffer of message.buffers) {\n",
              "            buffers.push(buffer);\n",
              "            downloaded += buffer.byteLength;\n",
              "            progress.value = downloaded;\n",
              "          }\n",
              "        }\n",
              "      }\n",
              "      const blob = new Blob(buffers, {type: 'application/binary'});\n",
              "      const a = document.createElement('a');\n",
              "      a.href = window.URL.createObjectURL(blob);\n",
              "      a.download = filename;\n",
              "      div.appendChild(a);\n",
              "      a.click();\n",
              "      div.remove();\n",
              "    }\n",
              "  "
            ],
            "text/plain": [
              "<IPython.core.display.Javascript object>"
            ]
          },
          "metadata": {}
        },
        {
          "output_type": "display_data",
          "data": {
            "application/javascript": [
              "download(\"download_d06fbc28-1307-42da-8f16-fb2eef46c31a\", \"train1.csv\", 1904)"
            ],
            "text/plain": [
              "<IPython.core.display.Javascript object>"
            ]
          },
          "metadata": {}
        }
      ]
    },
    {
      "cell_type": "code",
      "source": [
        "from keras.models import load_model\n",
        "new_model = load_model(\"./drive/My Drive/4040_final_project/Colab Notebooks/Saved Models_2/model1.hdf5\")"
      ],
      "metadata": {
        "id": "dlp8hao9dOR3"
      },
      "execution_count": null,
      "outputs": []
    },
    {
      "cell_type": "code",
      "source": [
        "\n",
        "clr = CyclicLR(base_lr=0.00001, max_lr=0.00006, step_size=4686., mode='triangular2') #Cyclic learning rate\n",
        "checkpointer_2 = tf.keras.callbacks.ModelCheckpoint(filepath=\"/content/drive/My Drive/4040_final_project/Colab Notebooks/Saved Models_2/model2.hdf5\", \n",
        "                                                    save_best_only=True, \n",
        "                                                    monitor=\"val_accuracy\")\n",
        "\n",
        "history = new_model.fit(train_generator,\n",
        "                        epochs=epochs,\n",
        "                        steps_per_epoch= num_train // batch_size,\n",
        "                        validation_steps= num_validation // batch_size,\n",
        "                        validation_data=validation_generator,\n",
        "                        callbacks=[clr, checkpointer_2]\n",
        "                       )\n",
        "\n",
        "df = pd.DataFrame(history.history)\n",
        "df.to_csv('train2.csv')\n",
        "from google.colab import files\n",
        "files.download('train2.csv')"
      ],
      "metadata": {
        "id": "TY1w9YlZmBpX",
        "colab": {
          "base_uri": "https://localhost:8080/",
          "height": 1000
        },
        "outputId": "bc9642cf-8ad0-4fd8-b3b1-6e286e9a5848"
      },
      "execution_count": null,
      "outputs": [
        {
          "output_type": "stream",
          "name": "stdout",
          "text": [
            "Epoch 1/24\n",
            "781/781 [==============================] - ETA: 0s - loss: 4.1240 - accuracy: 0.5084\n",
            "Epoch 00001: val_accuracy improved from -inf to 0.57993, saving model to /content/drive/My Drive/4040_final_project/Colab Notebooks/Saved Models_2/model2.hdf5\n",
            "781/781 [==============================] - 1067s 1s/step - loss: 4.1240 - accuracy: 0.5084 - val_loss: 3.7981 - val_accuracy: 0.5799\n",
            "Epoch 2/24\n",
            "781/781 [==============================] - ETA: 0s - loss: 4.0962 - accuracy: 0.5172\n",
            "Epoch 00002: val_accuracy did not improve from 0.57993\n",
            "781/781 [==============================] - 1056s 1s/step - loss: 4.0962 - accuracy: 0.5172 - val_loss: 3.8113 - val_accuracy: 0.5772\n",
            "Epoch 3/24\n",
            "781/781 [==============================] - ETA: 0s - loss: 4.1005 - accuracy: 0.5179\n",
            "Epoch 00003: val_accuracy did not improve from 0.57993\n",
            "781/781 [==============================] - 1049s 1s/step - loss: 4.1005 - accuracy: 0.5179 - val_loss: 3.8194 - val_accuracy: 0.5767\n",
            "Epoch 4/24\n",
            "781/781 [==============================] - ETA: 0s - loss: 4.1042 - accuracy: 0.5194\n",
            "Epoch 00004: val_accuracy did not improve from 0.57993\n",
            "781/781 [==============================] - 1042s 1s/step - loss: 4.1042 - accuracy: 0.5194 - val_loss: 3.8445 - val_accuracy: 0.5719\n",
            "Epoch 5/24\n",
            "781/781 [==============================] - ETA: 0s - loss: 4.1125 - accuracy: 0.5188\n",
            "Epoch 00005: val_accuracy did not improve from 0.57993\n",
            "781/781 [==============================] - 1045s 1s/step - loss: 4.1125 - accuracy: 0.5188 - val_loss: 3.8843 - val_accuracy: 0.5745\n",
            "Epoch 6/24\n",
            "781/781 [==============================] - ETA: 0s - loss: 4.1291 - accuracy: 0.5198\n",
            "Epoch 00006: val_accuracy did not improve from 0.57993\n",
            "781/781 [==============================] - 1058s 1s/step - loss: 4.1291 - accuracy: 0.5198 - val_loss: 3.9073 - val_accuracy: 0.5713\n",
            "Epoch 7/24\n",
            "781/781 [==============================] - ETA: 0s - loss: 4.1416 - accuracy: 0.5207\n",
            "Epoch 00007: val_accuracy did not improve from 0.57993\n",
            "781/781 [==============================] - 1049s 1s/step - loss: 4.1416 - accuracy: 0.5207 - val_loss: 3.9370 - val_accuracy: 0.5721\n",
            "Epoch 8/24\n",
            "781/781 [==============================] - ETA: 0s - loss: 4.1293 - accuracy: 0.5292\n",
            "Epoch 00008: val_accuracy improved from 0.57993 to 0.58103, saving model to /content/drive/My Drive/4040_final_project/Colab Notebooks/Saved Models_2/model2.hdf5\n",
            "781/781 [==============================] - 1055s 1s/step - loss: 4.1293 - accuracy: 0.5292 - val_loss: 3.9081 - val_accuracy: 0.5810\n",
            "Epoch 9/24\n",
            "781/781 [==============================] - ETA: 0s - loss: 4.1130 - accuracy: 0.5368\n",
            "Epoch 00009: val_accuracy improved from 0.58103 to 0.58744, saving model to /content/drive/My Drive/4040_final_project/Colab Notebooks/Saved Models_2/model2.hdf5\n",
            "781/781 [==============================] - 1030s 1s/step - loss: 4.1130 - accuracy: 0.5368 - val_loss: 3.9159 - val_accuracy: 0.5874\n",
            "Epoch 10/24\n",
            "781/781 [==============================] - ETA: 0s - loss: 4.0957 - accuracy: 0.5439\n",
            "Epoch 00010: val_accuracy improved from 0.58744 to 0.59415, saving model to /content/drive/My Drive/4040_final_project/Colab Notebooks/Saved Models_2/model2.hdf5\n",
            "781/781 [==============================] - 1018s 1s/step - loss: 4.0957 - accuracy: 0.5439 - val_loss: 3.8939 - val_accuracy: 0.5942\n",
            "Epoch 11/24\n",
            "781/781 [==============================] - ETA: 0s - loss: 4.0725 - accuracy: 0.5510\n",
            "Epoch 00011: val_accuracy improved from 0.59415 to 0.60166, saving model to /content/drive/My Drive/4040_final_project/Colab Notebooks/Saved Models_2/model2.hdf5\n",
            "781/781 [==============================] - 1015s 1s/step - loss: 4.0725 - accuracy: 0.5510 - val_loss: 3.8594 - val_accuracy: 0.6017\n",
            "Epoch 12/24\n",
            "781/781 [==============================] - ETA: 0s - loss: 4.0560 - accuracy: 0.5565\n",
            "Epoch 00012: val_accuracy improved from 0.60166 to 0.60667, saving model to /content/drive/My Drive/4040_final_project/Colab Notebooks/Saved Models_2/model2.hdf5\n",
            "781/781 [==============================] - 1014s 1s/step - loss: 4.0560 - accuracy: 0.5565 - val_loss: 3.8496 - val_accuracy: 0.6067\n",
            "Epoch 13/24\n",
            "781/781 [==============================] - ETA: 0s - loss: 4.0500 - accuracy: 0.5584\n",
            "Epoch 00013: val_accuracy did not improve from 0.60667\n",
            "781/781 [==============================] - 1016s 1s/step - loss: 4.0500 - accuracy: 0.5584 - val_loss: 3.8549 - val_accuracy: 0.6039\n",
            "Epoch 14/24\n",
            "781/781 [==============================] - ETA: 0s - loss: 4.0470 - accuracy: 0.5641\n",
            "Epoch 00014: val_accuracy did not improve from 0.60667\n",
            "781/781 [==============================] - 1013s 1s/step - loss: 4.0470 - accuracy: 0.5641 - val_loss: 3.8781 - val_accuracy: 0.5994\n",
            "Epoch 15/24\n",
            "781/781 [==============================] - ETA: 0s - loss: 4.0598 - accuracy: 0.5585\n",
            "Epoch 00015: val_accuracy did not improve from 0.60667\n",
            "781/781 [==============================] - 1014s 1s/step - loss: 4.0598 - accuracy: 0.5585 - val_loss: 3.8891 - val_accuracy: 0.6027\n",
            "Epoch 16/24\n",
            "781/781 [==============================] - ETA: 0s - loss: 4.0739 - accuracy: 0.5586\n",
            "Epoch 00016: val_accuracy did not improve from 0.60667\n",
            "781/781 [==============================] - 1015s 1s/step - loss: 4.0739 - accuracy: 0.5586 - val_loss: 3.9221 - val_accuracy: 0.5964\n",
            "Epoch 17/24\n",
            "781/781 [==============================] - ETA: 0s - loss: 4.0782 - accuracy: 0.5607\n",
            "Epoch 00017: val_accuracy did not improve from 0.60667\n",
            "781/781 [==============================] - 1014s 1s/step - loss: 4.0782 - accuracy: 0.5607 - val_loss: 3.9265 - val_accuracy: 0.5979\n",
            "Epoch 18/24\n",
            "781/781 [==============================] - ETA: 0s - loss: 4.0987 - accuracy: 0.5591\n",
            "Epoch 00018: val_accuracy did not improve from 0.60667\n",
            "781/781 [==============================] - 1019s 1s/step - loss: 4.0987 - accuracy: 0.5591 - val_loss: 3.9505 - val_accuracy: 0.5959\n",
            "Epoch 19/24\n",
            "781/781 [==============================] - ETA: 0s - loss: 4.1013 - accuracy: 0.5604\n",
            "Epoch 00019: val_accuracy did not improve from 0.60667\n",
            "781/781 [==============================] - 1014s 1s/step - loss: 4.1013 - accuracy: 0.5604 - val_loss: 3.9776 - val_accuracy: 0.5967\n",
            "Epoch 20/24\n",
            "781/781 [==============================] - ETA: 0s - loss: 4.0931 - accuracy: 0.5664\n",
            "Epoch 00020: val_accuracy did not improve from 0.60667\n",
            "781/781 [==============================] - 1017s 1s/step - loss: 4.0931 - accuracy: 0.5664 - val_loss: 3.9528 - val_accuracy: 0.6010\n",
            "Epoch 21/24\n",
            "781/781 [==============================] - ETA: 0s - loss: 4.0846 - accuracy: 0.5704\n",
            "Epoch 00021: val_accuracy did not improve from 0.60667\n",
            "781/781 [==============================] - 1015s 1s/step - loss: 4.0846 - accuracy: 0.5704 - val_loss: 3.9604 - val_accuracy: 0.6028\n",
            "Epoch 22/24\n",
            "781/781 [==============================] - ETA: 0s - loss: 4.0758 - accuracy: 0.5739\n",
            "Epoch 00022: val_accuracy improved from 0.60667 to 0.61098, saving model to /content/drive/My Drive/4040_final_project/Colab Notebooks/Saved Models_2/model2.hdf5\n",
            "781/781 [==============================] - 1021s 1s/step - loss: 4.0758 - accuracy: 0.5739 - val_loss: 3.9462 - val_accuracy: 0.6110\n",
            "Epoch 23/24\n",
            "781/781 [==============================] - ETA: 0s - loss: 4.0714 - accuracy: 0.5773\n",
            "Epoch 00023: val_accuracy did not improve from 0.61098\n",
            "781/781 [==============================] - 1033s 1s/step - loss: 4.0714 - accuracy: 0.5773 - val_loss: 3.9380 - val_accuracy: 0.6104\n",
            "Epoch 24/24\n",
            "781/781 [==============================] - ETA: 0s - loss: 4.0600 - accuracy: 0.5829\n",
            "Epoch 00024: val_accuracy improved from 0.61098 to 0.61328, saving model to /content/drive/My Drive/4040_final_project/Colab Notebooks/Saved Models_2/model2.hdf5\n",
            "781/781 [==============================] - 1029s 1s/step - loss: 4.0600 - accuracy: 0.5829 - val_loss: 3.9322 - val_accuracy: 0.6133\n"
          ]
        },
        {
          "output_type": "display_data",
          "data": {
            "application/javascript": [
              "\n",
              "    async function download(id, filename, size) {\n",
              "      if (!google.colab.kernel.accessAllowed) {\n",
              "        return;\n",
              "      }\n",
              "      const div = document.createElement('div');\n",
              "      const label = document.createElement('label');\n",
              "      label.textContent = `Downloading \"${filename}\": `;\n",
              "      div.appendChild(label);\n",
              "      const progress = document.createElement('progress');\n",
              "      progress.max = size;\n",
              "      div.appendChild(progress);\n",
              "      document.body.appendChild(div);\n",
              "\n",
              "      const buffers = [];\n",
              "      let downloaded = 0;\n",
              "\n",
              "      const channel = await google.colab.kernel.comms.open(id);\n",
              "      // Send a message to notify the kernel that we're ready.\n",
              "      channel.send({})\n",
              "\n",
              "      for await (const message of channel.messages) {\n",
              "        // Send a message to notify the kernel that we're ready.\n",
              "        channel.send({})\n",
              "        if (message.buffers) {\n",
              "          for (const buffer of message.buffers) {\n",
              "            buffers.push(buffer);\n",
              "            downloaded += buffer.byteLength;\n",
              "            progress.value = downloaded;\n",
              "          }\n",
              "        }\n",
              "      }\n",
              "      const blob = new Blob(buffers, {type: 'application/binary'});\n",
              "      const a = document.createElement('a');\n",
              "      a.href = window.URL.createObjectURL(blob);\n",
              "      a.download = filename;\n",
              "      div.appendChild(a);\n",
              "      a.click();\n",
              "      div.remove();\n",
              "    }\n",
              "  "
            ],
            "text/plain": [
              "<IPython.core.display.Javascript object>"
            ]
          },
          "metadata": {}
        },
        {
          "output_type": "display_data",
          "data": {
            "application/javascript": [
              "download(\"download_c1db3fc6-0a8c-4d26-8469-25aa3f09bd7c\", \"train2.csv\", 1872)"
            ],
            "text/plain": [
              "<IPython.core.display.Javascript object>"
            ]
          },
          "metadata": {}
        }
      ]
    },
    {
      "cell_type": "code",
      "source": [
        "from keras.models import load_model\n",
        "extended_model = load_model(\"/content/drive/My Drive/4040_final_project/Colab Notebooks/Saved Models_2/model2.hdf5\")"
      ],
      "metadata": {
        "id": "X2VI9dB3zGNg"
      },
      "execution_count": null,
      "outputs": []
    },
    {
      "cell_type": "code",
      "source": [
        "pred=extended_model.predict(validation_generator)\n",
        "predicted_class_indices=np.argmax(pred,axis=1)"
      ],
      "metadata": {
        "id": "wrNSW_aKGi1m"
      },
      "execution_count": null,
      "outputs": []
    },
    {
      "cell_type": "code",
      "source": [
        "import os\n",
        "class_to_name = dict()\n",
        "file = open('tiny-imagenet-200/words.txt','r')\n",
        "data= file.readlines()\n",
        "for line in data:\n",
        "  words = line.strip('\\n').split('\\t')\n",
        "  class_to_name[words[0]] = words[1].split(',')[0]\n",
        "file.close()\n",
        "\n",
        "validation_class_names={}\n",
        "for _class in validation_generator.class_indices.keys():\n",
        "  validation_class_names.update({_class : class_to_name[_class]})\n",
        "\n",
        "from sklearn.metrics import confusion_matrix, classification_report\n",
        "report = classification_report(validation_generator.classes, \n",
        "                               predicted_class_indices,\n",
        "                               target_names=validation_class_names.values(),\n",
        "                               digits=4,\n",
        "                               output_dict=True)\n",
        "print(report)\n",
        "df = pd.DataFrame(report).transpose()\n",
        "df.to_csv('report.csv')\n",
        "from google.colab import files\n",
        "files.download('report.csv')"
      ],
      "metadata": {
        "colab": {
          "base_uri": "https://localhost:8080/",
          "height": 73
        },
        "id": "r44Hr7AHGp3m",
        "outputId": "5a50ec36-e39a-4c92-e8cf-52f9405ab729"
      },
      "execution_count": null,
      "outputs": [
        {
          "output_type": "stream",
          "name": "stdout",
          "text": [
            "{'goldfish': {'precision': 0.7931034482758621, 'recall': 0.92, 'f1-score': 0.851851851851852, 'support': 50}, 'European fire salamander': {'precision': 0.9130434782608695, 'recall': 0.84, 'f1-score': 0.8749999999999999, 'support': 50}, 'bullfrog': {'precision': 0.5166666666666667, 'recall': 0.62, 'f1-score': 0.5636363636363637, 'support': 50}, 'tailed frog': {'precision': 0.5714285714285714, 'recall': 0.48, 'f1-score': 0.5217391304347826, 'support': 50}, 'American alligator': {'precision': 0.5918367346938775, 'recall': 0.58, 'f1-score': 0.5858585858585857, 'support': 50}, 'boa constrictor': {'precision': 0.4528301886792453, 'recall': 0.48, 'f1-score': 0.46601941747572817, 'support': 50}, 'trilobite': {'precision': 0.7959183673469388, 'recall': 0.78, 'f1-score': 0.7878787878787878, 'support': 50}, 'scorpion': {'precision': 0.6842105263157895, 'recall': 0.52, 'f1-score': 0.5909090909090909, 'support': 50}, 'black widow': {'precision': 0.7916666666666666, 'recall': 0.76, 'f1-score': 0.7755102040816326, 'support': 50}, 'tarantula': {'precision': 0.6101694915254238, 'recall': 0.72, 'f1-score': 0.6605504587155964, 'support': 50}, 'centipede': {'precision': 0.6, 'recall': 0.6, 'f1-score': 0.6, 'support': 50}, 'goose': {'precision': 0.7115384615384616, 'recall': 0.74, 'f1-score': 0.7254901960784313, 'support': 50}, 'koala': {'precision': 0.78, 'recall': 0.78, 'f1-score': 0.78, 'support': 50}, 'jellyfish': {'precision': 0.7636363636363637, 'recall': 0.84, 'f1-score': 0.8000000000000002, 'support': 50}, 'brain coral': {'precision': 0.6551724137931034, 'recall': 0.76, 'f1-score': 0.7037037037037037, 'support': 50}, 'snail': {'precision': 0.6304347826086957, 'recall': 0.58, 'f1-score': 0.6041666666666666, 'support': 50}, 'slug': {'precision': 0.5306122448979592, 'recall': 0.52, 'f1-score': 0.5252525252525252, 'support': 50}, 'sea slug': {'precision': 0.7358490566037735, 'recall': 0.78, 'f1-score': 0.7572815533980584, 'support': 50}, 'American lobster': {'precision': 0.5384615384615384, 'recall': 0.56, 'f1-score': 0.5490196078431373, 'support': 50}, 'spiny lobster': {'precision': 0.6666666666666666, 'recall': 0.72, 'f1-score': 0.6923076923076923, 'support': 50}, 'black stork': {'precision': 0.75, 'recall': 0.78, 'f1-score': 0.7647058823529411, 'support': 50}, 'king penguin': {'precision': 0.9, 'recall': 0.72, 'f1-score': 0.7999999999999999, 'support': 50}, 'albatross': {'precision': 0.7647058823529411, 'recall': 0.78, 'f1-score': 0.7722772277227723, 'support': 50}, 'dugong': {'precision': 0.8181818181818182, 'recall': 0.9, 'f1-score': 0.8571428571428572, 'support': 50}, 'Chihuahua': {'precision': 0.47619047619047616, 'recall': 0.4, 'f1-score': 0.43478260869565216, 'support': 50}, 'Yorkshire terrier': {'precision': 0.7213114754098361, 'recall': 0.88, 'f1-score': 0.7927927927927928, 'support': 50}, 'golden retriever': {'precision': 0.49122807017543857, 'recall': 0.56, 'f1-score': 0.5233644859813084, 'support': 50}, 'Labrador retriever': {'precision': 0.5588235294117647, 'recall': 0.38, 'f1-score': 0.4523809523809524, 'support': 50}, 'German shepherd': {'precision': 0.75, 'recall': 0.48, 'f1-score': 0.5853658536585366, 'support': 50}, 'standard poodle': {'precision': 0.39622641509433965, 'recall': 0.42, 'f1-score': 0.4077669902912621, 'support': 50}, 'tabby': {'precision': 0.5625, 'recall': 0.54, 'f1-score': 0.5510204081632654, 'support': 50}, 'Persian cat': {'precision': 0.6666666666666666, 'recall': 0.68, 'f1-score': 0.6732673267326733, 'support': 50}, 'Egyptian cat': {'precision': 0.5128205128205128, 'recall': 0.4, 'f1-score': 0.449438202247191, 'support': 50}, 'cougar': {'precision': 0.6857142857142857, 'recall': 0.48, 'f1-score': 0.5647058823529412, 'support': 50}, 'lion': {'precision': 0.7674418604651163, 'recall': 0.66, 'f1-score': 0.7096774193548386, 'support': 50}, 'brown bear': {'precision': 0.6, 'recall': 0.66, 'f1-score': 0.6285714285714286, 'support': 50}, 'ladybug': {'precision': 0.7777777777777778, 'recall': 0.84, 'f1-score': 0.8076923076923077, 'support': 50}, 'fly': {'precision': 0.603448275862069, 'recall': 0.7, 'f1-score': 0.6481481481481481, 'support': 50}, 'bee': {'precision': 0.7659574468085106, 'recall': 0.72, 'f1-score': 0.7422680412371133, 'support': 50}, 'grasshopper': {'precision': 0.6037735849056604, 'recall': 0.64, 'f1-score': 0.6213592233009708, 'support': 50}, 'walking stick': {'precision': 0.5185185185185185, 'recall': 0.56, 'f1-score': 0.5384615384615384, 'support': 50}, 'cockroach': {'precision': 0.6363636363636364, 'recall': 0.56, 'f1-score': 0.5957446808510639, 'support': 50}, 'mantis': {'precision': 0.5409836065573771, 'recall': 0.66, 'f1-score': 0.5945945945945946, 'support': 50}, 'dragonfly': {'precision': 0.5789473684210527, 'recall': 0.66, 'f1-score': 0.616822429906542, 'support': 50}, 'monarch': {'precision': 0.9215686274509803, 'recall': 0.94, 'f1-score': 0.9306930693069307, 'support': 50}, 'sulphur butterfly': {'precision': 0.875, 'recall': 0.84, 'f1-score': 0.8571428571428572, 'support': 50}, 'sea cucumber': {'precision': 0.6346153846153846, 'recall': 0.66, 'f1-score': 0.6470588235294118, 'support': 50}, 'guinea pig': {'precision': 0.6545454545454545, 'recall': 0.72, 'f1-score': 0.6857142857142857, 'support': 50}, 'hog': {'precision': 0.3870967741935484, 'recall': 0.48, 'f1-score': 0.42857142857142855, 'support': 50}, 'ox': {'precision': 0.5714285714285714, 'recall': 0.4, 'f1-score': 0.47058823529411764, 'support': 50}, 'bison': {'precision': 0.6851851851851852, 'recall': 0.74, 'f1-score': 0.7115384615384615, 'support': 50}, 'bighorn': {'precision': 0.7441860465116279, 'recall': 0.64, 'f1-score': 0.6881720430107526, 'support': 50}, 'gazelle': {'precision': 0.8636363636363636, 'recall': 0.76, 'f1-score': 0.8085106382978724, 'support': 50}, 'Arabian camel': {'precision': 0.6363636363636364, 'recall': 0.7, 'f1-score': 0.6666666666666666, 'support': 50}, 'orangutan': {'precision': 0.6415094339622641, 'recall': 0.68, 'f1-score': 0.6601941747572816, 'support': 50}, 'chimpanzee': {'precision': 0.5909090909090909, 'recall': 0.78, 'f1-score': 0.6724137931034482, 'support': 50}, 'baboon': {'precision': 0.5625, 'recall': 0.54, 'f1-score': 0.5510204081632654, 'support': 50}, 'African elephant': {'precision': 0.8095238095238095, 'recall': 0.68, 'f1-score': 0.7391304347826089, 'support': 50}, 'lesser panda': {'precision': 0.9090909090909091, 'recall': 0.8, 'f1-score': 0.8510638297872342, 'support': 50}, 'abacus': {'precision': 0.6744186046511628, 'recall': 0.58, 'f1-score': 0.6236559139784946, 'support': 50}, 'academic gown': {'precision': 0.7307692307692307, 'recall': 0.76, 'f1-score': 0.7450980392156863, 'support': 50}, 'altar': {'precision': 0.5151515151515151, 'recall': 0.68, 'f1-score': 0.5862068965517241, 'support': 50}, 'apron': {'precision': 0.4523809523809524, 'recall': 0.38, 'f1-score': 0.41304347826086957, 'support': 50}, 'backpack': {'precision': 0.5573770491803278, 'recall': 0.68, 'f1-score': 0.6126126126126127, 'support': 50}, 'bannister': {'precision': 0.36, 'recall': 0.36, 'f1-score': 0.36, 'support': 50}, 'barbershop': {'precision': 0.34545454545454546, 'recall': 0.38, 'f1-score': 0.3619047619047619, 'support': 50}, 'barn': {'precision': 0.625, 'recall': 0.7, 'f1-score': 0.6603773584905661, 'support': 50}, 'barrel': {'precision': 0.6153846153846154, 'recall': 0.48, 'f1-score': 0.5393258426966293, 'support': 50}, 'basketball': {'precision': 0.6808510638297872, 'recall': 0.64, 'f1-score': 0.6597938144329897, 'support': 50}, 'bathtub': {'precision': 0.6521739130434783, 'recall': 0.6, 'f1-score': 0.6250000000000001, 'support': 50}, 'beach wagon': {'precision': 0.5333333333333333, 'recall': 0.48, 'f1-score': 0.505263157894737, 'support': 50}, 'beacon': {'precision': 0.6727272727272727, 'recall': 0.74, 'f1-score': 0.7047619047619048, 'support': 50}, 'beaker': {'precision': 0.6097560975609756, 'recall': 0.5, 'f1-score': 0.5494505494505494, 'support': 50}, 'beer bottle': {'precision': 0.4827586206896552, 'recall': 0.56, 'f1-score': 0.5185185185185185, 'support': 50}, 'bikini': {'precision': 0.7619047619047619, 'recall': 0.64, 'f1-score': 0.6956521739130435, 'support': 50}, 'binoculars': {'precision': 0.4716981132075472, 'recall': 0.5, 'f1-score': 0.4854368932038835, 'support': 50}, 'birdhouse': {'precision': 0.5925925925925926, 'recall': 0.64, 'f1-score': 0.6153846153846153, 'support': 50}, 'bow tie': {'precision': 0.375, 'recall': 0.3, 'f1-score': 0.33333333333333326, 'support': 50}, 'brass': {'precision': 0.7321428571428571, 'recall': 0.82, 'f1-score': 0.7735849056603773, 'support': 50}, 'broom': {'precision': 0.4146341463414634, 'recall': 0.34, 'f1-score': 0.3736263736263737, 'support': 50}, 'bucket': {'precision': 0.34210526315789475, 'recall': 0.26, 'f1-score': 0.29545454545454547, 'support': 50}, 'bullet train': {'precision': 0.8148148148148148, 'recall': 0.88, 'f1-score': 0.8461538461538461, 'support': 50}, 'butcher shop': {'precision': 0.6470588235294118, 'recall': 0.66, 'f1-score': 0.6534653465346535, 'support': 50}, 'candle': {'precision': 0.48, 'recall': 0.48, 'f1-score': 0.48, 'support': 50}, 'cannon': {'precision': 0.6388888888888888, 'recall': 0.46, 'f1-score': 0.5348837209302325, 'support': 50}, 'cardigan': {'precision': 0.5925925925925926, 'recall': 0.64, 'f1-score': 0.6153846153846153, 'support': 50}, 'cash machine': {'precision': 0.6041666666666666, 'recall': 0.58, 'f1-score': 0.5918367346938774, 'support': 50}, 'CD player': {'precision': 0.5555555555555556, 'recall': 0.5, 'f1-score': 0.5263157894736842, 'support': 50}, 'chain': {'precision': 0.6060606060606061, 'recall': 0.4, 'f1-score': 0.4819277108433735, 'support': 50}, 'chest': {'precision': 0.5818181818181818, 'recall': 0.64, 'f1-score': 0.6095238095238096, 'support': 50}, 'Christmas stocking': {'precision': 0.631578947368421, 'recall': 0.72, 'f1-score': 0.6728971962616822, 'support': 50}, 'cliff dwelling': {'precision': 0.6530612244897959, 'recall': 0.64, 'f1-score': 0.6464646464646464, 'support': 50}, 'computer keyboard': {'precision': 0.6744186046511628, 'recall': 0.58, 'f1-score': 0.6236559139784946, 'support': 50}, 'confectionery': {'precision': 0.7358490566037735, 'recall': 0.78, 'f1-score': 0.7572815533980584, 'support': 50}, 'convertible': {'precision': 0.42857142857142855, 'recall': 0.48, 'f1-score': 0.4528301886792452, 'support': 50}, 'crane': {'precision': 0.625, 'recall': 0.6, 'f1-score': 0.6122448979591836, 'support': 50}, 'dam': {'precision': 0.5952380952380952, 'recall': 0.5, 'f1-score': 0.5434782608695652, 'support': 50}, 'desk': {'precision': 0.58, 'recall': 0.58, 'f1-score': 0.58, 'support': 50}, 'dining table': {'precision': 0.6440677966101694, 'recall': 0.76, 'f1-score': 0.6972477064220184, 'support': 50}, 'drumstick': {'precision': 0.40384615384615385, 'recall': 0.42, 'f1-score': 0.4117647058823529, 'support': 50}, 'dumbbell': {'precision': 0.36538461538461536, 'recall': 0.38, 'f1-score': 0.37254901960784315, 'support': 50}, 'flagpole': {'precision': 0.6938775510204082, 'recall': 0.68, 'f1-score': 0.686868686868687, 'support': 50}, 'fountain': {'precision': 0.4714285714285714, 'recall': 0.66, 'f1-score': 0.55, 'support': 50}, 'freight car': {'precision': 0.75, 'recall': 0.84, 'f1-score': 0.7924528301886793, 'support': 50}, 'frying pan': {'precision': 0.5510204081632653, 'recall': 0.54, 'f1-score': 0.5454545454545455, 'support': 50}, 'fur coat': {'precision': 0.48, 'recall': 0.48, 'f1-score': 0.48, 'support': 50}, 'gasmask': {'precision': 0.4, 'recall': 0.36, 'f1-score': 0.3789473684210526, 'support': 50}, 'go-kart': {'precision': 0.6428571428571429, 'recall': 0.72, 'f1-score': 0.6792452830188679, 'support': 50}, 'gondola': {'precision': 0.803921568627451, 'recall': 0.82, 'f1-score': 0.8118811881188118, 'support': 50}, 'hourglass': {'precision': 0.6851851851851852, 'recall': 0.74, 'f1-score': 0.7115384615384615, 'support': 50}, 'iPod': {'precision': 0.5614035087719298, 'recall': 0.64, 'f1-score': 0.5981308411214953, 'support': 50}, 'jinrikisha': {'precision': 0.6111111111111112, 'recall': 0.66, 'f1-score': 0.6346153846153846, 'support': 50}, 'kimono': {'precision': 0.34328358208955223, 'recall': 0.46, 'f1-score': 0.39316239316239315, 'support': 50}, 'lampshade': {'precision': 0.5344827586206896, 'recall': 0.62, 'f1-score': 0.574074074074074, 'support': 50}, 'lawn mower': {'precision': 0.625, 'recall': 0.5, 'f1-score': 0.5555555555555556, 'support': 50}, 'lifeboat': {'precision': 0.9069767441860465, 'recall': 0.78, 'f1-score': 0.8387096774193548, 'support': 50}, 'limousine': {'precision': 0.6666666666666666, 'recall': 0.44, 'f1-score': 0.5301204819277109, 'support': 50}, 'magnetic compass': {'precision': 0.75, 'recall': 0.66, 'f1-score': 0.702127659574468, 'support': 50}, 'maypole': {'precision': 0.7708333333333334, 'recall': 0.74, 'f1-score': 0.7551020408163266, 'support': 50}, 'military uniform': {'precision': 0.47058823529411764, 'recall': 0.48, 'f1-score': 0.4752475247524752, 'support': 50}, 'miniskirt': {'precision': 0.5348837209302325, 'recall': 0.46, 'f1-score': 0.4946236559139785, 'support': 50}, 'moving van': {'precision': 0.7083333333333334, 'recall': 0.68, 'f1-score': 0.6938775510204083, 'support': 50}, 'nail': {'precision': 0.4782608695652174, 'recall': 0.44, 'f1-score': 0.4583333333333333, 'support': 50}, 'neck brace': {'precision': 0.5217391304347826, 'recall': 0.48, 'f1-score': 0.4999999999999999, 'support': 50}, 'obelisk': {'precision': 0.7692307692307693, 'recall': 0.8, 'f1-score': 0.7843137254901961, 'support': 50}, 'oboe': {'precision': 0.47058823529411764, 'recall': 0.48, 'f1-score': 0.4752475247524752, 'support': 50}, 'organ': {'precision': 0.6792452830188679, 'recall': 0.72, 'f1-score': 0.6990291262135921, 'support': 50}, 'parking meter': {'precision': 0.6363636363636364, 'recall': 0.56, 'f1-score': 0.5957446808510639, 'support': 50}, 'pay-phone': {'precision': 0.5272727272727272, 'recall': 0.58, 'f1-score': 0.5523809523809523, 'support': 50}, 'picket fence': {'precision': 0.7083333333333334, 'recall': 0.68, 'f1-score': 0.6938775510204083, 'support': 50}, 'pill bottle': {'precision': 0.5, 'recall': 0.5, 'f1-score': 0.5, 'support': 50}, 'plunger': {'precision': 0.18518518518518517, 'recall': 0.2, 'f1-score': 0.1923076923076923, 'support': 50}, 'pole': {'precision': 0.24390243902439024, 'recall': 0.2, 'f1-score': 0.21978021978021978, 'support': 50}, 'police van': {'precision': 0.7954545454545454, 'recall': 0.7, 'f1-score': 0.7446808510638298, 'support': 50}, 'poncho': {'precision': 0.5925925925925926, 'recall': 0.64, 'f1-score': 0.6153846153846153, 'support': 50}, 'pop bottle': {'precision': 0.3541666666666667, 'recall': 0.34, 'f1-score': 0.34693877551020413, 'support': 50}, \"potter's wheel\": {'precision': 0.5490196078431373, 'recall': 0.56, 'f1-score': 0.5544554455445545, 'support': 50}, 'projectile': {'precision': 0.4791666666666667, 'recall': 0.46, 'f1-score': 0.46938775510204084, 'support': 50}, 'punching bag': {'precision': 0.3559322033898305, 'recall': 0.42, 'f1-score': 0.3853211009174312, 'support': 50}, 'reel': {'precision': 0.4411764705882353, 'recall': 0.3, 'f1-score': 0.35714285714285715, 'support': 50}, 'refrigerator': {'precision': 0.6170212765957447, 'recall': 0.58, 'f1-score': 0.5979381443298969, 'support': 50}, 'remote control': {'precision': 0.5833333333333334, 'recall': 0.56, 'f1-score': 0.5714285714285714, 'support': 50}, 'rocking chair': {'precision': 0.7647058823529411, 'recall': 0.52, 'f1-score': 0.6190476190476191, 'support': 50}, 'rugby ball': {'precision': 0.8775510204081632, 'recall': 0.86, 'f1-score': 0.8686868686868686, 'support': 50}, 'sandal': {'precision': 0.5714285714285714, 'recall': 0.72, 'f1-score': 0.6371681415929202, 'support': 50}, 'school bus': {'precision': 0.8103448275862069, 'recall': 0.94, 'f1-score': 0.8703703703703703, 'support': 50}, 'scoreboard': {'precision': 0.7049180327868853, 'recall': 0.86, 'f1-score': 0.7747747747747747, 'support': 50}, 'sewing machine': {'precision': 0.6153846153846154, 'recall': 0.48, 'f1-score': 0.5393258426966293, 'support': 50}, 'snorkel': {'precision': 0.7, 'recall': 0.56, 'f1-score': 0.6222222222222222, 'support': 50}, 'sock': {'precision': 0.6101694915254238, 'recall': 0.72, 'f1-score': 0.6605504587155964, 'support': 50}, 'sombrero': {'precision': 0.8, 'recall': 0.64, 'f1-score': 0.7111111111111111, 'support': 50}, 'space heater': {'precision': 0.4716981132075472, 'recall': 0.5, 'f1-score': 0.4854368932038835, 'support': 50}, 'spider web': {'precision': 0.5652173913043478, 'recall': 0.78, 'f1-score': 0.6554621848739495, 'support': 50}, 'sports car': {'precision': 0.660377358490566, 'recall': 0.7, 'f1-score': 0.6796116504854369, 'support': 50}, 'steel arch bridge': {'precision': 0.7111111111111111, 'recall': 0.64, 'f1-score': 0.6736842105263158, 'support': 50}, 'stopwatch': {'precision': 0.6481481481481481, 'recall': 0.7, 'f1-score': 0.673076923076923, 'support': 50}, 'sunglasses': {'precision': 0.6486486486486487, 'recall': 0.48, 'f1-score': 0.5517241379310345, 'support': 50}, 'suspension bridge': {'precision': 0.6071428571428571, 'recall': 0.68, 'f1-score': 0.6415094339622641, 'support': 50}, 'swimming trunks': {'precision': 0.47058823529411764, 'recall': 0.32, 'f1-score': 0.38095238095238104, 'support': 50}, 'syringe': {'precision': 0.35294117647058826, 'recall': 0.24, 'f1-score': 0.28571428571428564, 'support': 50}, 'teapot': {'precision': 0.43333333333333335, 'recall': 0.52, 'f1-score': 0.4727272727272728, 'support': 50}, 'teddy': {'precision': 0.660377358490566, 'recall': 0.7, 'f1-score': 0.6796116504854369, 'support': 50}, 'thatch': {'precision': 0.6530612244897959, 'recall': 0.64, 'f1-score': 0.6464646464646464, 'support': 50}, 'torch': {'precision': 0.6041666666666666, 'recall': 0.58, 'f1-score': 0.5918367346938774, 'support': 50}, 'tractor': {'precision': 0.559322033898305, 'recall': 0.66, 'f1-score': 0.6055045871559633, 'support': 50}, 'triumphal arch': {'precision': 0.9333333333333333, 'recall': 0.84, 'f1-score': 0.8842105263157894, 'support': 50}, 'trolleybus': {'precision': 0.88, 'recall': 0.88, 'f1-score': 0.88, 'support': 50}, 'turnstile': {'precision': 0.6190476190476191, 'recall': 0.52, 'f1-score': 0.5652173913043478, 'support': 50}, 'umbrella': {'precision': 0.3409090909090909, 'recall': 0.3, 'f1-score': 0.3191489361702128, 'support': 50}, 'vestment': {'precision': 0.6111111111111112, 'recall': 0.66, 'f1-score': 0.6346153846153846, 'support': 50}, 'viaduct': {'precision': 0.7551020408163265, 'recall': 0.74, 'f1-score': 0.7474747474747474, 'support': 50}, 'volleyball': {'precision': 0.6964285714285714, 'recall': 0.78, 'f1-score': 0.7358490566037736, 'support': 50}, 'water jug': {'precision': 0.40540540540540543, 'recall': 0.3, 'f1-score': 0.3448275862068966, 'support': 50}, 'water tower': {'precision': 0.84, 'recall': 0.84, 'f1-score': 0.8399999999999999, 'support': 50}, 'wok': {'precision': 0.576271186440678, 'recall': 0.68, 'f1-score': 0.6238532110091743, 'support': 50}, 'wooden spoon': {'precision': 0.2727272727272727, 'recall': 0.3, 'f1-score': 0.28571428571428564, 'support': 50}, 'comic book': {'precision': 0.8636363636363636, 'recall': 0.76, 'f1-score': 0.8085106382978724, 'support': 50}, 'plate': {'precision': 0.5106382978723404, 'recall': 0.48, 'f1-score': 0.49484536082474223, 'support': 50}, 'guacamole': {'precision': 0.75, 'recall': 0.72, 'f1-score': 0.7346938775510204, 'support': 50}, 'ice cream': {'precision': 0.40350877192982454, 'recall': 0.46, 'f1-score': 0.42990654205607476, 'support': 50}, 'ice lolly': {'precision': 0.3389830508474576, 'recall': 0.4, 'f1-score': 0.3669724770642202, 'support': 50}, 'pretzel': {'precision': 0.62, 'recall': 0.62, 'f1-score': 0.62, 'support': 50}, 'mashed potato': {'precision': 0.5945945945945946, 'recall': 0.44, 'f1-score': 0.5057471264367815, 'support': 50}, 'cauliflower': {'precision': 0.7441860465116279, 'recall': 0.64, 'f1-score': 0.6881720430107526, 'support': 50}, 'bell pepper': {'precision': 0.7735849056603774, 'recall': 0.82, 'f1-score': 0.796116504854369, 'support': 50}, 'mushroom': {'precision': 0.7708333333333334, 'recall': 0.74, 'f1-score': 0.7551020408163266, 'support': 50}, 'orange': {'precision': 0.7142857142857143, 'recall': 0.7, 'f1-score': 0.7070707070707072, 'support': 50}, 'lemon': {'precision': 0.7894736842105263, 'recall': 0.6, 'f1-score': 0.6818181818181819, 'support': 50}, 'banana': {'precision': 0.5636363636363636, 'recall': 0.62, 'f1-score': 0.5904761904761904, 'support': 50}, 'pomegranate': {'precision': 0.6721311475409836, 'recall': 0.82, 'f1-score': 0.7387387387387387, 'support': 50}, 'meat loaf': {'precision': 0.46875, 'recall': 0.6, 'f1-score': 0.5263157894736842, 'support': 50}, 'pizza': {'precision': 0.7407407407407407, 'recall': 0.8, 'f1-score': 0.7692307692307692, 'support': 50}, 'potpie': {'precision': 0.7608695652173914, 'recall': 0.7, 'f1-score': 0.7291666666666667, 'support': 50}, 'espresso': {'precision': 0.7592592592592593, 'recall': 0.82, 'f1-score': 0.7884615384615384, 'support': 50}, 'alp': {'precision': 0.65, 'recall': 0.78, 'f1-score': 0.709090909090909, 'support': 50}, 'cliff': {'precision': 0.5, 'recall': 0.58, 'f1-score': 0.537037037037037, 'support': 50}, 'coral reef': {'precision': 0.5757575757575758, 'recall': 0.76, 'f1-score': 0.6551724137931034, 'support': 50}, 'lakeside': {'precision': 0.4186046511627907, 'recall': 0.36, 'f1-score': 0.38709677419354843, 'support': 50}, 'seashore': {'precision': 0.4927536231884058, 'recall': 0.68, 'f1-score': 0.5714285714285715, 'support': 50}, 'acorn': {'precision': 0.5370370370370371, 'recall': 0.58, 'f1-score': 0.5576923076923077, 'support': 50}, 'accuracy': 0.6131, 'macro avg': {'precision': 0.6160882380682987, 'recall': 0.6131, 'f1-score': 0.6109808723994377, 'support': 10000}, 'weighted avg': {'precision': 0.6160882380682986, 'recall': 0.6131, 'f1-score': 0.6109808723994377, 'support': 10000}}\n"
          ]
        },
        {
          "output_type": "display_data",
          "data": {
            "application/javascript": [
              "\n",
              "    async function download(id, filename, size) {\n",
              "      if (!google.colab.kernel.accessAllowed) {\n",
              "        return;\n",
              "      }\n",
              "      const div = document.createElement('div');\n",
              "      const label = document.createElement('label');\n",
              "      label.textContent = `Downloading \"${filename}\": `;\n",
              "      div.appendChild(label);\n",
              "      const progress = document.createElement('progress');\n",
              "      progress.max = size;\n",
              "      div.appendChild(progress);\n",
              "      document.body.appendChild(div);\n",
              "\n",
              "      const buffers = [];\n",
              "      let downloaded = 0;\n",
              "\n",
              "      const channel = await google.colab.kernel.comms.open(id);\n",
              "      // Send a message to notify the kernel that we're ready.\n",
              "      channel.send({})\n",
              "\n",
              "      for await (const message of channel.messages) {\n",
              "        // Send a message to notify the kernel that we're ready.\n",
              "        channel.send({})\n",
              "        if (message.buffers) {\n",
              "          for (const buffer of message.buffers) {\n",
              "            buffers.push(buffer);\n",
              "            downloaded += buffer.byteLength;\n",
              "            progress.value = downloaded;\n",
              "          }\n",
              "        }\n",
              "      }\n",
              "      const blob = new Blob(buffers, {type: 'application/binary'});\n",
              "      const a = document.createElement('a');\n",
              "      a.href = window.URL.createObjectURL(blob);\n",
              "      a.download = filename;\n",
              "      div.appendChild(a);\n",
              "      a.click();\n",
              "      div.remove();\n",
              "    }\n",
              "  "
            ],
            "text/plain": [
              "<IPython.core.display.Javascript object>"
            ]
          },
          "metadata": {}
        },
        {
          "output_type": "display_data",
          "data": {
            "application/javascript": [
              "download(\"download_5427b8d2-f36a-43ae-9925-029d1e114331\", \"report.csv\", 11231)"
            ],
            "text/plain": [
              "<IPython.core.display.Javascript object>"
            ]
          },
          "metadata": {}
        }
      ]
    },
    {
      "cell_type": "code",
      "source": [
        "clr = CyclicLR(base_lr=0.00001, max_lr=0.00006, step_size=3128., mode='triangular2')\n",
        "checkpointer_3 = tf.keras.callbacks.ModelCheckpoint(filepath=\"/content/drive/My Drive/4040_final_project/Colab Notebooks/Saved Models_2/model3.hdf5\",\n",
        "                                                    save_best_only=True, \n",
        "                                                    monitor=\"val_accuracy\")\n",
        "\n",
        "history = extended_model.fit(train_generator,\n",
        "                                       epochs=epochs,\n",
        "                                       steps_per_epoch= np.ceil(num_train/batch_size),\n",
        "                                       validation_steps= np.ceil(num_validation/batch_size),\n",
        "                                       validation_data=validation_generator,\n",
        "                                       callbacks=[clr, checkpointer_3]\n",
        "                                       )\n",
        "                              \n",
        "df = pd.DataFrame(history.history)\n",
        "df.to_csv('train3.csv')\n",
        "from google.colab import files\n",
        "files.download('train3.csv')"
      ],
      "metadata": {
        "colab": {
          "base_uri": "https://localhost:8080/",
          "height": 908
        },
        "id": "uBRZuZeOG3m5",
        "outputId": "6bfe2fa9-8efb-46c6-beed-ddd5b47634e7"
      },
      "execution_count": null,
      "outputs": [
        {
          "output_type": "stream",
          "name": "stdout",
          "text": [
            "Epoch 1/24\n",
            "782/782 [==============================] - 963s 1s/step - loss: 4.0658 - accuracy: 0.5811 - val_loss: 3.9780 - val_accuracy: 0.6063\n",
            "Epoch 2/24\n",
            "782/782 [==============================] - 957s 1s/step - loss: 4.0910 - accuracy: 0.5769 - val_loss: 4.0357 - val_accuracy: 0.5995\n",
            "Epoch 3/24\n",
            "782/782 [==============================] - 958s 1s/step - loss: 4.1332 - accuracy: 0.5711 - val_loss: 4.1013 - val_accuracy: 0.5838\n",
            "Epoch 4/24\n",
            "782/782 [==============================] - 961s 1s/step - loss: 4.1858 - accuracy: 0.5634 - val_loss: 4.1457 - val_accuracy: 0.5811\n",
            "Epoch 5/24\n",
            "782/782 [==============================] - 965s 1s/step - loss: 4.2100 - accuracy: 0.5634 - val_loss: 4.1125 - val_accuracy: 0.5933\n",
            "Epoch 6/24\n",
            "782/782 [==============================] - 963s 1s/step - loss: 4.1886 - accuracy: 0.5744 - val_loss: 4.1074 - val_accuracy: 0.6012\n",
            "Epoch 7/24\n",
            "782/782 [==============================] - 957s 1s/step - loss: 4.1561 - accuracy: 0.5839 - val_loss: 4.0890 - val_accuracy: 0.6058\n",
            "Epoch 8/24\n",
            "782/782 [==============================] - 958s 1s/step - loss: 4.1219 - accuracy: 0.5957 - val_loss: 4.0380 - val_accuracy: 0.6182\n",
            "Epoch 9/24\n",
            "782/782 [==============================] - 955s 1s/step - loss: 4.1071 - accuracy: 0.5995 - val_loss: 4.0627 - val_accuracy: 0.6164\n",
            "Epoch 10/24\n",
            "782/782 [==============================] - 958s 1s/step - loss: 4.1217 - accuracy: 0.5974 - val_loss: 4.1208 - val_accuracy: 0.6017\n",
            "Epoch 11/24\n",
            "782/782 [==============================] - 962s 1s/step - loss: 4.1407 - accuracy: 0.5943 - val_loss: 4.1459 - val_accuracy: 0.6033\n",
            "Epoch 12/24\n",
            "782/782 [==============================] - 962s 1s/step - loss: 4.1648 - accuracy: 0.5945 - val_loss: 4.1711 - val_accuracy: 0.6038\n",
            "Epoch 13/24\n",
            "782/782 [==============================] - 967s 1s/step - loss: 4.1674 - accuracy: 0.5955 - val_loss: 4.1659 - val_accuracy: 0.6010\n",
            "Epoch 14/24\n",
            "782/782 [==============================] - 976s 1s/step - loss: 4.1562 - accuracy: 0.6013 - val_loss: 4.1525 - val_accuracy: 0.6072\n",
            "Epoch 15/24\n",
            "782/782 [==============================] - 966s 1s/step - loss: 4.1429 - accuracy: 0.6062 - val_loss: 4.1310 - val_accuracy: 0.6134\n",
            "Epoch 16/24\n",
            "782/782 [==============================] - 970s 1s/step - loss: 4.1243 - accuracy: 0.6138 - val_loss: 4.1128 - val_accuracy: 0.6193\n",
            "Epoch 17/24\n",
            "782/782 [==============================] - 962s 1s/step - loss: 4.1077 - accuracy: 0.6179 - val_loss: 4.1317 - val_accuracy: 0.6195\n",
            "Epoch 18/24\n",
            "782/782 [==============================] - 963s 1s/step - loss: 4.1209 - accuracy: 0.6170 - val_loss: 4.1487 - val_accuracy: 0.6131\n",
            "Epoch 19/24\n",
            "782/782 [==============================] - 962s 1s/step - loss: 4.1308 - accuracy: 0.6160 - val_loss: 4.1818 - val_accuracy: 0.6076\n",
            "Epoch 20/24\n",
            "782/782 [==============================] - 962s 1s/step - loss: 4.1440 - accuracy: 0.6142 - val_loss: 4.1834 - val_accuracy: 0.6133\n",
            "Epoch 21/24\n",
            "782/782 [==============================] - 963s 1s/step - loss: 4.1504 - accuracy: 0.6169 - val_loss: 4.1843 - val_accuracy: 0.6162\n",
            "Epoch 22/24\n",
            "782/782 [==============================] - 966s 1s/step - loss: 4.1452 - accuracy: 0.6191 - val_loss: 4.1875 - val_accuracy: 0.6131\n",
            "Epoch 23/24\n",
            "782/782 [==============================] - 961s 1s/step - loss: 4.1399 - accuracy: 0.6230 - val_loss: 4.1841 - val_accuracy: 0.6152\n",
            "Epoch 24/24\n",
            "782/782 [==============================] - 1023s 1s/step - loss: 4.1255 - accuracy: 0.6260 - val_loss: 4.1830 - val_accuracy: 0.6215\n"
          ]
        },
        {
          "output_type": "display_data",
          "data": {
            "application/javascript": [
              "\n",
              "    async function download(id, filename, size) {\n",
              "      if (!google.colab.kernel.accessAllowed) {\n",
              "        return;\n",
              "      }\n",
              "      const div = document.createElement('div');\n",
              "      const label = document.createElement('label');\n",
              "      label.textContent = `Downloading \"${filename}\": `;\n",
              "      div.appendChild(label);\n",
              "      const progress = document.createElement('progress');\n",
              "      progress.max = size;\n",
              "      div.appendChild(progress);\n",
              "      document.body.appendChild(div);\n",
              "\n",
              "      const buffers = [];\n",
              "      let downloaded = 0;\n",
              "\n",
              "      const channel = await google.colab.kernel.comms.open(id);\n",
              "      // Send a message to notify the kernel that we're ready.\n",
              "      channel.send({})\n",
              "\n",
              "      for await (const message of channel.messages) {\n",
              "        // Send a message to notify the kernel that we're ready.\n",
              "        channel.send({})\n",
              "        if (message.buffers) {\n",
              "          for (const buffer of message.buffers) {\n",
              "            buffers.push(buffer);\n",
              "            downloaded += buffer.byteLength;\n",
              "            progress.value = downloaded;\n",
              "          }\n",
              "        }\n",
              "      }\n",
              "      const blob = new Blob(buffers, {type: 'application/binary'});\n",
              "      const a = document.createElement('a');\n",
              "      a.href = window.URL.createObjectURL(blob);\n",
              "      a.download = filename;\n",
              "      div.appendChild(a);\n",
              "      a.click();\n",
              "      div.remove();\n",
              "    }\n",
              "  "
            ],
            "text/plain": [
              "<IPython.core.display.Javascript object>"
            ]
          },
          "metadata": {}
        },
        {
          "output_type": "display_data",
          "data": {
            "application/javascript": [
              "download(\"download_6a06245c-2c06-4b98-8b55-61a00e548164\", \"train3.csv\", 1869)"
            ],
            "text/plain": [
              "<IPython.core.display.Javascript object>"
            ]
          },
          "metadata": {}
        }
      ]
    },
    {
      "cell_type": "code",
      "source": [
        "extended_model.save('/content/drive/My Drive/4040_final_project/Colab Notebooks/Saved Models_2/extended_model.hdf5')"
      ],
      "metadata": {
        "id": "2nh-cHqkHlMK"
      },
      "execution_count": null,
      "outputs": []
    },
    {
      "cell_type": "code",
      "source": [
        "from keras.models import load_model\n",
        "extended_model = load_model(\"/content/drive/My Drive/4040_final_project/Colab Notebooks/Saved Models_2/extended_model.hdf5\")"
      ],
      "metadata": {
        "id": "CyolitrLixH7"
      },
      "execution_count": null,
      "outputs": []
    },
    {
      "cell_type": "code",
      "source": [
        "clr = CyclicLR(base_lr=0.000001, max_lr=0.000006, step_size=1564., mode='triangular2') #Cyclic learning rate\n",
        "checkpointer_4 = tf.keras.callbacks.ModelCheckpoint(filepath=\"/content/drive/My Drive/4040_final_project/Colab Notebooks/Saved Models_2/model4.hdf5\",  \n",
        "                                                    save_best_only=True, \n",
        "                                                    monitor=\"val_accuracy\")\n",
        "\n",
        "history = extended_model.fit(train_generator,\n",
        "                             epochs=12,\n",
        "                             validation_data=validation_generator,\n",
        "                             callbacks=[clr, checkpointer_4]\n",
        "                             )\n",
        "df = pd.DataFrame(history.history)\n",
        "df.to_csv('train4.csv')\n",
        "from google.colab import files\n",
        "files.download('train4.csv')"
      ],
      "metadata": {
        "colab": {
          "base_uri": "https://localhost:8080/",
          "height": 473
        },
        "id": "ptg5qT5KjVvd",
        "outputId": "fe9c08bc-3d50-4f4d-8274-56e47d1cf153"
      },
      "execution_count": null,
      "outputs": [
        {
          "output_type": "stream",
          "name": "stdout",
          "text": [
            "Epoch 1/12\n",
            "782/782 [==============================] - 1018s 1s/step - loss: 4.0985 - accuracy: 0.6338 - val_loss: 4.1549 - val_accuracy: 0.6237\n",
            "Epoch 2/12\n",
            "782/782 [==============================] - 992s 1s/step - loss: 4.1026 - accuracy: 0.6322 - val_loss: 4.1615 - val_accuracy: 0.6246\n",
            "Epoch 3/12\n",
            "782/782 [==============================] - 994s 1s/step - loss: 4.1031 - accuracy: 0.6338 - val_loss: 4.1629 - val_accuracy: 0.6265\n",
            "Epoch 4/12\n",
            "782/782 [==============================] - 980s 1s/step - loss: 4.0887 - accuracy: 0.6380 - val_loss: 4.1570 - val_accuracy: 0.6258\n",
            "Epoch 5/12\n",
            "782/782 [==============================] - 973s 1s/step - loss: 4.0918 - accuracy: 0.6365 - val_loss: 4.1587 - val_accuracy: 0.6252\n",
            "Epoch 6/12\n",
            "782/782 [==============================] - 981s 1s/step - loss: 4.0960 - accuracy: 0.6356 - val_loss: 4.1680 - val_accuracy: 0.6252\n",
            "Epoch 7/12\n",
            "782/782 [==============================] - 978s 1s/step - loss: 4.0963 - accuracy: 0.6367 - val_loss: 4.1619 - val_accuracy: 0.6256\n",
            "Epoch 8/12\n",
            "782/782 [==============================] - 973s 1s/step - loss: 4.0896 - accuracy: 0.6395 - val_loss: 4.1618 - val_accuracy: 0.6258\n",
            "Epoch 9/12\n",
            "782/782 [==============================] - 977s 1s/step - loss: 4.0917 - accuracy: 0.6368 - val_loss: 4.1625 - val_accuracy: 0.6276\n",
            "Epoch 10/12\n",
            "782/782 [==============================] - 974s 1s/step - loss: 4.0864 - accuracy: 0.6417 - val_loss: 4.1638 - val_accuracy: 0.6258\n",
            "Epoch 11/12\n",
            "782/782 [==============================] - 1000s 1s/step - loss: 4.0894 - accuracy: 0.6392 - val_loss: 4.1625 - val_accuracy: 0.6244\n",
            "Epoch 12/12\n",
            "782/782 [==============================] - 1001s 1s/step - loss: 4.0861 - accuracy: 0.6410 - val_loss: 4.1634 - val_accuracy: 0.6258\n"
          ]
        },
        {
          "output_type": "display_data",
          "data": {
            "application/javascript": [
              "\n",
              "    async function download(id, filename, size) {\n",
              "      if (!google.colab.kernel.accessAllowed) {\n",
              "        return;\n",
              "      }\n",
              "      const div = document.createElement('div');\n",
              "      const label = document.createElement('label');\n",
              "      label.textContent = `Downloading \"${filename}\": `;\n",
              "      div.appendChild(label);\n",
              "      const progress = document.createElement('progress');\n",
              "      progress.max = size;\n",
              "      div.appendChild(progress);\n",
              "      document.body.appendChild(div);\n",
              "\n",
              "      const buffers = [];\n",
              "      let downloaded = 0;\n",
              "\n",
              "      const channel = await google.colab.kernel.comms.open(id);\n",
              "      // Send a message to notify the kernel that we're ready.\n",
              "      channel.send({})\n",
              "\n",
              "      for await (const message of channel.messages) {\n",
              "        // Send a message to notify the kernel that we're ready.\n",
              "        channel.send({})\n",
              "        if (message.buffers) {\n",
              "          for (const buffer of message.buffers) {\n",
              "            buffers.push(buffer);\n",
              "            downloaded += buffer.byteLength;\n",
              "            progress.value = downloaded;\n",
              "          }\n",
              "        }\n",
              "      }\n",
              "      const blob = new Blob(buffers, {type: 'application/binary'});\n",
              "      const a = document.createElement('a');\n",
              "      a.href = window.URL.createObjectURL(blob);\n",
              "      a.download = filename;\n",
              "      div.appendChild(a);\n",
              "      a.click();\n",
              "      div.remove();\n",
              "    }\n",
              "  "
            ],
            "text/plain": [
              "<IPython.core.display.Javascript object>"
            ]
          },
          "metadata": {}
        },
        {
          "output_type": "display_data",
          "data": {
            "application/javascript": [
              "download(\"download_a28b97a9-6590-4bd4-9255-d412e6d398cd\", \"train4.csv\", 951)"
            ],
            "text/plain": [
              "<IPython.core.display.Javascript object>"
            ]
          },
          "metadata": {}
        }
      ]
    },
    {
      "cell_type": "code",
      "source": [
        ""
      ],
      "metadata": {
        "id": "IZkIjarP9Ouh"
      },
      "execution_count": null,
      "outputs": []
    }
  ]
}