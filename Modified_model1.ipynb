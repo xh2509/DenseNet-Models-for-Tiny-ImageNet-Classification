{
  "cells": [
    {
      "cell_type": "code",
      "execution_count": 1,
      "metadata": {
        "id": "8yBgFAanItXo"
      },
      "outputs": [],
      "source": [
        "import tensorflow as tf\n",
        "import keras\n",
        "import numpy as np\n",
        "import pandas as pd\n",
        "import matplotlib.pyplot as plt\n",
        "\n",
        "from tensorflow.keras.layers import Conv2D, Input, AveragePooling2D, Activation, GlobalAveragePooling2D, Concatenate, BatchNormalization, MaxPooling2D, Lambda\n",
        "from tensorflow.keras.optimizers import Adam\n",
        "from tensorflow.keras.preprocessing.image import ImageDataGenerator\n",
        "from keras.layers.merge import concatenate\n",
        "from tensorflow.keras.models import load_model\n",
        "\n",
        "num_classes = 200\n",
        "\n",
        "img_height, img_width = 32, 32\n",
        "\n",
        "img_channels = 3"
      ]
    },
    {
      "cell_type": "markdown",
      "metadata": {
        "id": "3_xuAzFZJDE7"
      },
      "source": [
        "#Import Dataset"
      ]
    },
    {
      "cell_type": "code",
      "execution_count": 2,
      "metadata": {
        "colab": {
          "base_uri": "https://localhost:8080/"
        },
        "id": "mmoZOpRuI7A-",
        "outputId": "999198a5-6788-43d1-e662-95daeff0c4b8"
      },
      "outputs": [
        {
          "output_type": "stream",
          "name": "stdout",
          "text": [
            "Mounted at /content/drive\n"
          ]
        }
      ],
      "source": [
        "from google.colab import drive\n",
        "drive.mount('/content/drive', force_remount=True)"
      ]
    },
    {
      "cell_type": "code",
      "execution_count": 3,
      "metadata": {
        "colab": {
          "base_uri": "https://localhost:8080/"
        },
        "id": "aeszXT8EJF1A",
        "outputId": "2603b9a0-91eb-4df6-a4f0-87b8e8ba4aa8"
      },
      "outputs": [
        {
          "output_type": "stream",
          "name": "stdout",
          "text": [
            "--2021-12-21 13:09:16--  http://cs231n.stanford.edu/tiny-imagenet-200.zip\n",
            "Resolving cs231n.stanford.edu (cs231n.stanford.edu)... 171.64.68.10\n",
            "Connecting to cs231n.stanford.edu (cs231n.stanford.edu)|171.64.68.10|:80... connected.\n",
            "HTTP request sent, awaiting response... 200 OK\n",
            "Length: 248100043 (237M) [application/zip]\n",
            "Saving to: ‘tiny-imagenet-200.zip’\n",
            "\n",
            "tiny-imagenet-200.z 100%[===================>] 236.61M  10.1MB/s    in 19s     \n",
            "\n",
            "2021-12-21 13:09:35 (12.3 MB/s) - ‘tiny-imagenet-200.zip’ saved [248100043/248100043]\n",
            "\n"
          ]
        }
      ],
      "source": [
        "!wget http://cs231n.stanford.edu/tiny-imagenet-200.zip\n",
        "!unzip -qq 'tiny-imagenet-200.zip'"
      ]
    },
    {
      "cell_type": "code",
      "execution_count": 14,
      "metadata": {
        "colab": {
          "base_uri": "https://localhost:8080/",
          "height": 206
        },
        "id": "jis24ZXuJIyS",
        "outputId": "75f161ed-5680-4f4b-813f-b445c4a4ffac"
      },
      "outputs": [
        {
          "output_type": "execute_result",
          "data": {
            "text/html": [
              "\n",
              "  <div id=\"df-a9bbad44-0ab3-47d2-b425-12109444532d\">\n",
              "    <div class=\"colab-df-container\">\n",
              "      <div>\n",
              "<style scoped>\n",
              "    .dataframe tbody tr th:only-of-type {\n",
              "        vertical-align: middle;\n",
              "    }\n",
              "\n",
              "    .dataframe tbody tr th {\n",
              "        vertical-align: top;\n",
              "    }\n",
              "\n",
              "    .dataframe thead th {\n",
              "        text-align: right;\n",
              "    }\n",
              "</style>\n",
              "<table border=\"1\" class=\"dataframe\">\n",
              "  <thead>\n",
              "    <tr style=\"text-align: right;\">\n",
              "      <th></th>\n",
              "      <th>File</th>\n",
              "      <th>Class</th>\n",
              "    </tr>\n",
              "  </thead>\n",
              "  <tbody>\n",
              "    <tr>\n",
              "      <th>0</th>\n",
              "      <td>val_0.JPEG</td>\n",
              "      <td>n03444034</td>\n",
              "    </tr>\n",
              "    <tr>\n",
              "      <th>1</th>\n",
              "      <td>val_1.JPEG</td>\n",
              "      <td>n04067472</td>\n",
              "    </tr>\n",
              "    <tr>\n",
              "      <th>2</th>\n",
              "      <td>val_2.JPEG</td>\n",
              "      <td>n04070727</td>\n",
              "    </tr>\n",
              "    <tr>\n",
              "      <th>3</th>\n",
              "      <td>val_3.JPEG</td>\n",
              "      <td>n02808440</td>\n",
              "    </tr>\n",
              "    <tr>\n",
              "      <th>4</th>\n",
              "      <td>val_4.JPEG</td>\n",
              "      <td>n02808440</td>\n",
              "    </tr>\n",
              "  </tbody>\n",
              "</table>\n",
              "</div>\n",
              "      <button class=\"colab-df-convert\" onclick=\"convertToInteractive('df-a9bbad44-0ab3-47d2-b425-12109444532d')\"\n",
              "              title=\"Convert this dataframe to an interactive table.\"\n",
              "              style=\"display:none;\">\n",
              "        \n",
              "  <svg xmlns=\"http://www.w3.org/2000/svg\" height=\"24px\"viewBox=\"0 0 24 24\"\n",
              "       width=\"24px\">\n",
              "    <path d=\"M0 0h24v24H0V0z\" fill=\"none\"/>\n",
              "    <path d=\"M18.56 5.44l.94 2.06.94-2.06 2.06-.94-2.06-.94-.94-2.06-.94 2.06-2.06.94zm-11 1L8.5 8.5l.94-2.06 2.06-.94-2.06-.94L8.5 2.5l-.94 2.06-2.06.94zm10 10l.94 2.06.94-2.06 2.06-.94-2.06-.94-.94-2.06-.94 2.06-2.06.94z\"/><path d=\"M17.41 7.96l-1.37-1.37c-.4-.4-.92-.59-1.43-.59-.52 0-1.04.2-1.43.59L10.3 9.45l-7.72 7.72c-.78.78-.78 2.05 0 2.83L4 21.41c.39.39.9.59 1.41.59.51 0 1.02-.2 1.41-.59l7.78-7.78 2.81-2.81c.8-.78.8-2.07 0-2.86zM5.41 20L4 18.59l7.72-7.72 1.47 1.35L5.41 20z\"/>\n",
              "  </svg>\n",
              "      </button>\n",
              "      \n",
              "  <style>\n",
              "    .colab-df-container {\n",
              "      display:flex;\n",
              "      flex-wrap:wrap;\n",
              "      gap: 12px;\n",
              "    }\n",
              "\n",
              "    .colab-df-convert {\n",
              "      background-color: #E8F0FE;\n",
              "      border: none;\n",
              "      border-radius: 50%;\n",
              "      cursor: pointer;\n",
              "      display: none;\n",
              "      fill: #1967D2;\n",
              "      height: 32px;\n",
              "      padding: 0 0 0 0;\n",
              "      width: 32px;\n",
              "    }\n",
              "\n",
              "    .colab-df-convert:hover {\n",
              "      background-color: #E2EBFA;\n",
              "      box-shadow: 0px 1px 2px rgba(60, 64, 67, 0.3), 0px 1px 3px 1px rgba(60, 64, 67, 0.15);\n",
              "      fill: #174EA6;\n",
              "    }\n",
              "\n",
              "    [theme=dark] .colab-df-convert {\n",
              "      background-color: #3B4455;\n",
              "      fill: #D2E3FC;\n",
              "    }\n",
              "\n",
              "    [theme=dark] .colab-df-convert:hover {\n",
              "      background-color: #434B5C;\n",
              "      box-shadow: 0px 1px 3px 1px rgba(0, 0, 0, 0.15);\n",
              "      filter: drop-shadow(0px 1px 2px rgba(0, 0, 0, 0.3));\n",
              "      fill: #FFFFFF;\n",
              "    }\n",
              "  </style>\n",
              "\n",
              "      <script>\n",
              "        const buttonEl =\n",
              "          document.querySelector('#df-a9bbad44-0ab3-47d2-b425-12109444532d button.colab-df-convert');\n",
              "        buttonEl.style.display =\n",
              "          google.colab.kernel.accessAllowed ? 'block' : 'none';\n",
              "\n",
              "        async function convertToInteractive(key) {\n",
              "          const element = document.querySelector('#df-a9bbad44-0ab3-47d2-b425-12109444532d');\n",
              "          const dataTable =\n",
              "            await google.colab.kernel.invokeFunction('convertToInteractive',\n",
              "                                                     [key], {});\n",
              "          if (!dataTable) return;\n",
              "\n",
              "          const docLinkHtml = 'Like what you see? Visit the ' +\n",
              "            '<a target=\"_blank\" href=https://colab.research.google.com/notebooks/data_table.ipynb>data table notebook</a>'\n",
              "            + ' to learn more about interactive tables.';\n",
              "          element.innerHTML = '';\n",
              "          dataTable['output_type'] = 'display_data';\n",
              "          await google.colab.output.renderOutput(dataTable, element);\n",
              "          const docLink = document.createElement('div');\n",
              "          docLink.innerHTML = docLinkHtml;\n",
              "          element.appendChild(docLink);\n",
              "        }\n",
              "      </script>\n",
              "    </div>\n",
              "  </div>\n",
              "  "
            ],
            "text/plain": [
              "         File      Class\n",
              "0  val_0.JPEG  n03444034\n",
              "1  val_1.JPEG  n04067472\n",
              "2  val_2.JPEG  n04070727\n",
              "3  val_3.JPEG  n02808440\n",
              "4  val_4.JPEG  n02808440"
            ]
          },
          "metadata": {},
          "execution_count": 14
        }
      ],
      "source": [
        "val_data = pd.read_csv('./tiny-imagenet-200/val/val_annotations.txt', sep='\\t', header=None, names=['File', 'Class', 'X', 'Y', 'H', 'W'])\n",
        "val_data.drop(['X', 'Y', 'H', 'W'], axis=1, inplace=True)\n",
        "val_data.head(5)"
      ]
    },
    {
      "cell_type": "code",
      "execution_count": 15,
      "metadata": {
        "colab": {
          "base_uri": "https://localhost:8080/"
        },
        "id": "U3q19V-TJK0a",
        "outputId": "a5acc2ae-31b9-49a5-eb77-6dc85c3ca6fb"
      },
      "outputs": [
        {
          "output_type": "stream",
          "name": "stdout",
          "text": [
            "Found 100000 images belonging to 200 classes.\n",
            "Found 10000 validated image filenames belonging to 200 classes.\n"
          ]
        }
      ],
      "source": [
        "train_datagen = ImageDataGenerator(rescale= 1./255)\n",
        "\n",
        "valid_datagen = ImageDataGenerator(rescale=1./255)\n",
        "\n",
        "train_generator = train_datagen.flow_from_directory( r'./tiny-imagenet-200/train/', target_size=(32, 32), color_mode='rgb', \n",
        "                                                    batch_size=256, class_mode='categorical', shuffle=True, seed=42)\n",
        "\n",
        "validation_generator = valid_datagen.flow_from_dataframe(val_data, directory='./tiny-imagenet-200/val/images/', x_col='File', y_col='Class', target_size=(64, 64),\n",
        "                                                    color_mode='rgb', class_mode='categorical', batch_size=256, shuffle=True, seed=42)"
      ]
    },
    {
      "cell_type": "markdown",
      "metadata": {
        "id": "cz-Mg8XTLU0h"
      },
      "source": [
        "## Model"
      ]
    },
    {
      "cell_type": "code",
      "execution_count": 16,
      "metadata": {
        "id": "aLdwwsovJ0Eo"
      },
      "outputs": [],
      "source": [
        "def space_to_depth(x):\n",
        "    return tf.nn.space_to_depth(x, block_size=2)"
      ]
    },
    {
      "cell_type": "code",
      "execution_count": 17,
      "metadata": {
        "id": "FPLSsQqaLXgq"
      },
      "outputs": [],
      "source": [
        "input = Input(shape=(None, None, img_channels))\n",
        "\n",
        "# Block 1\n",
        "\n",
        "layer1 = Conv2D(32, (3,3), strides=(1,1), padding='same', name='conv_1', use_bias=False)(input)\n",
        "layer1 = BatchNormalization(name='norm_1')(layer1)\n",
        "layer1 = Activation(\"relu\")(layer1)\n",
        "\n",
        "layer2 = Conv2D(64, (3,3), strides=(1,1), padding='same', name='conv_2', use_bias=False)(layer1)\n",
        "layer2 = BatchNormalization(name='norm_2')(layer2)\n",
        "layer2 = Activation(\"relu\")(layer2)\n",
        "\n",
        "layer3 = Conv2D(128, (3,3), strides=(1,1), padding='same', name='conv_3', use_bias=False)(layer2)\n",
        "layer3 = BatchNormalization(name='norm_3')(layer3)\n",
        "layer3 = Activation(\"relu\")(layer3)\n",
        "\n",
        "layer4 = Conv2D(256, (3,3), strides=(1,1), padding='same', name='conv_4', use_bias=False)(layer3)\n",
        "layer4 = BatchNormalization(name='norm_4')(layer4)\n",
        "layer4 = Activation(\"relu\")(layer4)\n",
        "\n",
        "layer5 = Conv2D(512, (3,3), strides=(1,1), padding='same', name='conv_5', use_bias=False)(layer4)\n",
        "layer5 = BatchNormalization(name='norm_5')(layer5)\n",
        "layer5 = Activation(\"relu\")(layer5)\n",
        "\n",
        "layer6 = MaxPooling2D(pool_size=(2, 2))(layer5)\n",
        "\n",
        "skip_connection_1 = layer6\n",
        "\n",
        "# Block 2\n",
        "\n",
        "layer7 = Conv2D(64, (3,3), strides=(1,1), padding='same', name='conv_7', use_bias=False)(layer6)\n",
        "layer7 = BatchNormalization(name='norm_7')(layer7)\n",
        "layer7 = Activation(\"relu\")(layer7)\n",
        "\n",
        "layer8 = Conv2D(128, (3,3), strides=(1,1), padding='same', name='conv_8', use_bias=False)(layer7)\n",
        "layer8 = BatchNormalization(name='norm_8')(layer8)\n",
        "layer8 = Activation(\"relu\")(layer8)\n",
        "\n",
        "layer9 = Conv2D(256, (3,3), strides=(1,1), padding='same', name='conv_9', use_bias=False)(layer8)\n",
        "layer9 = BatchNormalization(name='norm_9')(layer9)\n",
        "layer9 = Activation(\"relu\")(layer9)\n",
        "\n",
        "layer10 = Conv2D(512, (3,3), strides=(1,1), padding='same', name='conv_10', use_bias=False)(layer9)\n",
        "layer10 = BatchNormalization(name='norm_10')(layer10)\n",
        "layer10 = Activation(\"relu\")(layer10)\n",
        "\n",
        "layer11 = Conv2D(1024, (3,3), strides=(1,1), padding='same', name='conv_11', use_bias=False)(layer10)\n",
        "layer11 = BatchNormalization(name='norm_11')(layer11)\n",
        "layer11 = Activation(\"relu\")(layer11)\n",
        "\n",
        "layer12 = MaxPooling2D(pool_size=(2, 2))(layer11)\n",
        "\n",
        "skip_connection_1 = Lambda(space_to_depth)(skip_connection_1)\n",
        "\n",
        "layer13 = concatenate([skip_connection_1, layer12])\n",
        "\n",
        "skip_connection_2 = layer13\n",
        "\n",
        "# Block 3\n",
        "\n",
        "layer14 = Conv2D(32, (3,3), strides=(1,1), padding='same', name='conv_14', use_bias=False)(layer13)\n",
        "layer14 = BatchNormalization(name='norm_14')(layer14)\n",
        "layer14 = Activation(\"relu\")(layer14)\n",
        "\n",
        "layer15 = Conv2D(128, (3,3), strides=(1,1), padding='same', name='conv_15', use_bias=False)(layer14)\n",
        "layer15 = BatchNormalization(name='norm_15')(layer15)\n",
        "layer15 = Activation(\"relu\")(layer15)\n",
        "\n",
        "layer16 = Conv2D(256, (3,3), strides=(1,1), padding='same', name='conv_16', use_bias=False)(layer15)\n",
        "layer16 = BatchNormalization(name='norm_16')(layer16)\n",
        "layer16 = Activation(\"relu\")(layer16)\n",
        "\n",
        "layer17 = Conv2D(512, (3,3), strides=(1,1), padding='same', name='conv_17', use_bias=False)(layer16)\n",
        "layer17 = BatchNormalization(name='norm_17')(layer17)\n",
        "layer17 = Activation(\"relu\")(layer17)\n",
        "\n",
        "layer18 = Conv2D(1024, (3,3), strides=(1,1), padding='same', name='conv_18', use_bias=False)(layer17)\n",
        "layer18 = BatchNormalization(name='norm_18')(layer18)\n",
        "layer18 = Activation(\"relu\")(layer18)\n",
        "\n",
        "layer19 = MaxPooling2D(pool_size=(2, 2))(layer18)\n",
        "\n",
        "skip_connection_2 = Lambda(space_to_depth)(skip_connection_2)\n",
        "\n",
        "layer20 = concatenate([skip_connection_2, layer19])\n",
        "\n",
        "layer21 = Conv2D(num_classes, (1,1), name='conv_21', use_bias=False)(layer20)\n",
        "layer21 = BatchNormalization(name='norm_21')(layer21)\n",
        "\n",
        "layer22 = GlobalAveragePooling2D(data_format=None)(layer21)\n",
        "layer22 = tf.keras.layers.Dense(1024)(layer22)\n",
        "layer22 = BatchNormalization()(layer22)\n",
        "layer22 = Activation('relu')(layer22)\n",
        "\n",
        "layer23 = tf.keras.layers.Dense(512)(layer22)\n",
        "layer23 = BatchNormalization()(layer23)\n",
        "layer23 = Activation('relu')(layer23)\n",
        "\n",
        "layer24 = tf.keras.layers.Dropout(0.25)(layer23)\n",
        "\n",
        "layer25 = tf.keras.layers.Dense(200,activation='softmax')(layer24)\n",
        "\n",
        "output = layer25"
      ]
    },
    {
      "cell_type": "code",
      "execution_count": 18,
      "metadata": {
        "colab": {
          "base_uri": "https://localhost:8080/"
        },
        "id": "a9rFAuvRM2Pe",
        "outputId": "3495ec7e-b3b9-4892-f44a-29fb0d2e1e33"
      },
      "outputs": [
        {
          "output_type": "stream",
          "name": "stdout",
          "text": [
            "Model: \"model\"\n",
            "__________________________________________________________________________________________________\n",
            " Layer (type)                   Output Shape         Param #     Connected to                     \n",
            "==================================================================================================\n",
            " input_1 (InputLayer)           [(None, None, None,  0           []                               \n",
            "                                 3)]                                                              \n",
            "                                                                                                  \n",
            " conv_1 (Conv2D)                (None, None, None,   864         ['input_1[0][0]']                \n",
            "                                32)                                                               \n",
            "                                                                                                  \n",
            " norm_1 (BatchNormalization)    (None, None, None,   128         ['conv_1[0][0]']                 \n",
            "                                32)                                                               \n",
            "                                                                                                  \n",
            " activation (Activation)        (None, None, None,   0           ['norm_1[0][0]']                 \n",
            "                                32)                                                               \n",
            "                                                                                                  \n",
            " conv_2 (Conv2D)                (None, None, None,   18432       ['activation[0][0]']             \n",
            "                                64)                                                               \n",
            "                                                                                                  \n",
            " norm_2 (BatchNormalization)    (None, None, None,   256         ['conv_2[0][0]']                 \n",
            "                                64)                                                               \n",
            "                                                                                                  \n",
            " activation_1 (Activation)      (None, None, None,   0           ['norm_2[0][0]']                 \n",
            "                                64)                                                               \n",
            "                                                                                                  \n",
            " conv_3 (Conv2D)                (None, None, None,   73728       ['activation_1[0][0]']           \n",
            "                                128)                                                              \n",
            "                                                                                                  \n",
            " norm_3 (BatchNormalization)    (None, None, None,   512         ['conv_3[0][0]']                 \n",
            "                                128)                                                              \n",
            "                                                                                                  \n",
            " activation_2 (Activation)      (None, None, None,   0           ['norm_3[0][0]']                 \n",
            "                                128)                                                              \n",
            "                                                                                                  \n",
            " conv_4 (Conv2D)                (None, None, None,   294912      ['activation_2[0][0]']           \n",
            "                                256)                                                              \n",
            "                                                                                                  \n",
            " norm_4 (BatchNormalization)    (None, None, None,   1024        ['conv_4[0][0]']                 \n",
            "                                256)                                                              \n",
            "                                                                                                  \n",
            " activation_3 (Activation)      (None, None, None,   0           ['norm_4[0][0]']                 \n",
            "                                256)                                                              \n",
            "                                                                                                  \n",
            " conv_5 (Conv2D)                (None, None, None,   1179648     ['activation_3[0][0]']           \n",
            "                                512)                                                              \n",
            "                                                                                                  \n",
            " norm_5 (BatchNormalization)    (None, None, None,   2048        ['conv_5[0][0]']                 \n",
            "                                512)                                                              \n",
            "                                                                                                  \n",
            " activation_4 (Activation)      (None, None, None,   0           ['norm_5[0][0]']                 \n",
            "                                512)                                                              \n",
            "                                                                                                  \n",
            " max_pooling2d (MaxPooling2D)   (None, None, None,   0           ['activation_4[0][0]']           \n",
            "                                512)                                                              \n",
            "                                                                                                  \n",
            " conv_7 (Conv2D)                (None, None, None,   294912      ['max_pooling2d[0][0]']          \n",
            "                                64)                                                               \n",
            "                                                                                                  \n",
            " norm_7 (BatchNormalization)    (None, None, None,   256         ['conv_7[0][0]']                 \n",
            "                                64)                                                               \n",
            "                                                                                                  \n",
            " activation_5 (Activation)      (None, None, None,   0           ['norm_7[0][0]']                 \n",
            "                                64)                                                               \n",
            "                                                                                                  \n",
            " conv_8 (Conv2D)                (None, None, None,   73728       ['activation_5[0][0]']           \n",
            "                                128)                                                              \n",
            "                                                                                                  \n",
            " norm_8 (BatchNormalization)    (None, None, None,   512         ['conv_8[0][0]']                 \n",
            "                                128)                                                              \n",
            "                                                                                                  \n",
            " activation_6 (Activation)      (None, None, None,   0           ['norm_8[0][0]']                 \n",
            "                                128)                                                              \n",
            "                                                                                                  \n",
            " conv_9 (Conv2D)                (None, None, None,   294912      ['activation_6[0][0]']           \n",
            "                                256)                                                              \n",
            "                                                                                                  \n",
            " norm_9 (BatchNormalization)    (None, None, None,   1024        ['conv_9[0][0]']                 \n",
            "                                256)                                                              \n",
            "                                                                                                  \n",
            " activation_7 (Activation)      (None, None, None,   0           ['norm_9[0][0]']                 \n",
            "                                256)                                                              \n",
            "                                                                                                  \n",
            " conv_10 (Conv2D)               (None, None, None,   1179648     ['activation_7[0][0]']           \n",
            "                                512)                                                              \n",
            "                                                                                                  \n",
            " norm_10 (BatchNormalization)   (None, None, None,   2048        ['conv_10[0][0]']                \n",
            "                                512)                                                              \n",
            "                                                                                                  \n",
            " activation_8 (Activation)      (None, None, None,   0           ['norm_10[0][0]']                \n",
            "                                512)                                                              \n",
            "                                                                                                  \n",
            " conv_11 (Conv2D)               (None, None, None,   4718592     ['activation_8[0][0]']           \n",
            "                                1024)                                                             \n",
            "                                                                                                  \n",
            " norm_11 (BatchNormalization)   (None, None, None,   4096        ['conv_11[0][0]']                \n",
            "                                1024)                                                             \n",
            "                                                                                                  \n",
            " activation_9 (Activation)      (None, None, None,   0           ['norm_11[0][0]']                \n",
            "                                1024)                                                             \n",
            "                                                                                                  \n",
            " lambda (Lambda)                (None, None, None,   0           ['max_pooling2d[0][0]']          \n",
            "                                2048)                                                             \n",
            "                                                                                                  \n",
            " max_pooling2d_1 (MaxPooling2D)  (None, None, None,   0          ['activation_9[0][0]']           \n",
            "                                1024)                                                             \n",
            "                                                                                                  \n",
            " concatenate (Concatenate)      (None, None, None,   0           ['lambda[0][0]',                 \n",
            "                                3072)                             'max_pooling2d_1[0][0]']        \n",
            "                                                                                                  \n",
            " conv_14 (Conv2D)               (None, None, None,   884736      ['concatenate[0][0]']            \n",
            "                                32)                                                               \n",
            "                                                                                                  \n",
            " norm_14 (BatchNormalization)   (None, None, None,   128         ['conv_14[0][0]']                \n",
            "                                32)                                                               \n",
            "                                                                                                  \n",
            " activation_10 (Activation)     (None, None, None,   0           ['norm_14[0][0]']                \n",
            "                                32)                                                               \n",
            "                                                                                                  \n",
            " conv_15 (Conv2D)               (None, None, None,   36864       ['activation_10[0][0]']          \n",
            "                                128)                                                              \n",
            "                                                                                                  \n",
            " norm_15 (BatchNormalization)   (None, None, None,   512         ['conv_15[0][0]']                \n",
            "                                128)                                                              \n",
            "                                                                                                  \n",
            " activation_11 (Activation)     (None, None, None,   0           ['norm_15[0][0]']                \n",
            "                                128)                                                              \n",
            "                                                                                                  \n",
            " conv_16 (Conv2D)               (None, None, None,   294912      ['activation_11[0][0]']          \n",
            "                                256)                                                              \n",
            "                                                                                                  \n",
            " norm_16 (BatchNormalization)   (None, None, None,   1024        ['conv_16[0][0]']                \n",
            "                                256)                                                              \n",
            "                                                                                                  \n",
            " activation_12 (Activation)     (None, None, None,   0           ['norm_16[0][0]']                \n",
            "                                256)                                                              \n",
            "                                                                                                  \n",
            " conv_17 (Conv2D)               (None, None, None,   1179648     ['activation_12[0][0]']          \n",
            "                                512)                                                              \n",
            "                                                                                                  \n",
            " norm_17 (BatchNormalization)   (None, None, None,   2048        ['conv_17[0][0]']                \n",
            "                                512)                                                              \n",
            "                                                                                                  \n",
            " activation_13 (Activation)     (None, None, None,   0           ['norm_17[0][0]']                \n",
            "                                512)                                                              \n",
            "                                                                                                  \n",
            " conv_18 (Conv2D)               (None, None, None,   4718592     ['activation_13[0][0]']          \n",
            "                                1024)                                                             \n",
            "                                                                                                  \n",
            " norm_18 (BatchNormalization)   (None, None, None,   4096        ['conv_18[0][0]']                \n",
            "                                1024)                                                             \n",
            "                                                                                                  \n",
            " activation_14 (Activation)     (None, None, None,   0           ['norm_18[0][0]']                \n",
            "                                1024)                                                             \n",
            "                                                                                                  \n",
            " lambda_1 (Lambda)              (None, None, None,   0           ['concatenate[0][0]']            \n",
            "                                12288)                                                            \n",
            "                                                                                                  \n",
            " max_pooling2d_2 (MaxPooling2D)  (None, None, None,   0          ['activation_14[0][0]']          \n",
            "                                1024)                                                             \n",
            "                                                                                                  \n",
            " concatenate_1 (Concatenate)    (None, None, None,   0           ['lambda_1[0][0]',               \n",
            "                                13312)                            'max_pooling2d_2[0][0]']        \n",
            "                                                                                                  \n",
            " conv_21 (Conv2D)               (None, None, None,   2662400     ['concatenate_1[0][0]']          \n",
            "                                200)                                                              \n",
            "                                                                                                  \n",
            " norm_21 (BatchNormalization)   (None, None, None,   800         ['conv_21[0][0]']                \n",
            "                                200)                                                              \n",
            "                                                                                                  \n",
            " global_average_pooling2d (Glob  (None, 200)         0           ['norm_21[0][0]']                \n",
            " alAveragePooling2D)                                                                              \n",
            "                                                                                                  \n",
            " dense (Dense)                  (None, 1024)         205824      ['global_average_pooling2d[0][0]'\n",
            "                                                                 ]                                \n",
            "                                                                                                  \n",
            " batch_normalization (BatchNorm  (None, 1024)        4096        ['dense[0][0]']                  \n",
            " alization)                                                                                       \n",
            "                                                                                                  \n",
            " activation_15 (Activation)     (None, 1024)         0           ['batch_normalization[0][0]']    \n",
            "                                                                                                  \n",
            " dense_1 (Dense)                (None, 512)          524800      ['activation_15[0][0]']          \n",
            "                                                                                                  \n",
            " batch_normalization_1 (BatchNo  (None, 512)         2048        ['dense_1[0][0]']                \n",
            " rmalization)                                                                                     \n",
            "                                                                                                  \n",
            " activation_16 (Activation)     (None, 512)          0           ['batch_normalization_1[0][0]']  \n",
            "                                                                                                  \n",
            " dropout (Dropout)              (None, 512)          0           ['activation_16[0][0]']          \n",
            "                                                                                                  \n",
            " dense_2 (Dense)                (None, 200)          102600      ['dropout[0][0]']                \n",
            "                                                                                                  \n",
            "==================================================================================================\n",
            "Total params: 18,766,408\n",
            "Trainable params: 18,753,080\n",
            "Non-trainable params: 13,328\n",
            "__________________________________________________________________________________________________\n"
          ]
        }
      ],
      "source": [
        "model = tf.keras.models.Model(inputs=[input], outputs=[output])\n",
        "model.summary()"
      ]
    },
    {
      "cell_type": "code",
      "execution_count": 19,
      "metadata": {
        "id": "qAiZ0lHpP4c6"
      },
      "outputs": [],
      "source": [
        "lr_reducer = tf.keras.callbacks.ReduceLROnPlateau(factor=np.sqrt(0.1), cooldown=0, patience=5, min_lr=0.5e-6)\n",
        "\n",
        "model.compile(loss='categorical_crossentropy',\n",
        "              optimizer='adam',\n",
        "              metrics=['accuracy'])"
      ]
    },
    {
      "cell_type": "markdown",
      "metadata": {
        "id": "NFpM98qHP86j"
      },
      "source": [
        "## Training"
      ]
    },
    {
      "cell_type": "markdown",
      "metadata": {
        "id": "D7XWThjhAtV-"
      },
      "source": [
        "## Epoch 1-20"
      ]
    },
    {
      "cell_type": "code",
      "execution_count": 20,
      "metadata": {
        "colab": {
          "base_uri": "https://localhost:8080/",
          "height": 763
        },
        "id": "clLXvbRLP6v3",
        "outputId": "d15b4e1b-736d-4943-e779-cfd19ac9a261"
      },
      "outputs": [
        {
          "output_type": "stream",
          "name": "stdout",
          "text": [
            "Epoch 1/20\n",
            "200/200 [==============================] - 131s 448ms/step - loss: 4.8070 - accuracy: 0.0461 - val_loss: 6.4008 - val_accuracy: 0.0086 - lr: 0.0010\n",
            "Epoch 2/20\n",
            "200/200 [==============================] - 84s 421ms/step - loss: 4.1854 - accuracy: 0.1061 - val_loss: 5.5262 - val_accuracy: 0.0359 - lr: 0.0010\n",
            "Epoch 3/20\n",
            "200/200 [==============================] - 84s 422ms/step - loss: 3.8517 - accuracy: 0.1493 - val_loss: 4.8059 - val_accuracy: 0.0726 - lr: 0.0010\n",
            "Epoch 4/20\n",
            "200/200 [==============================] - 84s 418ms/step - loss: 3.6241 - accuracy: 0.1820 - val_loss: 5.2527 - val_accuracy: 0.0564 - lr: 0.0010\n",
            "Epoch 5/20\n",
            "200/200 [==============================] - 83s 416ms/step - loss: 3.4571 - accuracy: 0.2085 - val_loss: 5.2644 - val_accuracy: 0.0600 - lr: 0.0010\n",
            "Epoch 6/20\n",
            "200/200 [==============================] - 83s 416ms/step - loss: 3.3082 - accuracy: 0.2356 - val_loss: 4.0650 - val_accuracy: 0.1295 - lr: 0.0010\n",
            "Epoch 7/20\n",
            "200/200 [==============================] - 83s 417ms/step - loss: 3.1798 - accuracy: 0.2584 - val_loss: 4.6308 - val_accuracy: 0.0976 - lr: 0.0010\n",
            "Epoch 8/20\n",
            "200/200 [==============================] - 83s 417ms/step - loss: 3.0711 - accuracy: 0.2758 - val_loss: 4.5782 - val_accuracy: 0.0943 - lr: 0.0010\n",
            "Epoch 9/20\n",
            "200/200 [==============================] - 83s 417ms/step - loss: 2.9552 - accuracy: 0.2983 - val_loss: 4.9560 - val_accuracy: 0.0830 - lr: 0.0010\n",
            "Epoch 10/20\n",
            "200/200 [==============================] - 83s 416ms/step - loss: 2.8618 - accuracy: 0.3132 - val_loss: 4.1426 - val_accuracy: 0.1276 - lr: 0.0010\n",
            "Epoch 11/20\n",
            "200/200 [==============================] - 83s 417ms/step - loss: 2.7776 - accuracy: 0.3311 - val_loss: 4.0184 - val_accuracy: 0.1454 - lr: 0.0010\n",
            "Epoch 12/20\n",
            "200/200 [==============================] - 83s 416ms/step - loss: 2.6745 - accuracy: 0.3500 - val_loss: 4.2909 - val_accuracy: 0.1310 - lr: 0.0010\n",
            "Epoch 13/20\n",
            "200/200 [==============================] - 83s 416ms/step - loss: 2.6000 - accuracy: 0.3636 - val_loss: 4.3663 - val_accuracy: 0.1183 - lr: 0.0010\n",
            "Epoch 14/20\n",
            "200/200 [==============================] - 83s 416ms/step - loss: 2.5127 - accuracy: 0.3805 - val_loss: 4.1284 - val_accuracy: 0.1363 - lr: 0.0010\n",
            "Epoch 15/20\n",
            "200/200 [==============================] - 83s 416ms/step - loss: 2.4341 - accuracy: 0.3958 - val_loss: 4.2942 - val_accuracy: 0.1300 - lr: 0.0010\n",
            "Epoch 16/20\n",
            "200/200 [==============================] - 83s 417ms/step - loss: 2.3470 - accuracy: 0.4175 - val_loss: 4.1391 - val_accuracy: 0.1468 - lr: 0.0010\n",
            "Epoch 17/20\n",
            "200/200 [==============================] - 83s 416ms/step - loss: 2.0428 - accuracy: 0.4831 - val_loss: 3.8684 - val_accuracy: 0.1653 - lr: 3.1623e-04\n",
            "Epoch 18/20\n",
            "200/200 [==============================] - 83s 416ms/step - loss: 1.9394 - accuracy: 0.5052 - val_loss: 4.1985 - val_accuracy: 0.1382 - lr: 3.1623e-04\n",
            "Epoch 19/20\n",
            "200/200 [==============================] - 83s 416ms/step - loss: 1.8608 - accuracy: 0.5233 - val_loss: 3.9488 - val_accuracy: 0.1602 - lr: 3.1623e-04\n",
            "Epoch 20/20\n",
            "200/200 [==============================] - 83s 416ms/step - loss: 1.7884 - accuracy: 0.5375 - val_loss: 4.3257 - val_accuracy: 0.1408 - lr: 3.1623e-04\n"
          ]
        },
        {
          "output_type": "display_data",
          "data": {
            "application/javascript": [
              "\n",
              "    async function download(id, filename, size) {\n",
              "      if (!google.colab.kernel.accessAllowed) {\n",
              "        return;\n",
              "      }\n",
              "      const div = document.createElement('div');\n",
              "      const label = document.createElement('label');\n",
              "      label.textContent = `Downloading \"${filename}\": `;\n",
              "      div.appendChild(label);\n",
              "      const progress = document.createElement('progress');\n",
              "      progress.max = size;\n",
              "      div.appendChild(progress);\n",
              "      document.body.appendChild(div);\n",
              "\n",
              "      const buffers = [];\n",
              "      let downloaded = 0;\n",
              "\n",
              "      const channel = await google.colab.kernel.comms.open(id);\n",
              "      // Send a message to notify the kernel that we're ready.\n",
              "      channel.send({})\n",
              "\n",
              "      for await (const message of channel.messages) {\n",
              "        // Send a message to notify the kernel that we're ready.\n",
              "        channel.send({})\n",
              "        if (message.buffers) {\n",
              "          for (const buffer of message.buffers) {\n",
              "            buffers.push(buffer);\n",
              "            downloaded += buffer.byteLength;\n",
              "            progress.value = downloaded;\n",
              "          }\n",
              "        }\n",
              "      }\n",
              "      const blob = new Blob(buffers, {type: 'application/binary'});\n",
              "      const a = document.createElement('a');\n",
              "      a.href = window.URL.createObjectURL(blob);\n",
              "      a.download = filename;\n",
              "      div.appendChild(a);\n",
              "      a.click();\n",
              "      div.remove();\n",
              "    }\n",
              "  "
            ],
            "text/plain": [
              "<IPython.core.display.Javascript object>"
            ]
          },
          "metadata": {}
        },
        {
          "output_type": "display_data",
          "data": {
            "application/javascript": [
              "download(\"download_55f1808e-27ba-4d74-9e48-3e320af5dbd5\", \"mhistory1.csv\", 2031)"
            ],
            "text/plain": [
              "<IPython.core.display.Javascript object>"
            ]
          },
          "metadata": {}
        }
      ],
      "source": [
        "history1 = model.fit(train_generator, \n",
        "                     epochs=20, \n",
        "                     steps_per_epoch=200, \n",
        "                     validation_data=validation_generator, \n",
        "                     callbacks=[lr_reducer])\n",
        "\n",
        "model.save('/content/drive/My Drive/4040_final_project/Colab Notebooks/Saved Modified Models_1_1/Model1_1.h5') \n",
        "\n",
        "df = pd.DataFrame(history1.history)\n",
        "df.to_csv('mhistory1.csv')\n",
        "from google.colab import files\n",
        "files.download('mhistory1.csv')"
      ]
    },
    {
      "cell_type": "code",
      "execution_count": 21,
      "metadata": {
        "colab": {
          "base_uri": "https://localhost:8080/"
        },
        "id": "6JqUZbbXTLLa",
        "outputId": "0d06f7e3-b952-489e-bdaa-c2455955360a"
      },
      "outputs": [
        {
          "output_type": "stream",
          "name": "stdout",
          "text": [
            "Found 100000 images belonging to 200 classes.\n",
            "Found 10000 validated image filenames belonging to 200 classes.\n"
          ]
        }
      ],
      "source": [
        "train_generator = train_datagen.flow_from_directory( r'./tiny-imagenet-200/train/', target_size=(64, 64), color_mode='rgb', \n",
        "                                                    batch_size=64, class_mode='categorical', shuffle=True, seed=42)\n",
        "\n",
        "validation_generator = valid_datagen.flow_from_dataframe(val_data, directory='./tiny-imagenet-200/val/images/', x_col='File', y_col='Class', target_size=(64, 64),\n",
        "                                                    color_mode='rgb', class_mode='categorical', batch_size=64, shuffle=True, seed=42)"
      ]
    },
    {
      "cell_type": "code",
      "execution_count": 22,
      "metadata": {
        "colab": {
          "base_uri": "https://localhost:8080/",
          "height": 582
        },
        "id": "tLBktocmQAYN",
        "outputId": "7584c4b1-eb74-4fed-ed4b-d3a50494e7ef"
      },
      "outputs": [
        {
          "output_type": "stream",
          "name": "stdout",
          "text": [
            "Epoch 1/15\n",
            "200/200 [==============================] - 83s 410ms/step - loss: 2.8647 - accuracy: 0.3199 - val_loss: 3.6754 - val_accuracy: 0.2340 - lr: 3.1623e-04\n",
            "Epoch 2/15\n",
            "200/200 [==============================] - 82s 409ms/step - loss: 2.5494 - accuracy: 0.3730 - val_loss: 3.0989 - val_accuracy: 0.2867 - lr: 3.1623e-04\n",
            "Epoch 3/15\n",
            "200/200 [==============================] - 81s 408ms/step - loss: 2.4496 - accuracy: 0.3985 - val_loss: 2.8826 - val_accuracy: 0.3229 - lr: 3.1623e-04\n",
            "Epoch 4/15\n",
            "200/200 [==============================] - 82s 408ms/step - loss: 2.3791 - accuracy: 0.4052 - val_loss: 2.8447 - val_accuracy: 0.3332 - lr: 3.1623e-04\n",
            "Epoch 5/15\n",
            "200/200 [==============================] - 82s 408ms/step - loss: 2.3333 - accuracy: 0.4183 - val_loss: 2.8363 - val_accuracy: 0.3287 - lr: 3.1623e-04\n",
            "Epoch 6/15\n",
            "200/200 [==============================] - 81s 407ms/step - loss: 2.3050 - accuracy: 0.4306 - val_loss: 3.2882 - val_accuracy: 0.2952 - lr: 3.1623e-04\n",
            "Epoch 7/15\n",
            "200/200 [==============================] - 81s 408ms/step - loss: 2.2517 - accuracy: 0.4341 - val_loss: 2.9242 - val_accuracy: 0.3173 - lr: 3.1623e-04\n",
            "Epoch 8/15\n",
            "200/200 [==============================] - 82s 408ms/step - loss: 2.2290 - accuracy: 0.4389 - val_loss: 3.0277 - val_accuracy: 0.3187 - lr: 3.1623e-04\n",
            "Epoch 9/15\n",
            "200/200 [==============================] - 82s 408ms/step - loss: 2.1848 - accuracy: 0.4480 - val_loss: 2.8429 - val_accuracy: 0.3404 - lr: 3.1623e-04\n",
            "Epoch 10/15\n",
            "200/200 [==============================] - 82s 408ms/step - loss: 2.1659 - accuracy: 0.4523 - val_loss: 2.8144 - val_accuracy: 0.3377 - lr: 3.1623e-04\n",
            "Epoch 11/15\n",
            "200/200 [==============================] - 82s 408ms/step - loss: 2.1170 - accuracy: 0.4620 - val_loss: 2.7466 - val_accuracy: 0.3483 - lr: 3.1623e-04\n",
            "Epoch 12/15\n",
            "200/200 [==============================] - 82s 409ms/step - loss: 2.1248 - accuracy: 0.4620 - val_loss: 2.7978 - val_accuracy: 0.3449 - lr: 3.1623e-04\n",
            "Epoch 13/15\n",
            "200/200 [==============================] - 82s 409ms/step - loss: 2.1144 - accuracy: 0.4645 - val_loss: 2.7554 - val_accuracy: 0.3585 - lr: 3.1623e-04\n",
            "Epoch 14/15\n",
            "200/200 [==============================] - 82s 408ms/step - loss: 2.0683 - accuracy: 0.4776 - val_loss: 2.6705 - val_accuracy: 0.3706 - lr: 3.1623e-04\n",
            "Epoch 15/15\n",
            "200/200 [==============================] - 82s 409ms/step - loss: 2.0570 - accuracy: 0.4762 - val_loss: 2.7293 - val_accuracy: 0.3558 - lr: 3.1623e-04\n"
          ]
        },
        {
          "output_type": "display_data",
          "data": {
            "application/javascript": [
              "\n",
              "    async function download(id, filename, size) {\n",
              "      if (!google.colab.kernel.accessAllowed) {\n",
              "        return;\n",
              "      }\n",
              "      const div = document.createElement('div');\n",
              "      const label = document.createElement('label');\n",
              "      label.textContent = `Downloading \"${filename}\": `;\n",
              "      div.appendChild(label);\n",
              "      const progress = document.createElement('progress');\n",
              "      progress.max = size;\n",
              "      div.appendChild(progress);\n",
              "      document.body.appendChild(div);\n",
              "\n",
              "      const buffers = [];\n",
              "      let downloaded = 0;\n",
              "\n",
              "      const channel = await google.colab.kernel.comms.open(id);\n",
              "      // Send a message to notify the kernel that we're ready.\n",
              "      channel.send({})\n",
              "\n",
              "      for await (const message of channel.messages) {\n",
              "        // Send a message to notify the kernel that we're ready.\n",
              "        channel.send({})\n",
              "        if (message.buffers) {\n",
              "          for (const buffer of message.buffers) {\n",
              "            buffers.push(buffer);\n",
              "            downloaded += buffer.byteLength;\n",
              "            progress.value = downloaded;\n",
              "          }\n",
              "        }\n",
              "      }\n",
              "      const blob = new Blob(buffers, {type: 'application/binary'});\n",
              "      const a = document.createElement('a');\n",
              "      a.href = window.URL.createObjectURL(blob);\n",
              "      a.download = filename;\n",
              "      div.appendChild(a);\n",
              "      a.click();\n",
              "      div.remove();\n",
              "    }\n",
              "  "
            ],
            "text/plain": [
              "<IPython.core.display.Javascript object>"
            ]
          },
          "metadata": {}
        },
        {
          "output_type": "display_data",
          "data": {
            "application/javascript": [
              "download(\"download_1fb25b1d-6b3a-43fa-9ab5-3354a57e43e3\", \"mhistory2.csv\", 1541)"
            ],
            "text/plain": [
              "<IPython.core.display.Javascript object>"
            ]
          },
          "metadata": {}
        }
      ],
      "source": [
        "model = load_model('/content/drive/My Drive/4040_final_project/Colab Notebooks/Saved Modified Models_1_1/Model1_1.h5')\n",
        "\n",
        "history2 = model.fit(train_generator, epochs=15, steps_per_epoch=200, validation_data=validation_generator, callbacks=[lr_reducer])\n",
        "\n",
        "model.save('/content/drive/My Drive/4040_final_project/Colab Notebooks/Saved Modified Models_1_1/Model1_2.h5') \n",
        "\n",
        "df = pd.DataFrame(history2.history)\n",
        "df.to_csv('mhistory2.csv')\n",
        "files.download('mhistory2.csv')"
      ]
    },
    {
      "cell_type": "code",
      "execution_count": 23,
      "metadata": {
        "colab": {
          "base_uri": "https://localhost:8080/",
          "height": 582
        },
        "id": "JBOxLUJ4TRC4",
        "outputId": "12c130c2-965c-4a98-d89c-59d946a6056b"
      },
      "outputs": [
        {
          "output_type": "stream",
          "name": "stdout",
          "text": [
            "Epoch 1/15\n",
            "200/200 [==============================] - 83s 410ms/step - loss: 2.0286 - accuracy: 0.4862 - val_loss: 2.5800 - val_accuracy: 0.3841\n",
            "Epoch 2/15\n",
            "200/200 [==============================] - 82s 409ms/step - loss: 2.0295 - accuracy: 0.4855 - val_loss: 3.0191 - val_accuracy: 0.3224\n",
            "Epoch 3/15\n",
            "200/200 [==============================] - 82s 408ms/step - loss: 2.0093 - accuracy: 0.4817 - val_loss: 2.7257 - val_accuracy: 0.3569\n",
            "Epoch 4/15\n",
            "200/200 [==============================] - 82s 408ms/step - loss: 2.0215 - accuracy: 0.4873 - val_loss: 2.6556 - val_accuracy: 0.3737\n",
            "Epoch 5/15\n",
            "200/200 [==============================] - 82s 408ms/step - loss: 1.9476 - accuracy: 0.5066 - val_loss: 2.7320 - val_accuracy: 0.3536\n",
            "Epoch 6/15\n",
            "200/200 [==============================] - 82s 409ms/step - loss: 1.9574 - accuracy: 0.4985 - val_loss: 2.7462 - val_accuracy: 0.3570\n",
            "Epoch 7/15\n",
            "200/200 [==============================] - 82s 408ms/step - loss: 1.9443 - accuracy: 0.5025 - val_loss: 2.6417 - val_accuracy: 0.3771\n",
            "Epoch 8/15\n",
            "200/200 [==============================] - 82s 408ms/step - loss: 1.9141 - accuracy: 0.5083 - val_loss: 2.8589 - val_accuracy: 0.3370\n",
            "Epoch 9/15\n",
            "200/200 [==============================] - 82s 408ms/step - loss: 1.9003 - accuracy: 0.5133 - val_loss: 2.7538 - val_accuracy: 0.3602\n",
            "Epoch 10/15\n",
            "200/200 [==============================] - 81s 408ms/step - loss: 1.8763 - accuracy: 0.5127 - val_loss: 2.7137 - val_accuracy: 0.3731\n",
            "Epoch 11/15\n",
            "200/200 [==============================] - 81s 407ms/step - loss: 1.8721 - accuracy: 0.5193 - val_loss: 2.8334 - val_accuracy: 0.3484\n",
            "Epoch 12/15\n",
            "200/200 [==============================] - 81s 407ms/step - loss: 1.8739 - accuracy: 0.5148 - val_loss: 2.6775 - val_accuracy: 0.3776\n",
            "Epoch 13/15\n",
            "200/200 [==============================] - 81s 407ms/step - loss: 1.8284 - accuracy: 0.5272 - val_loss: 2.5402 - val_accuracy: 0.3937\n",
            "Epoch 14/15\n",
            "200/200 [==============================] - 82s 408ms/step - loss: 1.8015 - accuracy: 0.5336 - val_loss: 2.7067 - val_accuracy: 0.3743\n",
            "Epoch 15/15\n",
            "200/200 [==============================] - 81s 406ms/step - loss: 1.7803 - accuracy: 0.5319 - val_loss: 2.8732 - val_accuracy: 0.3548\n"
          ]
        },
        {
          "output_type": "display_data",
          "data": {
            "application/javascript": [
              "\n",
              "    async function download(id, filename, size) {\n",
              "      if (!google.colab.kernel.accessAllowed) {\n",
              "        return;\n",
              "      }\n",
              "      const div = document.createElement('div');\n",
              "      const label = document.createElement('label');\n",
              "      label.textContent = `Downloading \"${filename}\": `;\n",
              "      div.appendChild(label);\n",
              "      const progress = document.createElement('progress');\n",
              "      progress.max = size;\n",
              "      div.appendChild(progress);\n",
              "      document.body.appendChild(div);\n",
              "\n",
              "      const buffers = [];\n",
              "      let downloaded = 0;\n",
              "\n",
              "      const channel = await google.colab.kernel.comms.open(id);\n",
              "      // Send a message to notify the kernel that we're ready.\n",
              "      channel.send({})\n",
              "\n",
              "      for await (const message of channel.messages) {\n",
              "        // Send a message to notify the kernel that we're ready.\n",
              "        channel.send({})\n",
              "        if (message.buffers) {\n",
              "          for (const buffer of message.buffers) {\n",
              "            buffers.push(buffer);\n",
              "            downloaded += buffer.byteLength;\n",
              "            progress.value = downloaded;\n",
              "          }\n",
              "        }\n",
              "      }\n",
              "      const blob = new Blob(buffers, {type: 'application/binary'});\n",
              "      const a = document.createElement('a');\n",
              "      a.href = window.URL.createObjectURL(blob);\n",
              "      a.download = filename;\n",
              "      div.appendChild(a);\n",
              "      a.click();\n",
              "      div.remove();\n",
              "    }\n",
              "  "
            ],
            "text/plain": [
              "<IPython.core.display.Javascript object>"
            ]
          },
          "metadata": {}
        },
        {
          "output_type": "display_data",
          "data": {
            "application/javascript": [
              "download(\"download_da30a50a-8af1-4d92-a4fb-7927644485a2\", \"mhistory3.csv\", 1206)"
            ],
            "text/plain": [
              "<IPython.core.display.Javascript object>"
            ]
          },
          "metadata": {}
        }
      ],
      "source": [
        "model = load_model('/content/drive/My Drive/4040_final_project/Colab Notebooks/Saved Modified Models_1_1/Model1_2.h5')\n",
        "\n",
        "history3 = model.fit(train_generator, epochs=15, steps_per_epoch=200, validation_data=validation_generator)\n",
        "\n",
        "model.save('/content/drive/My Drive/4040_final_project/Colab Notebooks/Saved Modified Models_1_1/Model1_3.h5')\n",
        "\n",
        "df = pd.DataFrame(history3.history)\n",
        "df.to_csv('mhistory3.csv')\n",
        "files.download('mhistory3.csv')"
      ]
    },
    {
      "cell_type": "code",
      "source": [
        "train_generator = train_datagen.flow_from_directory( r'./tiny-imagenet-200/train/', target_size=(16, 16), color_mode='rgb', \n",
        "                                                    batch_size=256, class_mode='categorical', shuffle=True, seed=42)\n",
        "validation_generator = valid_datagen.flow_from_dataframe(val_data, directory='./tiny-imagenet-200/val/images/', x_col='File', y_col='Class', target_size=(64, 64),\n",
        "                                                    color_mode='rgb', class_mode='categorical', batch_size=256, shuffle=True, seed=42)"
      ],
      "metadata": {
        "colab": {
          "base_uri": "https://localhost:8080/"
        },
        "id": "yzlzZD34nzwF",
        "outputId": "f6ec08c3-9b58-423f-bcd0-8b78317c45b7"
      },
      "execution_count": 24,
      "outputs": [
        {
          "output_type": "stream",
          "name": "stdout",
          "text": [
            "Found 100000 images belonging to 200 classes.\n",
            "Found 10000 validated image filenames belonging to 200 classes.\n"
          ]
        }
      ]
    },
    {
      "cell_type": "code",
      "source": [
        "model = load_model('/content/drive/My Drive/4040_final_project/Colab Notebooks/Saved Modified Models_1_1/Model1_3.h5')\n",
        "\n",
        "history4 = model.fit(train_generator, \n",
        "                     epochs=10, \n",
        "                     steps_per_epoch=200, \n",
        "                     validation_data=validation_generator)\n",
        "\n",
        "model.save('/content/drive/My Drive/4040_final_project/Colab Notebooks/Saved Modified Models_1_1/Model1_4.h5')\n",
        "\n",
        "df = pd.DataFrame(history4.history)\n",
        "df.to_csv('mhistory4.csv')\n",
        "from google.colab import files\n",
        "files.download('mhistory4.csv')"
      ],
      "metadata": {
        "colab": {
          "base_uri": "https://localhost:8080/",
          "height": 400
        },
        "id": "lsZ4tWJkoJHH",
        "outputId": "1dba9139-0599-458a-c1e6-9691d29b4b9e"
      },
      "execution_count": 25,
      "outputs": [
        {
          "output_type": "stream",
          "name": "stdout",
          "text": [
            "Epoch 1/10\n",
            "200/200 [==============================] - 42s 199ms/step - loss: 3.5812 - accuracy: 0.2219 - val_loss: 5.3282 - val_accuracy: 0.0762\n",
            "Epoch 2/10\n",
            "200/200 [==============================] - 39s 197ms/step - loss: 3.0475 - accuracy: 0.2923 - val_loss: 5.1308 - val_accuracy: 0.0676\n",
            "Epoch 3/10\n",
            "200/200 [==============================] - 39s 194ms/step - loss: 2.8619 - accuracy: 0.3269 - val_loss: 5.2500 - val_accuracy: 0.0659\n",
            "Epoch 4/10\n",
            "200/200 [==============================] - 39s 193ms/step - loss: 2.7739 - accuracy: 0.3385 - val_loss: 5.7183 - val_accuracy: 0.0568\n",
            "Epoch 5/10\n",
            "200/200 [==============================] - 39s 194ms/step - loss: 2.6610 - accuracy: 0.3638 - val_loss: 5.1914 - val_accuracy: 0.0758\n",
            "Epoch 6/10\n",
            "200/200 [==============================] - 39s 194ms/step - loss: 2.5653 - accuracy: 0.3773 - val_loss: 5.5818 - val_accuracy: 0.0652\n",
            "Epoch 7/10\n",
            "200/200 [==============================] - 39s 194ms/step - loss: 2.4917 - accuracy: 0.3957 - val_loss: 6.1450 - val_accuracy: 0.0507\n",
            "Epoch 8/10\n",
            "200/200 [==============================] - 39s 194ms/step - loss: 2.4004 - accuracy: 0.4125 - val_loss: 6.3708 - val_accuracy: 0.0494\n",
            "Epoch 9/10\n",
            "200/200 [==============================] - 39s 194ms/step - loss: 2.3195 - accuracy: 0.4312 - val_loss: 6.0528 - val_accuracy: 0.0586\n",
            "Epoch 10/10\n",
            "200/200 [==============================] - 39s 194ms/step - loss: 2.2274 - accuracy: 0.4483 - val_loss: 6.7785 - val_accuracy: 0.0468\n"
          ]
        },
        {
          "output_type": "display_data",
          "data": {
            "application/javascript": [
              "\n",
              "    async function download(id, filename, size) {\n",
              "      if (!google.colab.kernel.accessAllowed) {\n",
              "        return;\n",
              "      }\n",
              "      const div = document.createElement('div');\n",
              "      const label = document.createElement('label');\n",
              "      label.textContent = `Downloading \"${filename}\": `;\n",
              "      div.appendChild(label);\n",
              "      const progress = document.createElement('progress');\n",
              "      progress.max = size;\n",
              "      div.appendChild(progress);\n",
              "      document.body.appendChild(div);\n",
              "\n",
              "      const buffers = [];\n",
              "      let downloaded = 0;\n",
              "\n",
              "      const channel = await google.colab.kernel.comms.open(id);\n",
              "      // Send a message to notify the kernel that we're ready.\n",
              "      channel.send({})\n",
              "\n",
              "      for await (const message of channel.messages) {\n",
              "        // Send a message to notify the kernel that we're ready.\n",
              "        channel.send({})\n",
              "        if (message.buffers) {\n",
              "          for (const buffer of message.buffers) {\n",
              "            buffers.push(buffer);\n",
              "            downloaded += buffer.byteLength;\n",
              "            progress.value = downloaded;\n",
              "          }\n",
              "        }\n",
              "      }\n",
              "      const blob = new Blob(buffers, {type: 'application/binary'});\n",
              "      const a = document.createElement('a');\n",
              "      a.href = window.URL.createObjectURL(blob);\n",
              "      a.download = filename;\n",
              "      div.appendChild(a);\n",
              "      a.click();\n",
              "      div.remove();\n",
              "    }\n",
              "  "
            ],
            "text/plain": [
              "<IPython.core.display.Javascript object>"
            ]
          },
          "metadata": {}
        },
        {
          "output_type": "display_data",
          "data": {
            "application/javascript": [
              "download(\"download_2efbaacd-c658-456c-9522-731c482e345b\", \"mhistory4.csv\", 820)"
            ],
            "text/plain": [
              "<IPython.core.display.Javascript object>"
            ]
          },
          "metadata": {}
        }
      ]
    },
    {
      "cell_type": "code",
      "source": [
        "train_generator = train_datagen.flow_from_directory( r'./tiny-imagenet-200/train/', target_size=(64, 64), color_mode='rgb', \n",
        "                                                    batch_size=64, class_mode='categorical', shuffle=True, seed=42)\n",
        "\n",
        "validation_generator = valid_datagen.flow_from_dataframe(val_data, directory='./tiny-imagenet-200/val/images/', x_col='File', y_col='Class', target_size=(64, 64),\n",
        "                                                    color_mode='rgb', class_mode='categorical', batch_size=64, shuffle=True, seed=42)"
      ],
      "metadata": {
        "colab": {
          "base_uri": "https://localhost:8080/"
        },
        "id": "4-gcfQg0oWQb",
        "outputId": "c4a957a2-d317-4638-eff8-5474060d4ecb"
      },
      "execution_count": 26,
      "outputs": [
        {
          "output_type": "stream",
          "name": "stdout",
          "text": [
            "Found 100000 images belonging to 200 classes.\n",
            "Found 10000 validated image filenames belonging to 200 classes.\n"
          ]
        }
      ]
    },
    {
      "cell_type": "code",
      "source": [
        "model = load_model('/content/drive/My Drive/4040_final_project/Colab Notebooks/Saved Modified Models_1_1/Model1_4.h5')\n",
        "\n",
        "history5 = model.fit(train_generator, \n",
        "                     epochs=15, \n",
        "                     steps_per_epoch=200, \n",
        "                     validation_data=validation_generator)\n",
        "\n",
        "model.save('/content/drive/My Drive/4040_final_project/Colab Notebooks/Saved Modified Models_1_1/Model1_5.h5')\n",
        "\n",
        "df = pd.DataFrame(history5.history)\n",
        "df.to_csv('mhistory5.csv')\n",
        "from google.colab import files\n",
        "files.download('mhistory5.csv')"
      ],
      "metadata": {
        "colab": {
          "base_uri": "https://localhost:8080/",
          "height": 582
        },
        "id": "CIS_hH7uoXkC",
        "outputId": "de87a69b-e70a-4a85-e431-86493a80a162"
      },
      "execution_count": 27,
      "outputs": [
        {
          "output_type": "stream",
          "name": "stdout",
          "text": [
            "Epoch 1/15\n",
            "200/200 [==============================] - 83s 409ms/step - loss: 2.2601 - accuracy: 0.4266 - val_loss: 3.6999 - val_accuracy: 0.2624\n",
            "Epoch 2/15\n",
            "200/200 [==============================] - 81s 408ms/step - loss: 1.9967 - accuracy: 0.4886 - val_loss: 2.8426 - val_accuracy: 0.3464\n",
            "Epoch 3/15\n",
            "200/200 [==============================] - 81s 405ms/step - loss: 1.9167 - accuracy: 0.5036 - val_loss: 2.6545 - val_accuracy: 0.3753\n",
            "Epoch 4/15\n",
            "200/200 [==============================] - 81s 407ms/step - loss: 1.8511 - accuracy: 0.5229 - val_loss: 2.7971 - val_accuracy: 0.3526\n",
            "Epoch 5/15\n",
            "200/200 [==============================] - 81s 407ms/step - loss: 1.8056 - accuracy: 0.5302 - val_loss: 2.8082 - val_accuracy: 0.3545\n",
            "Epoch 6/15\n",
            "200/200 [==============================] - 81s 407ms/step - loss: 1.7736 - accuracy: 0.5380 - val_loss: 2.5184 - val_accuracy: 0.3994\n",
            "Epoch 7/15\n",
            "200/200 [==============================] - 81s 407ms/step - loss: 1.7638 - accuracy: 0.5461 - val_loss: 2.6956 - val_accuracy: 0.3789\n",
            "Epoch 8/15\n",
            "200/200 [==============================] - 81s 406ms/step - loss: 1.7474 - accuracy: 0.5468 - val_loss: 2.6921 - val_accuracy: 0.3809\n",
            "Epoch 9/15\n",
            "200/200 [==============================] - 82s 408ms/step - loss: 1.7273 - accuracy: 0.5514 - val_loss: 2.6209 - val_accuracy: 0.3852\n",
            "Epoch 10/15\n",
            "200/200 [==============================] - 81s 407ms/step - loss: 1.6850 - accuracy: 0.5629 - val_loss: 2.8977 - val_accuracy: 0.3557\n",
            "Epoch 11/15\n",
            "200/200 [==============================] - 81s 407ms/step - loss: 1.6806 - accuracy: 0.5615 - val_loss: 2.8656 - val_accuracy: 0.3627\n",
            "Epoch 12/15\n",
            "200/200 [==============================] - 81s 407ms/step - loss: 1.6376 - accuracy: 0.5673 - val_loss: 2.6277 - val_accuracy: 0.3874\n",
            "Epoch 13/15\n",
            "200/200 [==============================] - 81s 406ms/step - loss: 1.6329 - accuracy: 0.5709 - val_loss: 2.6344 - val_accuracy: 0.3987\n",
            "Epoch 14/15\n",
            "200/200 [==============================] - 81s 407ms/step - loss: 1.6236 - accuracy: 0.5684 - val_loss: 2.6907 - val_accuracy: 0.3793\n",
            "Epoch 15/15\n",
            "200/200 [==============================] - 81s 407ms/step - loss: 1.5928 - accuracy: 0.5808 - val_loss: 2.7541 - val_accuracy: 0.3806\n"
          ]
        },
        {
          "output_type": "display_data",
          "data": {
            "application/javascript": [
              "\n",
              "    async function download(id, filename, size) {\n",
              "      if (!google.colab.kernel.accessAllowed) {\n",
              "        return;\n",
              "      }\n",
              "      const div = document.createElement('div');\n",
              "      const label = document.createElement('label');\n",
              "      label.textContent = `Downloading \"${filename}\": `;\n",
              "      div.appendChild(label);\n",
              "      const progress = document.createElement('progress');\n",
              "      progress.max = size;\n",
              "      div.appendChild(progress);\n",
              "      document.body.appendChild(div);\n",
              "\n",
              "      const buffers = [];\n",
              "      let downloaded = 0;\n",
              "\n",
              "      const channel = await google.colab.kernel.comms.open(id);\n",
              "      // Send a message to notify the kernel that we're ready.\n",
              "      channel.send({})\n",
              "\n",
              "      for await (const message of channel.messages) {\n",
              "        // Send a message to notify the kernel that we're ready.\n",
              "        channel.send({})\n",
              "        if (message.buffers) {\n",
              "          for (const buffer of message.buffers) {\n",
              "            buffers.push(buffer);\n",
              "            downloaded += buffer.byteLength;\n",
              "            progress.value = downloaded;\n",
              "          }\n",
              "        }\n",
              "      }\n",
              "      const blob = new Blob(buffers, {type: 'application/binary'});\n",
              "      const a = document.createElement('a');\n",
              "      a.href = window.URL.createObjectURL(blob);\n",
              "      a.download = filename;\n",
              "      div.appendChild(a);\n",
              "      a.click();\n",
              "      div.remove();\n",
              "    }\n",
              "  "
            ],
            "text/plain": [
              "<IPython.core.display.Javascript object>"
            ]
          },
          "metadata": {}
        },
        {
          "output_type": "display_data",
          "data": {
            "application/javascript": [
              "download(\"download_ef1d149f-aba2-479d-a0cd-991cfd186afb\", \"mhistory5.csv\", 1196)"
            ],
            "text/plain": [
              "<IPython.core.display.Javascript object>"
            ]
          },
          "metadata": {}
        }
      ]
    },
    {
      "cell_type": "markdown",
      "metadata": {
        "id": "H0bnEZ6HTnfF"
      },
      "source": [
        "## Image Augmentation"
      ]
    },
    {
      "cell_type": "code",
      "execution_count": 28,
      "metadata": {
        "id": "PWsaA-MNTlMH"
      },
      "outputs": [],
      "source": [
        "from imgaug import augmenters as iaa\n",
        "\n",
        "seq = iaa.SomeOf((0, None), [\n",
        "                             iaa.Affine(scale=(0.5, 1.5)), \n",
        "                             iaa.Affine(rotate=20),\n",
        "                             iaa.CoarseDropout((0.0, 0.2), \n",
        "                             size_percent=(0.05, 0.07)), \n",
        "                             iaa.AdditiveGaussianNoise(scale=0.05*255), \n",
        "                             iaa.CropAndPad(percent=(-0.25, 0.25))\n",
        "     ])\n",
        "\n",
        "train_datagen = ImageDataGenerator(preprocessing_function=seq.augment_image, rescale=1./255)\n",
        "\n",
        "valid_datagen = ImageDataGenerator(rescale=1./255)"
      ]
    },
    {
      "cell_type": "code",
      "execution_count": 29,
      "metadata": {
        "colab": {
          "base_uri": "https://localhost:8080/"
        },
        "id": "pSutNyFPsPRF",
        "outputId": "c27b84c2-4b1f-46b8-e5cf-af09d7720500"
      },
      "outputs": [
        {
          "output_type": "stream",
          "name": "stdout",
          "text": [
            "Found 100000 images belonging to 200 classes.\n",
            "Found 10000 validated image filenames belonging to 200 classes.\n"
          ]
        }
      ],
      "source": [
        "train_generator = train_datagen.flow_from_directory( r'./tiny-imagenet-200/train/', target_size=(64, 64), color_mode='rgb', \n",
        "                                                    batch_size=64, class_mode='categorical', shuffle=True, seed=42)\n",
        "\n",
        "validation_generator = valid_datagen.flow_from_dataframe(val_data, directory='./tiny-imagenet-200/val/images/', x_col='File', y_col='Class', target_size=(64, 64),\n",
        "                                                    color_mode='rgb', class_mode='categorical', batch_size=64, shuffle=True, seed=42)"
      ]
    },
    {
      "cell_type": "code",
      "execution_count": 30,
      "metadata": {
        "colab": {
          "base_uri": "https://localhost:8080/",
          "height": 1000
        },
        "id": "iL_DvkO9vgcM",
        "outputId": "c101285b-33d3-4aea-ce4a-ef1b5838120f"
      },
      "outputs": [
        {
          "output_type": "stream",
          "name": "stdout",
          "text": [
            "Epoch 1/30\n",
            "200/200 [==============================] - 102s 504ms/step - loss: 3.3318 - accuracy: 0.2747 - val_loss: 4.3835 - val_accuracy: 0.2430\n",
            "Epoch 2/30\n",
            "200/200 [==============================] - 99s 494ms/step - loss: 2.9705 - accuracy: 0.3127 - val_loss: 3.3310 - val_accuracy: 0.2978\n",
            "Epoch 3/30\n",
            "200/200 [==============================] - 98s 490ms/step - loss: 2.8707 - accuracy: 0.3286 - val_loss: 2.9827 - val_accuracy: 0.3458\n",
            "Epoch 4/30\n",
            "200/200 [==============================] - 102s 509ms/step - loss: 2.8133 - accuracy: 0.3381 - val_loss: 2.8623 - val_accuracy: 0.3537\n",
            "Epoch 5/30\n",
            "200/200 [==============================] - 99s 492ms/step - loss: 2.7766 - accuracy: 0.3462 - val_loss: 2.9967 - val_accuracy: 0.3356\n",
            "Epoch 6/30\n",
            "200/200 [==============================] - 98s 490ms/step - loss: 2.7260 - accuracy: 0.3559 - val_loss: 2.9360 - val_accuracy: 0.3422\n",
            "Epoch 7/30\n",
            "200/200 [==============================] - 98s 489ms/step - loss: 2.7027 - accuracy: 0.3566 - val_loss: 2.9674 - val_accuracy: 0.3350\n",
            "Epoch 8/30\n",
            "200/200 [==============================] - 98s 489ms/step - loss: 2.6619 - accuracy: 0.3670 - val_loss: 2.8773 - val_accuracy: 0.3546\n",
            "Epoch 9/30\n",
            "200/200 [==============================] - 98s 489ms/step - loss: 2.6484 - accuracy: 0.3669 - val_loss: 2.8553 - val_accuracy: 0.3496\n",
            "Epoch 10/30\n",
            "200/200 [==============================] - 97s 487ms/step - loss: 2.6153 - accuracy: 0.3748 - val_loss: 2.8081 - val_accuracy: 0.3635\n",
            "Epoch 11/30\n",
            "200/200 [==============================] - 98s 490ms/step - loss: 2.6221 - accuracy: 0.3742 - val_loss: 2.9249 - val_accuracy: 0.3573\n",
            "Epoch 12/30\n",
            "200/200 [==============================] - 97s 486ms/step - loss: 2.5883 - accuracy: 0.3823 - val_loss: 2.8412 - val_accuracy: 0.3550\n",
            "Epoch 13/30\n",
            "200/200 [==============================] - 98s 491ms/step - loss: 2.5772 - accuracy: 0.3819 - val_loss: 2.9969 - val_accuracy: 0.3353\n",
            "Epoch 14/30\n",
            "200/200 [==============================] - 98s 490ms/step - loss: 2.6018 - accuracy: 0.3871 - val_loss: 2.7706 - val_accuracy: 0.3686\n",
            "Epoch 15/30\n",
            "200/200 [==============================] - 98s 488ms/step - loss: 2.5713 - accuracy: 0.3844 - val_loss: 2.8848 - val_accuracy: 0.3520\n",
            "Epoch 16/30\n",
            "200/200 [==============================] - 98s 487ms/step - loss: 2.5775 - accuracy: 0.3818 - val_loss: 2.6516 - val_accuracy: 0.3761\n",
            "Epoch 17/30\n",
            "200/200 [==============================] - 98s 490ms/step - loss: 2.5549 - accuracy: 0.3832 - val_loss: 2.8388 - val_accuracy: 0.3581\n",
            "Epoch 18/30\n",
            "200/200 [==============================] - 97s 486ms/step - loss: 2.5373 - accuracy: 0.3868 - val_loss: 3.0040 - val_accuracy: 0.3449\n",
            "Epoch 19/30\n",
            "200/200 [==============================] - 98s 490ms/step - loss: 2.5414 - accuracy: 0.3823 - val_loss: 2.7485 - val_accuracy: 0.3638\n",
            "Epoch 20/30\n",
            "200/200 [==============================] - 98s 491ms/step - loss: 2.5005 - accuracy: 0.3977 - val_loss: 2.8511 - val_accuracy: 0.3670\n",
            "Epoch 21/30\n",
            "200/200 [==============================] - 98s 488ms/step - loss: 2.4954 - accuracy: 0.3936 - val_loss: 2.7366 - val_accuracy: 0.3523\n",
            "Epoch 22/30\n",
            "200/200 [==============================] - 98s 488ms/step - loss: 2.5139 - accuracy: 0.3934 - val_loss: 2.5418 - val_accuracy: 0.4003\n",
            "Epoch 23/30\n",
            "200/200 [==============================] - 97s 485ms/step - loss: 2.5130 - accuracy: 0.3986 - val_loss: 2.5280 - val_accuracy: 0.4034\n",
            "Epoch 24/30\n",
            "200/200 [==============================] - 97s 486ms/step - loss: 2.5244 - accuracy: 0.3954 - val_loss: 2.7452 - val_accuracy: 0.3733\n",
            "Epoch 25/30\n",
            "200/200 [==============================] - 97s 486ms/step - loss: 2.4748 - accuracy: 0.4059 - val_loss: 2.6549 - val_accuracy: 0.3803\n",
            "Epoch 26/30\n",
            "200/200 [==============================] - 98s 490ms/step - loss: 2.4711 - accuracy: 0.3995 - val_loss: 2.6327 - val_accuracy: 0.3976\n",
            "Epoch 27/30\n",
            "200/200 [==============================] - 98s 491ms/step - loss: 2.4715 - accuracy: 0.4004 - val_loss: 2.5777 - val_accuracy: 0.3964\n",
            "Epoch 28/30\n",
            "200/200 [==============================] - 98s 487ms/step - loss: 2.4850 - accuracy: 0.3966 - val_loss: 2.8593 - val_accuracy: 0.3579\n",
            "Epoch 29/30\n",
            "200/200 [==============================] - 98s 488ms/step - loss: 2.4752 - accuracy: 0.4046 - val_loss: 2.6222 - val_accuracy: 0.3979\n",
            "Epoch 30/30\n",
            "200/200 [==============================] - 98s 491ms/step - loss: 2.4583 - accuracy: 0.4052 - val_loss: 2.6582 - val_accuracy: 0.3847\n"
          ]
        },
        {
          "output_type": "display_data",
          "data": {
            "application/javascript": [
              "\n",
              "    async function download(id, filename, size) {\n",
              "      if (!google.colab.kernel.accessAllowed) {\n",
              "        return;\n",
              "      }\n",
              "      const div = document.createElement('div');\n",
              "      const label = document.createElement('label');\n",
              "      label.textContent = `Downloading \"${filename}\": `;\n",
              "      div.appendChild(label);\n",
              "      const progress = document.createElement('progress');\n",
              "      progress.max = size;\n",
              "      div.appendChild(progress);\n",
              "      document.body.appendChild(div);\n",
              "\n",
              "      const buffers = [];\n",
              "      let downloaded = 0;\n",
              "\n",
              "      const channel = await google.colab.kernel.comms.open(id);\n",
              "      // Send a message to notify the kernel that we're ready.\n",
              "      channel.send({})\n",
              "\n",
              "      for await (const message of channel.messages) {\n",
              "        // Send a message to notify the kernel that we're ready.\n",
              "        channel.send({})\n",
              "        if (message.buffers) {\n",
              "          for (const buffer of message.buffers) {\n",
              "            buffers.push(buffer);\n",
              "            downloaded += buffer.byteLength;\n",
              "            progress.value = downloaded;\n",
              "          }\n",
              "        }\n",
              "      }\n",
              "      const blob = new Blob(buffers, {type: 'application/binary'});\n",
              "      const a = document.createElement('a');\n",
              "      a.href = window.URL.createObjectURL(blob);\n",
              "      a.download = filename;\n",
              "      div.appendChild(a);\n",
              "      a.click();\n",
              "      div.remove();\n",
              "    }\n",
              "  "
            ],
            "text/plain": [
              "<IPython.core.display.Javascript object>"
            ]
          },
          "metadata": {}
        },
        {
          "output_type": "display_data",
          "data": {
            "application/javascript": [
              "download(\"download_edac2abc-678c-4c31-80d9-0d29f03115a4\", \"mhistory6.csv\", 2378)"
            ],
            "text/plain": [
              "<IPython.core.display.Javascript object>"
            ]
          },
          "metadata": {}
        }
      ],
      "source": [
        "model = load_model('/content/drive/My Drive/4040_final_project/Colab Notebooks/Saved Modified Models_1_1/Model1_5.h5')\n",
        "\n",
        "history6 = model.fit(train_generator, \n",
        "                     epochs=30, \n",
        "                     steps_per_epoch=200, \n",
        "                     validation_data=validation_generator)\n",
        "\n",
        "model.save('/content/drive/My Drive/4040_final_project/Colab Notebooks/Saved Modified Models_1_1/Model1_6.h5')\n",
        "\n",
        "df = pd.DataFrame(history6.history)\n",
        "df.to_csv('mhistory6.csv')\n",
        "files.download('mhistory6.csv')"
      ]
    },
    {
      "cell_type": "code",
      "source": [
        "model = load_model('/content/drive/My Drive/4040_final_project/Colab Notebooks/Saved Modified Models_1_1/Model1_6.h5')\n",
        "\n",
        "history7 = model.fit(train_generator, \n",
        "                     epochs=30, \n",
        "                     steps_per_epoch=200, \n",
        "                     validation_data=validation_generator)\n",
        "\n",
        "model.save('/content/drive/My Drive/4040_final_project/Colab Notebooks/Saved Modified Models_1_1/Model1_7.h5')\n",
        "\n",
        "df = pd.DataFrame(history7.history)\n",
        "df.to_csv('mhistory7.csv')\n",
        "files.download('mhistory7.csv')"
      ],
      "metadata": {
        "colab": {
          "base_uri": "https://localhost:8080/",
          "height": 1000
        },
        "id": "eBpDwDHElQhJ",
        "outputId": "e9555289-93a6-4736-a67d-20facf7b11b2"
      },
      "execution_count": 31,
      "outputs": [
        {
          "output_type": "stream",
          "name": "stdout",
          "text": [
            "Epoch 1/30\n",
            "200/200 [==============================] - 99s 491ms/step - loss: 2.4519 - accuracy: 0.4040 - val_loss: 2.8877 - val_accuracy: 0.3529\n",
            "Epoch 2/30\n",
            "200/200 [==============================] - 98s 490ms/step - loss: 2.4292 - accuracy: 0.4118 - val_loss: 2.6619 - val_accuracy: 0.3885\n",
            "Epoch 3/30\n",
            "200/200 [==============================] - 98s 488ms/step - loss: 2.4031 - accuracy: 0.4185 - val_loss: 2.6930 - val_accuracy: 0.3799\n",
            "Epoch 4/30\n",
            "200/200 [==============================] - 98s 488ms/step - loss: 2.4278 - accuracy: 0.4120 - val_loss: 2.7189 - val_accuracy: 0.3852\n",
            "Epoch 5/30\n",
            "200/200 [==============================] - 98s 487ms/step - loss: 2.4103 - accuracy: 0.4146 - val_loss: 2.6303 - val_accuracy: 0.3923\n",
            "Epoch 6/30\n",
            "200/200 [==============================] - 98s 491ms/step - loss: 2.4402 - accuracy: 0.4096 - val_loss: 2.7210 - val_accuracy: 0.3815\n",
            "Epoch 7/30\n",
            "200/200 [==============================] - 98s 488ms/step - loss: 2.4228 - accuracy: 0.4115 - val_loss: 2.5411 - val_accuracy: 0.4067\n",
            "Epoch 8/30\n",
            "200/200 [==============================] - 97s 487ms/step - loss: 2.4168 - accuracy: 0.4152 - val_loss: 2.6691 - val_accuracy: 0.3861\n",
            "Epoch 9/30\n",
            "200/200 [==============================] - 97s 484ms/step - loss: 2.3850 - accuracy: 0.4194 - val_loss: 2.6158 - val_accuracy: 0.3947\n",
            "Epoch 10/30\n",
            "200/200 [==============================] - 98s 490ms/step - loss: 2.3719 - accuracy: 0.4189 - val_loss: 2.7493 - val_accuracy: 0.3805\n",
            "Epoch 11/30\n",
            "200/200 [==============================] - 98s 487ms/step - loss: 2.4093 - accuracy: 0.4137 - val_loss: 2.8509 - val_accuracy: 0.3593\n",
            "Epoch 12/30\n",
            "200/200 [==============================] - 98s 489ms/step - loss: 2.3980 - accuracy: 0.4115 - val_loss: 2.7114 - val_accuracy: 0.3730\n",
            "Epoch 13/30\n",
            "200/200 [==============================] - 98s 488ms/step - loss: 2.3757 - accuracy: 0.4176 - val_loss: 2.7776 - val_accuracy: 0.3686\n",
            "Epoch 14/30\n",
            "200/200 [==============================] - 98s 491ms/step - loss: 2.3517 - accuracy: 0.4263 - val_loss: 2.7725 - val_accuracy: 0.3812\n",
            "Epoch 15/30\n",
            "200/200 [==============================] - 98s 487ms/step - loss: 2.3758 - accuracy: 0.4237 - val_loss: 2.6460 - val_accuracy: 0.3830\n",
            "Epoch 16/30\n",
            "200/200 [==============================] - 98s 491ms/step - loss: 2.3301 - accuracy: 0.4280 - val_loss: 2.4749 - val_accuracy: 0.4115\n",
            "Epoch 17/30\n",
            "200/200 [==============================] - 98s 489ms/step - loss: 2.3298 - accuracy: 0.4289 - val_loss: 2.4464 - val_accuracy: 0.4246\n",
            "Epoch 18/30\n",
            "200/200 [==============================] - 98s 489ms/step - loss: 2.3287 - accuracy: 0.4305 - val_loss: 2.7704 - val_accuracy: 0.3714\n",
            "Epoch 19/30\n",
            "200/200 [==============================] - 98s 489ms/step - loss: 2.3735 - accuracy: 0.4229 - val_loss: 2.7379 - val_accuracy: 0.3810\n",
            "Epoch 20/30\n",
            "200/200 [==============================] - 98s 491ms/step - loss: 2.3589 - accuracy: 0.4230 - val_loss: 2.7870 - val_accuracy: 0.3758\n",
            "Epoch 21/30\n",
            "200/200 [==============================] - 97s 485ms/step - loss: 2.3163 - accuracy: 0.4357 - val_loss: 2.7849 - val_accuracy: 0.3765\n",
            "Epoch 22/30\n",
            "200/200 [==============================] - 98s 491ms/step - loss: 2.3537 - accuracy: 0.4262 - val_loss: 2.5322 - val_accuracy: 0.4021\n",
            "Epoch 23/30\n",
            "200/200 [==============================] - 98s 487ms/step - loss: 2.3252 - accuracy: 0.4266 - val_loss: 2.4727 - val_accuracy: 0.4137\n",
            "Epoch 24/30\n",
            "200/200 [==============================] - 98s 490ms/step - loss: 2.3433 - accuracy: 0.4316 - val_loss: 2.6029 - val_accuracy: 0.3951\n",
            "Epoch 25/30\n",
            "200/200 [==============================] - 98s 490ms/step - loss: 2.3076 - accuracy: 0.4338 - val_loss: 2.6522 - val_accuracy: 0.3881\n",
            "Epoch 26/30\n",
            "200/200 [==============================] - 98s 490ms/step - loss: 2.3042 - accuracy: 0.4341 - val_loss: 2.5999 - val_accuracy: 0.4024\n",
            "Epoch 27/30\n",
            "200/200 [==============================] - 98s 490ms/step - loss: 2.3102 - accuracy: 0.4353 - val_loss: 2.6765 - val_accuracy: 0.3848\n",
            "Epoch 28/30\n",
            "200/200 [==============================] - 98s 490ms/step - loss: 2.3137 - accuracy: 0.4350 - val_loss: 2.7083 - val_accuracy: 0.3802\n",
            "Epoch 29/30\n",
            "200/200 [==============================] - 98s 490ms/step - loss: 2.2777 - accuracy: 0.4481 - val_loss: 2.5016 - val_accuracy: 0.4184\n",
            "Epoch 30/30\n",
            "200/200 [==============================] - 98s 491ms/step - loss: 2.2691 - accuracy: 0.4409 - val_loss: 2.5779 - val_accuracy: 0.4052\n"
          ]
        },
        {
          "output_type": "display_data",
          "data": {
            "application/javascript": [
              "\n",
              "    async function download(id, filename, size) {\n",
              "      if (!google.colab.kernel.accessAllowed) {\n",
              "        return;\n",
              "      }\n",
              "      const div = document.createElement('div');\n",
              "      const label = document.createElement('label');\n",
              "      label.textContent = `Downloading \"${filename}\": `;\n",
              "      div.appendChild(label);\n",
              "      const progress = document.createElement('progress');\n",
              "      progress.max = size;\n",
              "      div.appendChild(progress);\n",
              "      document.body.appendChild(div);\n",
              "\n",
              "      const buffers = [];\n",
              "      let downloaded = 0;\n",
              "\n",
              "      const channel = await google.colab.kernel.comms.open(id);\n",
              "      // Send a message to notify the kernel that we're ready.\n",
              "      channel.send({})\n",
              "\n",
              "      for await (const message of channel.messages) {\n",
              "        // Send a message to notify the kernel that we're ready.\n",
              "        channel.send({})\n",
              "        if (message.buffers) {\n",
              "          for (const buffer of message.buffers) {\n",
              "            buffers.push(buffer);\n",
              "            downloaded += buffer.byteLength;\n",
              "            progress.value = downloaded;\n",
              "          }\n",
              "        }\n",
              "      }\n",
              "      const blob = new Blob(buffers, {type: 'application/binary'});\n",
              "      const a = document.createElement('a');\n",
              "      a.href = window.URL.createObjectURL(blob);\n",
              "      a.download = filename;\n",
              "      div.appendChild(a);\n",
              "      a.click();\n",
              "      div.remove();\n",
              "    }\n",
              "  "
            ],
            "text/plain": [
              "<IPython.core.display.Javascript object>"
            ]
          },
          "metadata": {}
        },
        {
          "output_type": "display_data",
          "data": {
            "application/javascript": [
              "download(\"download_40303920-92aa-4c35-86b9-3f0c139020b0\", \"mhistory7.csv\", 2397)"
            ],
            "text/plain": [
              "<IPython.core.display.Javascript object>"
            ]
          },
          "metadata": {}
        }
      ]
    },
    {
      "cell_type": "markdown",
      "source": [
        "## Evaluation"
      ],
      "metadata": {
        "id": "FxBxLFvU7Ju-"
      }
    },
    {
      "cell_type": "code",
      "source": [
        "valid_datagen = ImageDataGenerator(rescale=1./255)\n",
        "validation_generator = valid_datagen.flow_from_dataframe(val_data, directory='./tiny-imagenet-200/val/images/', x_col='File', y_col='Class', target_size=(64, 64),\n",
        "                                                    color_mode='rgb', class_mode='categorical', batch_size=64, shuffle=True, seed=42)"
      ],
      "metadata": {
        "colab": {
          "base_uri": "https://localhost:8080/"
        },
        "id": "FposVMQl7CPQ",
        "outputId": "8e3f59b1-59fc-400c-88a9-ec8e802bdd22"
      },
      "execution_count": 32,
      "outputs": [
        {
          "output_type": "stream",
          "name": "stdout",
          "text": [
            "Found 10000 validated image filenames belonging to 200 classes.\n"
          ]
        }
      ]
    },
    {
      "cell_type": "code",
      "source": [
        "model = load_model('/content/drive/My Drive/4040_final_project/Colab Notebooks/Saved Modified Models_1_1/Model1_7.h5')\n",
        "\n",
        "validation_steps_per_epoch = np.math.ceil(validation_generator.samples / validation_generator.batch_size)\n",
        "\n",
        "score = model.evaluate(validation_generator)\n",
        "print('Test loss:', score[0])\n",
        "print('Test accuracy:', score[1])"
      ],
      "metadata": {
        "colab": {
          "base_uri": "https://localhost:8080/"
        },
        "id": "InRatHYYq2lU",
        "outputId": "6b62821c-5da1-4d0a-cac7-64b011553417"
      },
      "execution_count": 34,
      "outputs": [
        {
          "output_type": "stream",
          "name": "stdout",
          "text": [
            "157/157 [==============================] - 18s 109ms/step - loss: 2.5779 - accuracy: 0.4052\n",
            "Test loss: 2.5779263973236084\n",
            "Test accuracy: 0.4052000045776367\n"
          ]
        }
      ]
    },
    {
      "cell_type": "code",
      "source": [
        ""
      ],
      "metadata": {
        "id": "N-8mc2_d7THt"
      },
      "execution_count": null,
      "outputs": []
    }
  ],
  "metadata": {
    "accelerator": "GPU",
    "colab": {
      "name": "Modified_model1.ipynb",
      "provenance": []
    },
    "kernelspec": {
      "display_name": "Python 3",
      "name": "python3"
    },
    "language_info": {
      "name": "python"
    }
  },
  "nbformat": 4,
  "nbformat_minor": 0
}